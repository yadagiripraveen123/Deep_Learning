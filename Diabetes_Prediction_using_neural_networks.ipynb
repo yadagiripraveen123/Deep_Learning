{
 "cells": [
  {
   "cell_type": "markdown",
   "id": "d7369865",
   "metadata": {},
   "source": [
    "<div style=\"background-color:#1A237E;color:#FFEB3B;padding:20px;border:1px solid #3F51B5;text-align:center;\">\n",
    "<p><font size=\"14\" color=#FFF9C4 face=\"Lora\"><i> Diabetes Prediction (Healthcare Domain) </i></font> </p>\n",
    "</div>"
   ]
  },
  {
   "cell_type": "markdown",
   "id": "41f5daf7",
   "metadata": {},
   "source": [
    "## Features\n",
    "- **`1.Age:`** The risk of developing diabetes increases as individuals grow older. This can be attributed to factors such as decreased physical activity, hormonal changes, and a higher likelihood of developing other health conditions that contribute to diabetes.\n",
    "\n",
    "- **`2.Gender:`** Gender can influence diabetes risk, though the impact may vary. Women with a history of gestational diabetes (diabetes during pregnancy) are at a higher risk of developing type 2 diabetes later in life. Some studies also suggest that men may have a slightly higher risk of diabetes compared to women.\n",
    "\n",
    "- **`3.Body Mass Index (BMI):`**  BMI, a measure of body fat based on height and weight, serves as an indicator of diabetes risk. Higher BMI is associated with an increased likelihood of developing type 2 diabetes. Excessive body fat, particularly around the waist, can lead to insulin resistance, impairing the body's ability to regulate blood sugar levels.\n",
    "\n",
    "- **`4.Hypertension:`**  Hypertension, or high blood pressure, often coexists with diabetes. These conditions share common risk factors and can contribute to each other's development. Having hypertension increases the risk of developing type 2 diabetes, and vice versa. Both conditions can adversely affect cardiovascular health.\n",
    "\n",
    "- **`5.Heart Disease:`**  Heart disease, encompassing conditions like coronary artery disease and heart failure, is linked to an elevated risk of diabetes. The relationship between heart disease and diabetes is bidirectional, meaning having one condition increases the risk of developing the other. Shared risk factors such as obesity, high blood pressure, and high cholesterol contribute to this association.\n",
    "\n",
    "- **`6.Smoking History:`**  Smoking is a modifiable risk factor for diabetes. Cigarette smoking raises the risk of developing type 2 diabetes. Smoking contributes to insulin resistance and impairs glucose metabolism. Quitting smoking significantly reduces the risk of diabetes and its complications.\n",
    "\n",
    "- **`7.HbA1c Level:`**  HbA1c (glycated hemoglobin) reflects average blood glucose levels over the past 2-3 months. Higher HbA1c levels indicate poorer long-term blood sugar control and are associated with an increased risk of developing diabetes and its complications.\n",
    "\n",
    "- **`8.Blood Glucose Level:`**  Blood glucose level refers to the amount of sugar present in the blood at a given time. Elevated blood glucose levels, especially during fasting or after consuming carbohydrates, indicate impaired glucose regulation and heighten the risk of developing diabetes. Regular monitoring of blood glucose levels is crucial for diabetes diagnosis and management."
   ]
  },
  {
   "cell_type": "markdown",
   "id": "5e02c736",
   "metadata": {},
   "source": [
    "## *`Importing the Required Libraries`*"
   ]
  },
  {
   "cell_type": "code",
   "execution_count": 1,
   "id": "aeaeaf2f",
   "metadata": {
    "ExecuteTime": {
     "end_time": "2023-09-18T10:44:03.153277Z",
     "start_time": "2023-09-18T10:43:59.603526Z"
    }
   },
   "outputs": [],
   "source": [
    "import numpy as np\n",
    "import pandas as pd\n",
    "\n",
    "import matplotlib.pyplot as plt\n",
    "import seaborn as sns\n",
    "\n",
    "from IPython.core.interactiveshell import InteractiveShell\n",
    "InteractiveShell.ast_node_interactivity = 'all'\n",
    "\n",
    "import warnings\n",
    "warnings.filterwarnings('ignore')"
   ]
  },
  {
   "cell_type": "code",
   "execution_count": 2,
   "id": "8a125e28",
   "metadata": {
    "ExecuteTime": {
     "end_time": "2023-09-18T10:44:03.294223Z",
     "start_time": "2023-09-18T10:44:03.155327Z"
    }
   },
   "outputs": [],
   "source": [
    "# Loading the diabetes database.\n",
    "diabetes = pd.read_csv(r\"D:\\Data\\Machine_Learning\\diabetes_dataset.csv\")"
   ]
  },
  {
   "cell_type": "code",
   "execution_count": 3,
   "id": "0c039f3f",
   "metadata": {
    "ExecuteTime": {
     "end_time": "2023-09-18T10:44:03.324953Z",
     "start_time": "2023-09-18T10:44:03.296815Z"
    }
   },
   "outputs": [
    {
     "data": {
      "text/html": [
       "<div>\n",
       "<style scoped>\n",
       "    .dataframe tbody tr th:only-of-type {\n",
       "        vertical-align: middle;\n",
       "    }\n",
       "\n",
       "    .dataframe tbody tr th {\n",
       "        vertical-align: top;\n",
       "    }\n",
       "\n",
       "    .dataframe thead th {\n",
       "        text-align: right;\n",
       "    }\n",
       "</style>\n",
       "<table border=\"1\" class=\"dataframe\">\n",
       "  <thead>\n",
       "    <tr style=\"text-align: right;\">\n",
       "      <th></th>\n",
       "      <th>gender</th>\n",
       "      <th>age</th>\n",
       "      <th>hypertension</th>\n",
       "      <th>heart_disease</th>\n",
       "      <th>smoking_history</th>\n",
       "      <th>bmi</th>\n",
       "      <th>HbA1c_level</th>\n",
       "      <th>blood_glucose_level</th>\n",
       "      <th>diabetes</th>\n",
       "    </tr>\n",
       "  </thead>\n",
       "  <tbody>\n",
       "    <tr>\n",
       "      <th>0</th>\n",
       "      <td>Female</td>\n",
       "      <td>80.0</td>\n",
       "      <td>0</td>\n",
       "      <td>1</td>\n",
       "      <td>never</td>\n",
       "      <td>25.19</td>\n",
       "      <td>6.6</td>\n",
       "      <td>140</td>\n",
       "      <td>0</td>\n",
       "    </tr>\n",
       "    <tr>\n",
       "      <th>1</th>\n",
       "      <td>Female</td>\n",
       "      <td>54.0</td>\n",
       "      <td>0</td>\n",
       "      <td>0</td>\n",
       "      <td>No Info</td>\n",
       "      <td>27.32</td>\n",
       "      <td>6.6</td>\n",
       "      <td>80</td>\n",
       "      <td>0</td>\n",
       "    </tr>\n",
       "    <tr>\n",
       "      <th>2</th>\n",
       "      <td>Male</td>\n",
       "      <td>28.0</td>\n",
       "      <td>0</td>\n",
       "      <td>0</td>\n",
       "      <td>never</td>\n",
       "      <td>27.32</td>\n",
       "      <td>5.7</td>\n",
       "      <td>158</td>\n",
       "      <td>0</td>\n",
       "    </tr>\n",
       "    <tr>\n",
       "      <th>3</th>\n",
       "      <td>Female</td>\n",
       "      <td>36.0</td>\n",
       "      <td>0</td>\n",
       "      <td>0</td>\n",
       "      <td>current</td>\n",
       "      <td>23.45</td>\n",
       "      <td>5.0</td>\n",
       "      <td>155</td>\n",
       "      <td>0</td>\n",
       "    </tr>\n",
       "    <tr>\n",
       "      <th>4</th>\n",
       "      <td>Male</td>\n",
       "      <td>76.0</td>\n",
       "      <td>1</td>\n",
       "      <td>1</td>\n",
       "      <td>current</td>\n",
       "      <td>20.14</td>\n",
       "      <td>4.8</td>\n",
       "      <td>155</td>\n",
       "      <td>0</td>\n",
       "    </tr>\n",
       "    <tr>\n",
       "      <th>5</th>\n",
       "      <td>Female</td>\n",
       "      <td>20.0</td>\n",
       "      <td>0</td>\n",
       "      <td>0</td>\n",
       "      <td>never</td>\n",
       "      <td>27.32</td>\n",
       "      <td>6.6</td>\n",
       "      <td>85</td>\n",
       "      <td>0</td>\n",
       "    </tr>\n",
       "    <tr>\n",
       "      <th>6</th>\n",
       "      <td>Female</td>\n",
       "      <td>44.0</td>\n",
       "      <td>0</td>\n",
       "      <td>0</td>\n",
       "      <td>never</td>\n",
       "      <td>19.31</td>\n",
       "      <td>6.5</td>\n",
       "      <td>200</td>\n",
       "      <td>1</td>\n",
       "    </tr>\n",
       "    <tr>\n",
       "      <th>7</th>\n",
       "      <td>Female</td>\n",
       "      <td>79.0</td>\n",
       "      <td>0</td>\n",
       "      <td>0</td>\n",
       "      <td>No Info</td>\n",
       "      <td>23.86</td>\n",
       "      <td>5.7</td>\n",
       "      <td>85</td>\n",
       "      <td>0</td>\n",
       "    </tr>\n",
       "    <tr>\n",
       "      <th>8</th>\n",
       "      <td>Male</td>\n",
       "      <td>42.0</td>\n",
       "      <td>0</td>\n",
       "      <td>0</td>\n",
       "      <td>never</td>\n",
       "      <td>33.64</td>\n",
       "      <td>4.8</td>\n",
       "      <td>145</td>\n",
       "      <td>0</td>\n",
       "    </tr>\n",
       "    <tr>\n",
       "      <th>9</th>\n",
       "      <td>Female</td>\n",
       "      <td>32.0</td>\n",
       "      <td>0</td>\n",
       "      <td>0</td>\n",
       "      <td>never</td>\n",
       "      <td>27.32</td>\n",
       "      <td>5.0</td>\n",
       "      <td>100</td>\n",
       "      <td>0</td>\n",
       "    </tr>\n",
       "  </tbody>\n",
       "</table>\n",
       "</div>"
      ],
      "text/plain": [
       "   gender   age  hypertension  heart_disease smoking_history    bmi  \\\n",
       "0  Female  80.0             0              1           never  25.19   \n",
       "1  Female  54.0             0              0         No Info  27.32   \n",
       "2    Male  28.0             0              0           never  27.32   \n",
       "3  Female  36.0             0              0         current  23.45   \n",
       "4    Male  76.0             1              1         current  20.14   \n",
       "5  Female  20.0             0              0           never  27.32   \n",
       "6  Female  44.0             0              0           never  19.31   \n",
       "7  Female  79.0             0              0         No Info  23.86   \n",
       "8    Male  42.0             0              0           never  33.64   \n",
       "9  Female  32.0             0              0           never  27.32   \n",
       "\n",
       "   HbA1c_level  blood_glucose_level  diabetes  \n",
       "0          6.6                  140         0  \n",
       "1          6.6                   80         0  \n",
       "2          5.7                  158         0  \n",
       "3          5.0                  155         0  \n",
       "4          4.8                  155         0  \n",
       "5          6.6                   85         0  \n",
       "6          6.5                  200         1  \n",
       "7          5.7                   85         0  \n",
       "8          4.8                  145         0  \n",
       "9          5.0                  100         0  "
      ]
     },
     "execution_count": 3,
     "metadata": {},
     "output_type": "execute_result"
    }
   ],
   "source": [
    "diabetes.head(10)# Checking the head of the dataframe"
   ]
  },
  {
   "cell_type": "code",
   "execution_count": 4,
   "id": "b3487019",
   "metadata": {
    "ExecuteTime": {
     "end_time": "2023-09-18T10:44:03.403091Z",
     "start_time": "2023-09-18T10:44:03.329954Z"
    }
   },
   "outputs": [
    {
     "name": "stdout",
     "output_type": "stream",
     "text": [
      "<class 'pandas.core.frame.DataFrame'>\n",
      "RangeIndex: 100000 entries, 0 to 99999\n",
      "Data columns (total 9 columns):\n",
      " #   Column               Non-Null Count   Dtype  \n",
      "---  ------               --------------   -----  \n",
      " 0   gender               100000 non-null  object \n",
      " 1   age                  100000 non-null  float64\n",
      " 2   hypertension         100000 non-null  int64  \n",
      " 3   heart_disease        100000 non-null  int64  \n",
      " 4   smoking_history      100000 non-null  object \n",
      " 5   bmi                  100000 non-null  float64\n",
      " 6   HbA1c_level          100000 non-null  float64\n",
      " 7   blood_glucose_level  100000 non-null  int64  \n",
      " 8   diabetes             100000 non-null  int64  \n",
      "dtypes: float64(3), int64(4), object(2)\n",
      "memory usage: 6.9+ MB\n"
     ]
    }
   ],
   "source": [
    "# Checking the Info() of the dataframe.\n",
    "diabetes.info()"
   ]
  },
  {
   "cell_type": "code",
   "execution_count": 5,
   "id": "ff1e86d9",
   "metadata": {
    "ExecuteTime": {
     "end_time": "2023-09-18T10:44:03.464826Z",
     "start_time": "2023-09-18T10:44:03.405076Z"
    }
   },
   "outputs": [
    {
     "data": {
      "text/html": [
       "<div>\n",
       "<style scoped>\n",
       "    .dataframe tbody tr th:only-of-type {\n",
       "        vertical-align: middle;\n",
       "    }\n",
       "\n",
       "    .dataframe tbody tr th {\n",
       "        vertical-align: top;\n",
       "    }\n",
       "\n",
       "    .dataframe thead th {\n",
       "        text-align: right;\n",
       "    }\n",
       "</style>\n",
       "<table border=\"1\" class=\"dataframe\">\n",
       "  <thead>\n",
       "    <tr style=\"text-align: right;\">\n",
       "      <th></th>\n",
       "      <th>age</th>\n",
       "      <th>hypertension</th>\n",
       "      <th>heart_disease</th>\n",
       "      <th>bmi</th>\n",
       "      <th>HbA1c_level</th>\n",
       "      <th>blood_glucose_level</th>\n",
       "      <th>diabetes</th>\n",
       "    </tr>\n",
       "  </thead>\n",
       "  <tbody>\n",
       "    <tr>\n",
       "      <th>count</th>\n",
       "      <td>100000.000000</td>\n",
       "      <td>100000.00000</td>\n",
       "      <td>100000.000000</td>\n",
       "      <td>100000.000000</td>\n",
       "      <td>100000.000000</td>\n",
       "      <td>100000.000000</td>\n",
       "      <td>100000.000000</td>\n",
       "    </tr>\n",
       "    <tr>\n",
       "      <th>mean</th>\n",
       "      <td>41.885856</td>\n",
       "      <td>0.07485</td>\n",
       "      <td>0.039420</td>\n",
       "      <td>27.320767</td>\n",
       "      <td>5.527507</td>\n",
       "      <td>138.058060</td>\n",
       "      <td>0.085000</td>\n",
       "    </tr>\n",
       "    <tr>\n",
       "      <th>std</th>\n",
       "      <td>22.516840</td>\n",
       "      <td>0.26315</td>\n",
       "      <td>0.194593</td>\n",
       "      <td>6.636783</td>\n",
       "      <td>1.070672</td>\n",
       "      <td>40.708136</td>\n",
       "      <td>0.278883</td>\n",
       "    </tr>\n",
       "    <tr>\n",
       "      <th>min</th>\n",
       "      <td>0.080000</td>\n",
       "      <td>0.00000</td>\n",
       "      <td>0.000000</td>\n",
       "      <td>10.010000</td>\n",
       "      <td>3.500000</td>\n",
       "      <td>80.000000</td>\n",
       "      <td>0.000000</td>\n",
       "    </tr>\n",
       "    <tr>\n",
       "      <th>25%</th>\n",
       "      <td>24.000000</td>\n",
       "      <td>0.00000</td>\n",
       "      <td>0.000000</td>\n",
       "      <td>23.630000</td>\n",
       "      <td>4.800000</td>\n",
       "      <td>100.000000</td>\n",
       "      <td>0.000000</td>\n",
       "    </tr>\n",
       "    <tr>\n",
       "      <th>50%</th>\n",
       "      <td>43.000000</td>\n",
       "      <td>0.00000</td>\n",
       "      <td>0.000000</td>\n",
       "      <td>27.320000</td>\n",
       "      <td>5.800000</td>\n",
       "      <td>140.000000</td>\n",
       "      <td>0.000000</td>\n",
       "    </tr>\n",
       "    <tr>\n",
       "      <th>75%</th>\n",
       "      <td>60.000000</td>\n",
       "      <td>0.00000</td>\n",
       "      <td>0.000000</td>\n",
       "      <td>29.580000</td>\n",
       "      <td>6.200000</td>\n",
       "      <td>159.000000</td>\n",
       "      <td>0.000000</td>\n",
       "    </tr>\n",
       "    <tr>\n",
       "      <th>max</th>\n",
       "      <td>80.000000</td>\n",
       "      <td>1.00000</td>\n",
       "      <td>1.000000</td>\n",
       "      <td>95.690000</td>\n",
       "      <td>9.000000</td>\n",
       "      <td>300.000000</td>\n",
       "      <td>1.000000</td>\n",
       "    </tr>\n",
       "  </tbody>\n",
       "</table>\n",
       "</div>"
      ],
      "text/plain": [
       "                 age  hypertension  heart_disease            bmi  \\\n",
       "count  100000.000000  100000.00000  100000.000000  100000.000000   \n",
       "mean       41.885856       0.07485       0.039420      27.320767   \n",
       "std        22.516840       0.26315       0.194593       6.636783   \n",
       "min         0.080000       0.00000       0.000000      10.010000   \n",
       "25%        24.000000       0.00000       0.000000      23.630000   \n",
       "50%        43.000000       0.00000       0.000000      27.320000   \n",
       "75%        60.000000       0.00000       0.000000      29.580000   \n",
       "max        80.000000       1.00000       1.000000      95.690000   \n",
       "\n",
       "         HbA1c_level  blood_glucose_level       diabetes  \n",
       "count  100000.000000        100000.000000  100000.000000  \n",
       "mean        5.527507           138.058060       0.085000  \n",
       "std         1.070672            40.708136       0.278883  \n",
       "min         3.500000            80.000000       0.000000  \n",
       "25%         4.800000           100.000000       0.000000  \n",
       "50%         5.800000           140.000000       0.000000  \n",
       "75%         6.200000           159.000000       0.000000  \n",
       "max         9.000000           300.000000       1.000000  "
      ]
     },
     "execution_count": 5,
     "metadata": {},
     "output_type": "execute_result"
    }
   ],
   "source": [
    "# checking the descritive statistics of the data.\n",
    "diabetes.describe()"
   ]
  },
  {
   "cell_type": "code",
   "execution_count": 6,
   "id": "9cb199e3",
   "metadata": {
    "ExecuteTime": {
     "end_time": "2023-09-18T10:44:03.480036Z",
     "start_time": "2023-09-18T10:44:03.469826Z"
    }
   },
   "outputs": [
    {
     "data": {
      "text/plain": [
       "(100000, 9)"
      ]
     },
     "execution_count": 6,
     "metadata": {},
     "output_type": "execute_result"
    }
   ],
   "source": [
    "# Checking the shape of the dataframe.\n",
    "diabetes.shape"
   ]
  },
  {
   "cell_type": "markdown",
   "id": "e04da429",
   "metadata": {},
   "source": [
    "## *`Exploratory Data Analysis`*"
   ]
  },
  {
   "cell_type": "markdown",
   "id": "71ec558e",
   "metadata": {},
   "source": [
    "### *`Checking Duplicates`*"
   ]
  },
  {
   "cell_type": "code",
   "execution_count": 7,
   "id": "34cc1705",
   "metadata": {
    "ExecuteTime": {
     "end_time": "2023-09-18T10:44:03.558329Z",
     "start_time": "2023-09-18T10:44:03.483019Z"
    }
   },
   "outputs": [
    {
     "data": {
      "text/plain": [
       "False    96146\n",
       "True      3854\n",
       "dtype: int64"
      ]
     },
     "execution_count": 7,
     "metadata": {},
     "output_type": "execute_result"
    }
   ],
   "source": [
    "# Checking if any duplicates are present in the dataframe.\n",
    "diabetes.duplicated().value_counts()"
   ]
  },
  {
   "cell_type": "code",
   "execution_count": 8,
   "id": "6b3873f1",
   "metadata": {
    "ExecuteTime": {
     "end_time": "2023-09-18T10:44:03.621568Z",
     "start_time": "2023-09-18T10:44:03.562327Z"
    }
   },
   "outputs": [
    {
     "data": {
      "text/html": [
       "<div>\n",
       "<style scoped>\n",
       "    .dataframe tbody tr th:only-of-type {\n",
       "        vertical-align: middle;\n",
       "    }\n",
       "\n",
       "    .dataframe tbody tr th {\n",
       "        vertical-align: top;\n",
       "    }\n",
       "\n",
       "    .dataframe thead th {\n",
       "        text-align: right;\n",
       "    }\n",
       "</style>\n",
       "<table border=\"1\" class=\"dataframe\">\n",
       "  <thead>\n",
       "    <tr style=\"text-align: right;\">\n",
       "      <th></th>\n",
       "      <th>gender</th>\n",
       "      <th>age</th>\n",
       "      <th>hypertension</th>\n",
       "      <th>heart_disease</th>\n",
       "      <th>smoking_history</th>\n",
       "      <th>bmi</th>\n",
       "      <th>HbA1c_level</th>\n",
       "      <th>blood_glucose_level</th>\n",
       "      <th>diabetes</th>\n",
       "    </tr>\n",
       "  </thead>\n",
       "  <tbody>\n",
       "    <tr>\n",
       "      <th>2756</th>\n",
       "      <td>Male</td>\n",
       "      <td>80.0</td>\n",
       "      <td>0</td>\n",
       "      <td>0</td>\n",
       "      <td>No Info</td>\n",
       "      <td>27.32</td>\n",
       "      <td>6.6</td>\n",
       "      <td>159</td>\n",
       "      <td>0</td>\n",
       "    </tr>\n",
       "    <tr>\n",
       "      <th>3272</th>\n",
       "      <td>Female</td>\n",
       "      <td>80.0</td>\n",
       "      <td>0</td>\n",
       "      <td>0</td>\n",
       "      <td>No Info</td>\n",
       "      <td>27.32</td>\n",
       "      <td>3.5</td>\n",
       "      <td>80</td>\n",
       "      <td>0</td>\n",
       "    </tr>\n",
       "    <tr>\n",
       "      <th>3418</th>\n",
       "      <td>Female</td>\n",
       "      <td>19.0</td>\n",
       "      <td>0</td>\n",
       "      <td>0</td>\n",
       "      <td>No Info</td>\n",
       "      <td>27.32</td>\n",
       "      <td>6.5</td>\n",
       "      <td>100</td>\n",
       "      <td>0</td>\n",
       "    </tr>\n",
       "    <tr>\n",
       "      <th>3939</th>\n",
       "      <td>Female</td>\n",
       "      <td>78.0</td>\n",
       "      <td>1</td>\n",
       "      <td>0</td>\n",
       "      <td>former</td>\n",
       "      <td>27.32</td>\n",
       "      <td>3.5</td>\n",
       "      <td>130</td>\n",
       "      <td>0</td>\n",
       "    </tr>\n",
       "    <tr>\n",
       "      <th>3960</th>\n",
       "      <td>Male</td>\n",
       "      <td>47.0</td>\n",
       "      <td>0</td>\n",
       "      <td>0</td>\n",
       "      <td>No Info</td>\n",
       "      <td>27.32</td>\n",
       "      <td>6.0</td>\n",
       "      <td>200</td>\n",
       "      <td>0</td>\n",
       "    </tr>\n",
       "  </tbody>\n",
       "</table>\n",
       "</div>"
      ],
      "text/plain": [
       "      gender   age  hypertension  heart_disease smoking_history    bmi  \\\n",
       "2756    Male  80.0             0              0         No Info  27.32   \n",
       "3272  Female  80.0             0              0         No Info  27.32   \n",
       "3418  Female  19.0             0              0         No Info  27.32   \n",
       "3939  Female  78.0             1              0          former  27.32   \n",
       "3960    Male  47.0             0              0         No Info  27.32   \n",
       "\n",
       "      HbA1c_level  blood_glucose_level  diabetes  \n",
       "2756          6.6                  159         0  \n",
       "3272          3.5                   80         0  \n",
       "3418          6.5                  100         0  \n",
       "3939          3.5                  130         0  \n",
       "3960          6.0                  200         0  "
      ]
     },
     "execution_count": 8,
     "metadata": {},
     "output_type": "execute_result"
    }
   ],
   "source": [
    "# Identifying the duplicates from the data.\n",
    "diabetes[diabetes.duplicated()].head()"
   ]
  },
  {
   "cell_type": "code",
   "execution_count": 9,
   "id": "fa9871be",
   "metadata": {
    "ExecuteTime": {
     "end_time": "2023-09-18T10:44:03.667591Z",
     "start_time": "2023-09-18T10:44:03.623566Z"
    }
   },
   "outputs": [
    {
     "data": {
      "text/html": [
       "<div>\n",
       "<style scoped>\n",
       "    .dataframe tbody tr th:only-of-type {\n",
       "        vertical-align: middle;\n",
       "    }\n",
       "\n",
       "    .dataframe tbody tr th {\n",
       "        vertical-align: top;\n",
       "    }\n",
       "\n",
       "    .dataframe thead th {\n",
       "        text-align: right;\n",
       "    }\n",
       "</style>\n",
       "<table border=\"1\" class=\"dataframe\">\n",
       "  <thead>\n",
       "    <tr style=\"text-align: right;\">\n",
       "      <th></th>\n",
       "      <th>gender</th>\n",
       "      <th>age</th>\n",
       "      <th>hypertension</th>\n",
       "      <th>heart_disease</th>\n",
       "      <th>smoking_history</th>\n",
       "      <th>bmi</th>\n",
       "      <th>HbA1c_level</th>\n",
       "      <th>blood_glucose_level</th>\n",
       "      <th>diabetes</th>\n",
       "    </tr>\n",
       "  </thead>\n",
       "  <tbody>\n",
       "    <tr>\n",
       "      <th>1116</th>\n",
       "      <td>Male</td>\n",
       "      <td>80.0</td>\n",
       "      <td>0</td>\n",
       "      <td>0</td>\n",
       "      <td>No Info</td>\n",
       "      <td>27.32</td>\n",
       "      <td>6.6</td>\n",
       "      <td>159</td>\n",
       "      <td>0</td>\n",
       "    </tr>\n",
       "    <tr>\n",
       "      <th>2756</th>\n",
       "      <td>Male</td>\n",
       "      <td>80.0</td>\n",
       "      <td>0</td>\n",
       "      <td>0</td>\n",
       "      <td>No Info</td>\n",
       "      <td>27.32</td>\n",
       "      <td>6.6</td>\n",
       "      <td>159</td>\n",
       "      <td>0</td>\n",
       "    </tr>\n",
       "    <tr>\n",
       "      <th>12440</th>\n",
       "      <td>Male</td>\n",
       "      <td>80.0</td>\n",
       "      <td>0</td>\n",
       "      <td>0</td>\n",
       "      <td>No Info</td>\n",
       "      <td>27.32</td>\n",
       "      <td>6.6</td>\n",
       "      <td>159</td>\n",
       "      <td>0</td>\n",
       "    </tr>\n",
       "    <tr>\n",
       "      <th>54794</th>\n",
       "      <td>Male</td>\n",
       "      <td>80.0</td>\n",
       "      <td>0</td>\n",
       "      <td>0</td>\n",
       "      <td>No Info</td>\n",
       "      <td>27.32</td>\n",
       "      <td>6.6</td>\n",
       "      <td>159</td>\n",
       "      <td>0</td>\n",
       "    </tr>\n",
       "    <tr>\n",
       "      <th>61148</th>\n",
       "      <td>Male</td>\n",
       "      <td>80.0</td>\n",
       "      <td>0</td>\n",
       "      <td>0</td>\n",
       "      <td>never</td>\n",
       "      <td>27.32</td>\n",
       "      <td>6.6</td>\n",
       "      <td>159</td>\n",
       "      <td>0</td>\n",
       "    </tr>\n",
       "    <tr>\n",
       "      <th>75961</th>\n",
       "      <td>Male</td>\n",
       "      <td>80.0</td>\n",
       "      <td>0</td>\n",
       "      <td>0</td>\n",
       "      <td>No Info</td>\n",
       "      <td>27.32</td>\n",
       "      <td>6.6</td>\n",
       "      <td>159</td>\n",
       "      <td>0</td>\n",
       "    </tr>\n",
       "    <tr>\n",
       "      <th>97482</th>\n",
       "      <td>Male</td>\n",
       "      <td>80.0</td>\n",
       "      <td>1</td>\n",
       "      <td>1</td>\n",
       "      <td>No Info</td>\n",
       "      <td>27.32</td>\n",
       "      <td>6.6</td>\n",
       "      <td>159</td>\n",
       "      <td>0</td>\n",
       "    </tr>\n",
       "  </tbody>\n",
       "</table>\n",
       "</div>"
      ],
      "text/plain": [
       "      gender   age  hypertension  heart_disease smoking_history    bmi  \\\n",
       "1116    Male  80.0             0              0         No Info  27.32   \n",
       "2756    Male  80.0             0              0         No Info  27.32   \n",
       "12440   Male  80.0             0              0         No Info  27.32   \n",
       "54794   Male  80.0             0              0         No Info  27.32   \n",
       "61148   Male  80.0             0              0           never  27.32   \n",
       "75961   Male  80.0             0              0         No Info  27.32   \n",
       "97482   Male  80.0             1              1         No Info  27.32   \n",
       "\n",
       "       HbA1c_level  blood_glucose_level  diabetes  \n",
       "1116           6.6                  159         0  \n",
       "2756           6.6                  159         0  \n",
       "12440          6.6                  159         0  \n",
       "54794          6.6                  159         0  \n",
       "61148          6.6                  159         0  \n",
       "75961          6.6                  159         0  \n",
       "97482          6.6                  159         0  "
      ]
     },
     "execution_count": 9,
     "metadata": {},
     "output_type": "execute_result"
    }
   ],
   "source": [
    "diabetes[(diabetes.gender == 'Male') & (diabetes.HbA1c_level==6.6) & (diabetes.bmi == 27.32) & (diabetes.age == 80.0)\n",
    "        & (diabetes.blood_glucose_level == 159)]"
   ]
  },
  {
   "cell_type": "code",
   "execution_count": 10,
   "id": "665f726e",
   "metadata": {
    "ExecuteTime": {
     "end_time": "2023-09-18T10:44:03.729774Z",
     "start_time": "2023-09-18T10:44:03.671590Z"
    }
   },
   "outputs": [],
   "source": [
    "# Dropping the duplicates from the dataframe.\n",
    "diabetes.drop_duplicates(keep='first', inplace=True, ignore_index=True)"
   ]
  },
  {
   "cell_type": "markdown",
   "id": "3164c127",
   "metadata": {},
   "source": [
    "### *`Checking Null values`*"
   ]
  },
  {
   "cell_type": "code",
   "execution_count": 11,
   "id": "7ae30cbf",
   "metadata": {
    "ExecuteTime": {
     "end_time": "2023-09-18T10:44:03.761473Z",
     "start_time": "2023-09-18T10:44:03.731510Z"
    }
   },
   "outputs": [
    {
     "data": {
      "text/plain": [
       "gender                 0\n",
       "age                    0\n",
       "hypertension           0\n",
       "heart_disease          0\n",
       "smoking_history        0\n",
       "bmi                    0\n",
       "HbA1c_level            0\n",
       "blood_glucose_level    0\n",
       "diabetes               0\n",
       "dtype: int64"
      ]
     },
     "execution_count": 11,
     "metadata": {},
     "output_type": "execute_result"
    }
   ],
   "source": [
    "diabetes.isnull().sum()"
   ]
  },
  {
   "cell_type": "markdown",
   "id": "4ffc5e1b",
   "metadata": {},
   "source": [
    "### *`Checking If any corrupted values are present`*"
   ]
  },
  {
   "cell_type": "code",
   "execution_count": 12,
   "id": "bd24d33e",
   "metadata": {
    "ExecuteTime": {
     "end_time": "2023-09-18T10:44:03.809128Z",
     "start_time": "2023-09-18T10:44:03.762439Z"
    }
   },
   "outputs": [
    {
     "name": "stdout",
     "output_type": "stream",
     "text": [
      "<class 'pandas.core.frame.DataFrame'>\n",
      "RangeIndex: 96146 entries, 0 to 96145\n",
      "Data columns (total 9 columns):\n",
      " #   Column               Non-Null Count  Dtype  \n",
      "---  ------               --------------  -----  \n",
      " 0   gender               96146 non-null  object \n",
      " 1   age                  96146 non-null  float64\n",
      " 2   hypertension         96146 non-null  int64  \n",
      " 3   heart_disease        96146 non-null  int64  \n",
      " 4   smoking_history      96146 non-null  object \n",
      " 5   bmi                  96146 non-null  float64\n",
      " 6   HbA1c_level          96146 non-null  float64\n",
      " 7   blood_glucose_level  96146 non-null  int64  \n",
      " 8   diabetes             96146 non-null  int64  \n",
      "dtypes: float64(3), int64(4), object(2)\n",
      "memory usage: 6.6+ MB\n"
     ]
    }
   ],
   "source": [
    "# Identifying the corrupted values by seeing info() of the data.\n",
    "diabetes.info()"
   ]
  },
  {
   "cell_type": "code",
   "execution_count": 13,
   "id": "5ab7b88f",
   "metadata": {
    "ExecuteTime": {
     "end_time": "2023-09-18T10:44:05.493929Z",
     "start_time": "2023-09-18T10:44:03.811132Z"
    }
   },
   "outputs": [
    {
     "name": "stdout",
     "output_type": "stream",
     "text": [
      "Mean of all numerical columns:\n"
     ]
    },
    {
     "data": {
      "text/plain": [
       "age                     41.794326\n",
       "hypertension             0.077601\n",
       "heart_disease            0.040803\n",
       "bmi                     27.321461\n",
       "HbA1c_level              5.532609\n",
       "blood_glucose_level    138.218231\n",
       "diabetes                 0.088220\n",
       "dtype: float64"
      ]
     },
     "execution_count": 13,
     "metadata": {},
     "output_type": "execute_result"
    },
    {
     "name": "stdout",
     "output_type": "stream",
     "text": [
      "Median of all numerical columns:\n"
     ]
    },
    {
     "data": {
      "text/plain": [
       "age                     43.00\n",
       "hypertension             0.00\n",
       "heart_disease            0.00\n",
       "bmi                     27.32\n",
       "HbA1c_level              5.80\n",
       "blood_glucose_level    140.00\n",
       "diabetes                 0.00\n",
       "dtype: float64"
      ]
     },
     "execution_count": 13,
     "metadata": {},
     "output_type": "execute_result"
    },
    {
     "name": "stdout",
     "output_type": "stream",
     "text": [
      "Mode of all categorical columns:\n"
     ]
    },
    {
     "data": {
      "text/html": [
       "<div>\n",
       "<style scoped>\n",
       "    .dataframe tbody tr th:only-of-type {\n",
       "        vertical-align: middle;\n",
       "    }\n",
       "\n",
       "    .dataframe tbody tr th {\n",
       "        vertical-align: top;\n",
       "    }\n",
       "\n",
       "    .dataframe thead th {\n",
       "        text-align: right;\n",
       "    }\n",
       "</style>\n",
       "<table border=\"1\" class=\"dataframe\">\n",
       "  <thead>\n",
       "    <tr style=\"text-align: right;\">\n",
       "      <th></th>\n",
       "      <th>gender</th>\n",
       "      <th>age</th>\n",
       "      <th>hypertension</th>\n",
       "      <th>heart_disease</th>\n",
       "      <th>smoking_history</th>\n",
       "      <th>bmi</th>\n",
       "      <th>HbA1c_level</th>\n",
       "      <th>blood_glucose_level</th>\n",
       "      <th>diabetes</th>\n",
       "    </tr>\n",
       "  </thead>\n",
       "  <tbody>\n",
       "    <tr>\n",
       "      <th>0</th>\n",
       "      <td>Female</td>\n",
       "      <td>80.0</td>\n",
       "      <td>0</td>\n",
       "      <td>0</td>\n",
       "      <td>never</td>\n",
       "      <td>27.32</td>\n",
       "      <td>6.6</td>\n",
       "      <td>159</td>\n",
       "      <td>0</td>\n",
       "    </tr>\n",
       "  </tbody>\n",
       "</table>\n",
       "</div>"
      ],
      "text/plain": [
       "   gender   age  hypertension  heart_disease smoking_history    bmi  \\\n",
       "0  Female  80.0             0              0           never  27.32   \n",
       "\n",
       "   HbA1c_level  blood_glucose_level  diabetes  \n",
       "0          6.6                  159         0  "
      ]
     },
     "execution_count": 13,
     "metadata": {},
     "output_type": "execute_result"
    }
   ],
   "source": [
    "print('Mean of all numerical columns:')\n",
    "diabetes.mean()\n",
    "print('Median of all numerical columns:')\n",
    "diabetes.median()\n",
    "print('Mode of all categorical columns:')\n",
    "diabetes.mode()"
   ]
  },
  {
   "cell_type": "markdown",
   "id": "b83310d2",
   "metadata": {},
   "source": [
    "### *`Checking or Identifying the outliers`*"
   ]
  },
  {
   "cell_type": "code",
   "execution_count": 14,
   "id": "671be15d",
   "metadata": {
    "ExecuteTime": {
     "end_time": "2023-09-18T10:44:06.291876Z",
     "start_time": "2023-09-18T10:44:05.496678Z"
    }
   },
   "outputs": [
    {
     "data": {
      "image/png": "[encoded data removed]",
      "text/plain": [
       "<Figure size 800x500 with 8 Axes>"
      ]
     },
     "metadata": {},
     "output_type": "display_data"
    }
   ],
   "source": [
    "lst = diabetes.select_dtypes(include=['int64','float64']).columns\n",
    "\n",
    "fig, axes = plt.subplots(nrows=2, ncols=4, figsize=(8, 5))\n",
    "\n",
    "for i, ax in enumerate(axes.flatten()):\n",
    "    if i < len(lst):\n",
    "        sns.boxplot(x=diabetes[lst[i]], ax=ax)\n",
    "    else:\n",
    "        ax.axis('off')\n",
    "    \n",
    "plt.tight_layout()\n",
    "plt.show();"
   ]
  },
  {
   "cell_type": "markdown",
   "id": "d8439ff3",
   "metadata": {},
   "source": [
    "### *`Observations:`*\n",
    "- In the bmi column there are more outliers compared to the another columns in the dataset."
   ]
  },
  {
   "cell_type": "code",
   "execution_count": 15,
   "id": "87733847",
   "metadata": {
    "ExecuteTime": {
     "end_time": "2023-09-18T10:44:06.307875Z",
     "start_time": "2023-09-18T10:44:06.293845Z"
    }
   },
   "outputs": [
    {
     "name": "stdout",
     "output_type": "stream",
     "text": [
      "19.0 27.32 35.7\n",
      "16.700000000000003 60.75000000000001 -6.050000000000004\n"
     ]
    }
   ],
   "source": [
    "# Checking the outliers using the boxplot method.\n",
    "Q1,Q2,Q3 = tuple(diabetes.bmi.quantile(q=[0.10,0.50,0.90]).values)\n",
    "\n",
    "# Checking the missing values\n",
    "print(Q1,Q2,Q3)\n",
    "\n",
    "# Calculating the IQR value and for calculating the LL and UL.\n",
    "IQR = Q3-Q1\n",
    "\n",
    "# Checking the outliers in lowerlimit(LL).\n",
    "UL = Q3+1.5*IQR\n",
    "\n",
    "# Checking the outliers in upperlimit(UL).\n",
    "LL = Q1-1.5*IQR\n",
    "\n",
    "print(IQR,UL,LL)"
   ]
  },
  {
   "cell_type": "code",
   "execution_count": 16,
   "id": "f865cacf",
   "metadata": {
    "ExecuteTime": {
     "end_time": "2023-09-18T10:44:06.339877Z",
     "start_time": "2023-09-18T10:44:06.309846Z"
    }
   },
   "outputs": [
    {
     "data": {
      "text/html": [
       "<div>\n",
       "<style scoped>\n",
       "    .dataframe tbody tr th:only-of-type {\n",
       "        vertical-align: middle;\n",
       "    }\n",
       "\n",
       "    .dataframe tbody tr th {\n",
       "        vertical-align: top;\n",
       "    }\n",
       "\n",
       "    .dataframe thead th {\n",
       "        text-align: right;\n",
       "    }\n",
       "</style>\n",
       "<table border=\"1\" class=\"dataframe\">\n",
       "  <thead>\n",
       "    <tr style=\"text-align: right;\">\n",
       "      <th></th>\n",
       "      <th>gender</th>\n",
       "      <th>age</th>\n",
       "      <th>hypertension</th>\n",
       "      <th>heart_disease</th>\n",
       "      <th>smoking_history</th>\n",
       "      <th>bmi</th>\n",
       "      <th>HbA1c_level</th>\n",
       "      <th>blood_glucose_level</th>\n",
       "      <th>diabetes</th>\n",
       "    </tr>\n",
       "  </thead>\n",
       "  <tbody>\n",
       "    <tr>\n",
       "      <th>59</th>\n",
       "      <td>Female</td>\n",
       "      <td>67.0</td>\n",
       "      <td>0</td>\n",
       "      <td>0</td>\n",
       "      <td>never</td>\n",
       "      <td>63.48</td>\n",
       "      <td>8.8</td>\n",
       "      <td>155</td>\n",
       "      <td>1</td>\n",
       "    </tr>\n",
       "    <tr>\n",
       "      <th>562</th>\n",
       "      <td>Male</td>\n",
       "      <td>43.0</td>\n",
       "      <td>0</td>\n",
       "      <td>0</td>\n",
       "      <td>never</td>\n",
       "      <td>69.37</td>\n",
       "      <td>7.5</td>\n",
       "      <td>130</td>\n",
       "      <td>1</td>\n",
       "    </tr>\n",
       "    <tr>\n",
       "      <th>2072</th>\n",
       "      <td>Male</td>\n",
       "      <td>18.0</td>\n",
       "      <td>0</td>\n",
       "      <td>0</td>\n",
       "      <td>current</td>\n",
       "      <td>65.93</td>\n",
       "      <td>6.0</td>\n",
       "      <td>200</td>\n",
       "      <td>0</td>\n",
       "    </tr>\n",
       "    <tr>\n",
       "      <th>2173</th>\n",
       "      <td>Female</td>\n",
       "      <td>41.0</td>\n",
       "      <td>0</td>\n",
       "      <td>0</td>\n",
       "      <td>never</td>\n",
       "      <td>65.56</td>\n",
       "      <td>4.5</td>\n",
       "      <td>200</td>\n",
       "      <td>0</td>\n",
       "    </tr>\n",
       "    <tr>\n",
       "      <th>2677</th>\n",
       "      <td>Female</td>\n",
       "      <td>36.0</td>\n",
       "      <td>0</td>\n",
       "      <td>0</td>\n",
       "      <td>current</td>\n",
       "      <td>63.74</td>\n",
       "      <td>6.5</td>\n",
       "      <td>280</td>\n",
       "      <td>1</td>\n",
       "    </tr>\n",
       "    <tr>\n",
       "      <th>...</th>\n",
       "      <td>...</td>\n",
       "      <td>...</td>\n",
       "      <td>...</td>\n",
       "      <td>...</td>\n",
       "      <td>...</td>\n",
       "      <td>...</td>\n",
       "      <td>...</td>\n",
       "      <td>...</td>\n",
       "      <td>...</td>\n",
       "    </tr>\n",
       "    <tr>\n",
       "      <th>90413</th>\n",
       "      <td>Female</td>\n",
       "      <td>23.0</td>\n",
       "      <td>0</td>\n",
       "      <td>0</td>\n",
       "      <td>never</td>\n",
       "      <td>67.49</td>\n",
       "      <td>6.0</td>\n",
       "      <td>130</td>\n",
       "      <td>0</td>\n",
       "    </tr>\n",
       "    <tr>\n",
       "      <th>92488</th>\n",
       "      <td>Male</td>\n",
       "      <td>80.0</td>\n",
       "      <td>0</td>\n",
       "      <td>0</td>\n",
       "      <td>never</td>\n",
       "      <td>88.76</td>\n",
       "      <td>6.2</td>\n",
       "      <td>140</td>\n",
       "      <td>0</td>\n",
       "    </tr>\n",
       "    <tr>\n",
       "      <th>93053</th>\n",
       "      <td>Female</td>\n",
       "      <td>38.0</td>\n",
       "      <td>0</td>\n",
       "      <td>0</td>\n",
       "      <td>never</td>\n",
       "      <td>64.26</td>\n",
       "      <td>6.2</td>\n",
       "      <td>100</td>\n",
       "      <td>0</td>\n",
       "    </tr>\n",
       "    <tr>\n",
       "      <th>93143</th>\n",
       "      <td>Female</td>\n",
       "      <td>25.0</td>\n",
       "      <td>0</td>\n",
       "      <td>0</td>\n",
       "      <td>never</td>\n",
       "      <td>64.27</td>\n",
       "      <td>4.5</td>\n",
       "      <td>126</td>\n",
       "      <td>0</td>\n",
       "    </tr>\n",
       "    <tr>\n",
       "      <th>93573</th>\n",
       "      <td>Female</td>\n",
       "      <td>71.0</td>\n",
       "      <td>0</td>\n",
       "      <td>0</td>\n",
       "      <td>No Info</td>\n",
       "      <td>64.80</td>\n",
       "      <td>9.0</td>\n",
       "      <td>280</td>\n",
       "      <td>1</td>\n",
       "    </tr>\n",
       "  </tbody>\n",
       "</table>\n",
       "<p>101 rows × 9 columns</p>\n",
       "</div>"
      ],
      "text/plain": [
       "       gender   age  hypertension  heart_disease smoking_history    bmi  \\\n",
       "59     Female  67.0             0              0           never  63.48   \n",
       "562      Male  43.0             0              0           never  69.37   \n",
       "2072     Male  18.0             0              0         current  65.93   \n",
       "2173   Female  41.0             0              0           never  65.56   \n",
       "2677   Female  36.0             0              0         current  63.74   \n",
       "...       ...   ...           ...            ...             ...    ...   \n",
       "90413  Female  23.0             0              0           never  67.49   \n",
       "92488    Male  80.0             0              0           never  88.76   \n",
       "93053  Female  38.0             0              0           never  64.26   \n",
       "93143  Female  25.0             0              0           never  64.27   \n",
       "93573  Female  71.0             0              0         No Info  64.80   \n",
       "\n",
       "       HbA1c_level  blood_glucose_level  diabetes  \n",
       "59             8.8                  155         1  \n",
       "562            7.5                  130         1  \n",
       "2072           6.0                  200         0  \n",
       "2173           4.5                  200         0  \n",
       "2677           6.5                  280         1  \n",
       "...            ...                  ...       ...  \n",
       "90413          6.0                  130         0  \n",
       "92488          6.2                  140         0  \n",
       "93053          6.2                  100         0  \n",
       "93143          4.5                  126         0  \n",
       "93573          9.0                  280         1  \n",
       "\n",
       "[101 rows x 9 columns]"
      ]
     },
     "execution_count": 16,
     "metadata": {},
     "output_type": "execute_result"
    }
   ],
   "source": [
    "# This are not outliers but those are failing in outliers.\n",
    "# This are premium bikes in bikewale website. \n",
    "\n",
    "diabetes[(diabetes.bmi < LL) | (diabetes.bmi > UL)]"
   ]
  },
  {
   "cell_type": "markdown",
   "id": "8f7a558e",
   "metadata": {},
   "source": [
    "- These are the outliers present in the diabetes dataset."
   ]
  },
  {
   "cell_type": "markdown",
   "id": "c1186baa",
   "metadata": {},
   "source": [
    "### *`Applying the log transformations for treating the outliers`*"
   ]
  },
  {
   "cell_type": "code",
   "execution_count": 17,
   "id": "051f16ff",
   "metadata": {
    "ExecuteTime": {
     "end_time": "2023-09-18T10:44:06.355370Z",
     "start_time": "2023-09-18T10:44:06.341846Z"
    }
   },
   "outputs": [
    {
     "data": {
      "text/plain": [
       "0        3.226447\n",
       "1        3.307619\n",
       "2        3.307619\n",
       "3        3.154870\n",
       "4        3.002708\n",
       "           ...   \n",
       "96141    3.202746\n",
       "96142    2.854745\n",
       "96143    3.326115\n",
       "96144    3.567277\n",
       "96145    3.110399\n",
       "Name: bmi, Length: 96146, dtype: float64"
      ]
     },
     "execution_count": 17,
     "metadata": {},
     "output_type": "execute_result"
    }
   ],
   "source": [
    "np.log(diabetes.bmi)"
   ]
  },
  {
   "cell_type": "code",
   "execution_count": 18,
   "id": "34bbd1b0",
   "metadata": {
    "ExecuteTime": {
     "end_time": "2023-09-18T10:44:06.512953Z",
     "start_time": "2023-09-18T10:44:06.358369Z"
    }
   },
   "outputs": [
    {
     "data": {
      "image/png": "[encoded data removed]",
      "text/plain": [
       "<Figure size 640x480 with 1 Axes>"
      ]
     },
     "metadata": {},
     "output_type": "display_data"
    }
   ],
   "source": [
    "# After converting to the log outliers are increased.\n",
    "sns.boxplot(np.log(diabetes.bmi));"
   ]
  },
  {
   "cell_type": "markdown",
   "id": "abc511a4",
   "metadata": {},
   "source": [
    "### *`Applying the Boxcox transformations for treating the outliers`*"
   ]
  },
  {
   "cell_type": "code",
   "execution_count": 19,
   "id": "19eb5f27",
   "metadata": {
    "ExecuteTime": {
     "end_time": "2023-09-18T10:44:06.606344Z",
     "start_time": "2023-09-18T10:44:06.513955Z"
    }
   },
   "outputs": [],
   "source": [
    "from scipy.stats import boxcox\n",
    "x,y = boxcox(diabetes.bmi)"
   ]
  },
  {
   "cell_type": "code",
   "execution_count": 20,
   "id": "854fa848",
   "metadata": {
    "ExecuteTime": {
     "end_time": "2023-09-18T10:44:06.748827Z",
     "start_time": "2023-09-18T10:44:06.608148Z"
    }
   },
   "outputs": [
    {
     "data": {
      "image/png": "[encoded data removed]",
      "text/plain": [
       "<Figure size 640x480 with 1 Axes>"
      ]
     },
     "metadata": {},
     "output_type": "display_data"
    }
   ],
   "source": [
    "sns.boxplot(x);"
   ]
  },
  {
   "cell_type": "code",
   "execution_count": 21,
   "id": "8aa880c5",
   "metadata": {
    "ExecuteTime": {
     "end_time": "2023-09-18T10:44:10.809117Z",
     "start_time": "2023-09-18T10:44:06.749826Z"
    }
   },
   "outputs": [
    {
     "data": {
      "image/png": "[encoded data removed]",
      "text/plain": [
       "<Figure size 1000x500 with 8 Axes>"
      ]
     },
     "metadata": {},
     "output_type": "display_data"
    }
   ],
   "source": [
    "lst = diabetes.select_dtypes(include=['int64','float64']).columns\n",
    "\n",
    "fig, axes = plt.subplots(nrows=2, ncols=4, figsize=(10, 5))\n",
    "\n",
    "for i, ax in enumerate(axes.flatten()):\n",
    "    if i < len(lst):\n",
    "        sns.histplot(x=diabetes[lst[i]], ax=ax, kde=True)\n",
    "    else:\n",
    "        ax.axis('off')\n",
    "    \n",
    "plt.tight_layout()\n",
    "plt.show();"
   ]
  },
  {
   "cell_type": "code",
   "execution_count": 22,
   "id": "6a8df342",
   "metadata": {
    "ExecuteTime": {
     "end_time": "2023-09-18T10:44:10.948243Z",
     "start_time": "2023-09-18T10:44:10.812099Z"
    }
   },
   "outputs": [
    {
     "data": {
      "image/png": "[encoded data removed]",
      "text/plain": [
       "<Figure size 640x480 with 1 Axes>"
      ]
     },
     "metadata": {},
     "output_type": "display_data"
    }
   ],
   "source": [
    "sns.countplot(x=diabetes.diabetes);"
   ]
  },
  {
   "cell_type": "markdown",
   "id": "0f9ef41e",
   "metadata": {},
   "source": [
    "### 🌟`Important Observations` :\n",
    "- There is a huge imbalance in the dataset and most fo the data points are falling under the `class 0` and very less are falling in the `class 1`."
   ]
  },
  {
   "cell_type": "code",
   "execution_count": 23,
   "id": "4650240f",
   "metadata": {
    "ExecuteTime": {
     "end_time": "2023-09-18T10:44:10.963683Z",
     "start_time": "2023-09-18T10:44:10.949210Z"
    }
   },
   "outputs": [
    {
     "data": {
      "text/plain": [
       "0    87664\n",
       "1     8482\n",
       "Name: diabetes, dtype: int64"
      ]
     },
     "execution_count": 23,
     "metadata": {},
     "output_type": "execute_result"
    }
   ],
   "source": [
    "# checking how many datapoints are present in the class_0 and class_1.\n",
    "diabetes.diabetes.value_counts()"
   ]
  },
  {
   "cell_type": "code",
   "execution_count": 24,
   "id": "109ff505",
   "metadata": {
    "ExecuteTime": {
     "end_time": "2023-09-18T10:44:15.371205Z",
     "start_time": "2023-09-18T10:44:10.965684Z"
    }
   },
   "outputs": [
    {
     "data": {
      "image/png": "[encoded data removed]",
      "text/plain": [
       "<Figure size 640x480 with 1 Axes>"
      ]
     },
     "metadata": {},
     "output_type": "display_data"
    }
   ],
   "source": [
    "sns.scatterplot(x=diabetes.age, y=diabetes.hypertension, hue=diabetes.diabetes);"
   ]
  },
  {
   "cell_type": "code",
   "execution_count": 25,
   "id": "2c3e1147",
   "metadata": {
    "ExecuteTime": {
     "end_time": "2023-09-18T10:44:15.386955Z",
     "start_time": "2023-09-18T10:44:15.373206Z"
    }
   },
   "outputs": [],
   "source": [
    "#sns.pairplot(diabetes, hue='diabetes');"
   ]
  },
  {
   "cell_type": "markdown",
   "id": "c0e42cfe",
   "metadata": {},
   "source": [
    "### 🌟`Important Observations` :\n",
    "1. The people who has **`blood glucose level is above 200`** with respect to **`age, bmi and HbA1c_level`** those are most affected by the diabetes.\n",
    "2. The people who has **`HbA1c_level is above 7`** those are affected by diabetes.\n",
    "3. All the features are importent to wheather the person is affected with diabetes are not."
   ]
  },
  {
   "cell_type": "code",
   "execution_count": 26,
   "id": "069be5e1",
   "metadata": {
    "ExecuteTime": {
     "end_time": "2023-09-18T10:44:15.703082Z",
     "start_time": "2023-09-18T10:44:15.391959Z"
    }
   },
   "outputs": [
    {
     "data": {
      "image/png": "[encoded data removed]",
      "text/plain": [
       "<Figure size 640x480 with 2 Axes>"
      ]
     },
     "metadata": {},
     "output_type": "display_data"
    }
   ],
   "source": [
    "sns.heatmap(diabetes.corr(), annot=True);"
   ]
  },
  {
   "cell_type": "markdown",
   "id": "4b0d833f",
   "metadata": {},
   "source": [
    "### 🌟`Important Observations` :\n",
    "- blood glucose level, diabetes are highly positively correlated with 0.42 and HbA1c level, diabetes are also highly positively correlated with 0.41."
   ]
  },
  {
   "cell_type": "markdown",
   "id": "797e3cc8",
   "metadata": {},
   "source": [
    "## *`Model Buliding`*"
   ]
  },
  {
   "cell_type": "markdown",
   "id": "1a5f6c88",
   "metadata": {},
   "source": [
    "### *`Separating the input and output variables`*"
   ]
  },
  {
   "cell_type": "code",
   "execution_count": 27,
   "id": "e8d9c1b6",
   "metadata": {
    "ExecuteTime": {
     "end_time": "2023-09-18T10:44:15.719114Z",
     "start_time": "2023-09-18T10:44:15.705109Z"
    }
   },
   "outputs": [],
   "source": [
    "x = diabetes.drop(['diabetes'], axis=1)\n",
    "y = diabetes.diabetes"
   ]
  },
  {
   "cell_type": "code",
   "execution_count": 28,
   "id": "34b29684",
   "metadata": {
    "ExecuteTime": {
     "end_time": "2023-09-18T10:44:15.750668Z",
     "start_time": "2023-09-18T10:44:15.725082Z"
    }
   },
   "outputs": [
    {
     "data": {
      "text/html": [
       "<div>\n",
       "<style scoped>\n",
       "    .dataframe tbody tr th:only-of-type {\n",
       "        vertical-align: middle;\n",
       "    }\n",
       "\n",
       "    .dataframe tbody tr th {\n",
       "        vertical-align: top;\n",
       "    }\n",
       "\n",
       "    .dataframe thead th {\n",
       "        text-align: right;\n",
       "    }\n",
       "</style>\n",
       "<table border=\"1\" class=\"dataframe\">\n",
       "  <thead>\n",
       "    <tr style=\"text-align: right;\">\n",
       "      <th></th>\n",
       "      <th>gender</th>\n",
       "      <th>age</th>\n",
       "      <th>hypertension</th>\n",
       "      <th>heart_disease</th>\n",
       "      <th>smoking_history</th>\n",
       "      <th>bmi</th>\n",
       "      <th>HbA1c_level</th>\n",
       "      <th>blood_glucose_level</th>\n",
       "    </tr>\n",
       "  </thead>\n",
       "  <tbody>\n",
       "    <tr>\n",
       "      <th>0</th>\n",
       "      <td>Female</td>\n",
       "      <td>80.0</td>\n",
       "      <td>0</td>\n",
       "      <td>1</td>\n",
       "      <td>never</td>\n",
       "      <td>25.19</td>\n",
       "      <td>6.6</td>\n",
       "      <td>140</td>\n",
       "    </tr>\n",
       "    <tr>\n",
       "      <th>1</th>\n",
       "      <td>Female</td>\n",
       "      <td>54.0</td>\n",
       "      <td>0</td>\n",
       "      <td>0</td>\n",
       "      <td>No Info</td>\n",
       "      <td>27.32</td>\n",
       "      <td>6.6</td>\n",
       "      <td>80</td>\n",
       "    </tr>\n",
       "    <tr>\n",
       "      <th>2</th>\n",
       "      <td>Male</td>\n",
       "      <td>28.0</td>\n",
       "      <td>0</td>\n",
       "      <td>0</td>\n",
       "      <td>never</td>\n",
       "      <td>27.32</td>\n",
       "      <td>5.7</td>\n",
       "      <td>158</td>\n",
       "    </tr>\n",
       "    <tr>\n",
       "      <th>3</th>\n",
       "      <td>Female</td>\n",
       "      <td>36.0</td>\n",
       "      <td>0</td>\n",
       "      <td>0</td>\n",
       "      <td>current</td>\n",
       "      <td>23.45</td>\n",
       "      <td>5.0</td>\n",
       "      <td>155</td>\n",
       "    </tr>\n",
       "    <tr>\n",
       "      <th>4</th>\n",
       "      <td>Male</td>\n",
       "      <td>76.0</td>\n",
       "      <td>1</td>\n",
       "      <td>1</td>\n",
       "      <td>current</td>\n",
       "      <td>20.14</td>\n",
       "      <td>4.8</td>\n",
       "      <td>155</td>\n",
       "    </tr>\n",
       "  </tbody>\n",
       "</table>\n",
       "</div>"
      ],
      "text/plain": [
       "   gender   age  hypertension  heart_disease smoking_history    bmi  \\\n",
       "0  Female  80.0             0              1           never  25.19   \n",
       "1  Female  54.0             0              0         No Info  27.32   \n",
       "2    Male  28.0             0              0           never  27.32   \n",
       "3  Female  36.0             0              0         current  23.45   \n",
       "4    Male  76.0             1              1         current  20.14   \n",
       "\n",
       "   HbA1c_level  blood_glucose_level  \n",
       "0          6.6                  140  \n",
       "1          6.6                   80  \n",
       "2          5.7                  158  \n",
       "3          5.0                  155  \n",
       "4          4.8                  155  "
      ]
     },
     "execution_count": 28,
     "metadata": {},
     "output_type": "execute_result"
    }
   ],
   "source": [
    "x.head()"
   ]
  },
  {
   "cell_type": "markdown",
   "id": "207d4dee",
   "metadata": {},
   "source": [
    "### `Applying the traintestsplit for train and test data`"
   ]
  },
  {
   "cell_type": "code",
   "execution_count": 29,
   "id": "e28b7091",
   "metadata": {
    "ExecuteTime": {
     "end_time": "2023-09-18T10:44:16.466556Z",
     "start_time": "2023-09-18T10:44:15.752636Z"
    }
   },
   "outputs": [],
   "source": [
    "# Applying the train test split to split the data into train and test means x_train, x_test, y_train and y_test data.\n",
    "# for these i have used 75:25 split means 75% train data and 25% test data.\n",
    "from sklearn.model_selection import train_test_split\n",
    "x_train, x_test, y_train, y_test = train_test_split(x, y, test_size=0.25, random_state=42)"
   ]
  },
  {
   "cell_type": "code",
   "execution_count": 30,
   "id": "554bf4d4",
   "metadata": {
    "ExecuteTime": {
     "end_time": "2023-09-18T10:44:16.481800Z",
     "start_time": "2023-09-18T10:44:16.468651Z"
    }
   },
   "outputs": [
    {
     "name": "stdout",
     "output_type": "stream",
     "text": [
      "(72109, 8) (72109,)\n",
      "(24037, 8) (24037,)\n"
     ]
    }
   ],
   "source": [
    "# Checking the shapes of x_train, x_test, y_train and y_test.\n",
    "# Observing the how many datapoints are present in the train data and test data.\n",
    "print(x_train.shape, y_train.shape)\n",
    "print(x_test.shape, y_test.shape)"
   ]
  },
  {
   "cell_type": "markdown",
   "id": "b545fcab",
   "metadata": {},
   "source": [
    "### `Applying preprocessing on train data`"
   ]
  },
  {
   "cell_type": "code",
   "execution_count": 31,
   "id": "22611df9",
   "metadata": {
    "ExecuteTime": {
     "end_time": "2023-09-18T10:44:16.513137Z",
     "start_time": "2023-09-18T10:44:16.483940Z"
    }
   },
   "outputs": [
    {
     "data": {
      "text/html": [
       "<div>\n",
       "<style scoped>\n",
       "    .dataframe tbody tr th:only-of-type {\n",
       "        vertical-align: middle;\n",
       "    }\n",
       "\n",
       "    .dataframe tbody tr th {\n",
       "        vertical-align: top;\n",
       "    }\n",
       "\n",
       "    .dataframe thead th {\n",
       "        text-align: right;\n",
       "    }\n",
       "</style>\n",
       "<table border=\"1\" class=\"dataframe\">\n",
       "  <thead>\n",
       "    <tr style=\"text-align: right;\">\n",
       "      <th></th>\n",
       "      <th>age</th>\n",
       "      <th>hypertension</th>\n",
       "      <th>heart_disease</th>\n",
       "      <th>bmi</th>\n",
       "      <th>HbA1c_level</th>\n",
       "      <th>blood_glucose_level</th>\n",
       "    </tr>\n",
       "  </thead>\n",
       "  <tbody>\n",
       "    <tr>\n",
       "      <th>5096</th>\n",
       "      <td>14.0</td>\n",
       "      <td>0</td>\n",
       "      <td>0</td>\n",
       "      <td>21.80</td>\n",
       "      <td>3.5</td>\n",
       "      <td>126</td>\n",
       "    </tr>\n",
       "    <tr>\n",
       "      <th>33671</th>\n",
       "      <td>21.0</td>\n",
       "      <td>0</td>\n",
       "      <td>0</td>\n",
       "      <td>44.09</td>\n",
       "      <td>5.0</td>\n",
       "      <td>140</td>\n",
       "    </tr>\n",
       "    <tr>\n",
       "      <th>30919</th>\n",
       "      <td>13.0</td>\n",
       "      <td>0</td>\n",
       "      <td>0</td>\n",
       "      <td>17.16</td>\n",
       "      <td>6.5</td>\n",
       "      <td>126</td>\n",
       "    </tr>\n",
       "    <tr>\n",
       "      <th>20433</th>\n",
       "      <td>25.0</td>\n",
       "      <td>0</td>\n",
       "      <td>0</td>\n",
       "      <td>27.32</td>\n",
       "      <td>4.0</td>\n",
       "      <td>100</td>\n",
       "    </tr>\n",
       "    <tr>\n",
       "      <th>4005</th>\n",
       "      <td>17.0</td>\n",
       "      <td>0</td>\n",
       "      <td>0</td>\n",
       "      <td>22.88</td>\n",
       "      <td>4.0</td>\n",
       "      <td>158</td>\n",
       "    </tr>\n",
       "  </tbody>\n",
       "</table>\n",
       "</div>"
      ],
      "text/plain": [
       "        age  hypertension  heart_disease    bmi  HbA1c_level  \\\n",
       "5096   14.0             0              0  21.80          3.5   \n",
       "33671  21.0             0              0  44.09          5.0   \n",
       "30919  13.0             0              0  17.16          6.5   \n",
       "20433  25.0             0              0  27.32          4.0   \n",
       "4005   17.0             0              0  22.88          4.0   \n",
       "\n",
       "       blood_glucose_level  \n",
       "5096                   126  \n",
       "33671                  140  \n",
       "30919                  126  \n",
       "20433                  100  \n",
       "4005                   158  "
      ]
     },
     "execution_count": 31,
     "metadata": {},
     "output_type": "execute_result"
    }
   ],
   "source": [
    "# Separating the numerical coulmns from the x_train data using select_dtypes.\n",
    "x_train_num = x_train.select_dtypes(include=['int64','float64'])\n",
    "x_train_num.head()"
   ]
  },
  {
   "cell_type": "markdown",
   "id": "37761879",
   "metadata": {},
   "source": [
    "### `Rescaling the Numerical Features`"
   ]
  },
  {
   "cell_type": "code",
   "execution_count": 32,
   "id": "98dc6824",
   "metadata": {
    "ExecuteTime": {
     "end_time": "2023-09-18T10:44:16.558737Z",
     "start_time": "2023-09-18T10:44:16.515341Z"
    }
   },
   "outputs": [],
   "source": [
    "from sklearn.preprocessing import StandardScaler # Importing the standardscaler from sklearn.preprocessing.\n",
    "scalar = StandardScaler() # Creating the scaler object for the class.\n",
    "# Taking the scalar object and using fit_transform we are rescaling the data.\n",
    "x_train_num_transformed = pd.DataFrame(scalar.fit_transform(x_train_num),\n",
    "                                      columns=x_train_num.columns,\n",
    "                                      index= x_train_num.index)"
   ]
  },
  {
   "cell_type": "code",
   "execution_count": 33,
   "id": "e271f9fc",
   "metadata": {
    "ExecuteTime": {
     "end_time": "2023-09-18T10:44:16.574613Z",
     "start_time": "2023-09-18T10:44:16.560579Z"
    }
   },
   "outputs": [
    {
     "data": {
      "text/html": [
       "<div>\n",
       "<style scoped>\n",
       "    .dataframe tbody tr th:only-of-type {\n",
       "        vertical-align: middle;\n",
       "    }\n",
       "\n",
       "    .dataframe tbody tr th {\n",
       "        vertical-align: top;\n",
       "    }\n",
       "\n",
       "    .dataframe thead th {\n",
       "        text-align: right;\n",
       "    }\n",
       "</style>\n",
       "<table border=\"1\" class=\"dataframe\">\n",
       "  <thead>\n",
       "    <tr style=\"text-align: right;\">\n",
       "      <th></th>\n",
       "      <th>age</th>\n",
       "      <th>hypertension</th>\n",
       "      <th>heart_disease</th>\n",
       "      <th>bmi</th>\n",
       "      <th>HbA1c_level</th>\n",
       "      <th>blood_glucose_level</th>\n",
       "    </tr>\n",
       "  </thead>\n",
       "  <tbody>\n",
       "    <tr>\n",
       "      <th>5096</th>\n",
       "      <td>-1.236488</td>\n",
       "      <td>-0.28882</td>\n",
       "      <td>-0.205214</td>\n",
       "      <td>-0.811076</td>\n",
       "      <td>-1.897985</td>\n",
       "      <td>-0.295729</td>\n",
       "    </tr>\n",
       "    <tr>\n",
       "      <th>33671</th>\n",
       "      <td>-0.924968</td>\n",
       "      <td>-0.28882</td>\n",
       "      <td>-0.205214</td>\n",
       "      <td>2.476395</td>\n",
       "      <td>-0.497969</td>\n",
       "      <td>0.046761</td>\n",
       "    </tr>\n",
       "    <tr>\n",
       "      <th>30919</th>\n",
       "      <td>-1.280991</td>\n",
       "      <td>-0.28882</td>\n",
       "      <td>-0.205214</td>\n",
       "      <td>-1.495412</td>\n",
       "      <td>0.902046</td>\n",
       "      <td>-0.295729</td>\n",
       "    </tr>\n",
       "    <tr>\n",
       "      <th>20433</th>\n",
       "      <td>-0.746956</td>\n",
       "      <td>-0.28882</td>\n",
       "      <td>-0.205214</td>\n",
       "      <td>0.003049</td>\n",
       "      <td>-1.431313</td>\n",
       "      <td>-0.931781</td>\n",
       "    </tr>\n",
       "    <tr>\n",
       "      <th>4005</th>\n",
       "      <td>-1.102980</td>\n",
       "      <td>-0.28882</td>\n",
       "      <td>-0.205214</td>\n",
       "      <td>-0.651790</td>\n",
       "      <td>-1.431313</td>\n",
       "      <td>0.487105</td>\n",
       "    </tr>\n",
       "  </tbody>\n",
       "</table>\n",
       "</div>"
      ],
      "text/plain": [
       "            age  hypertension  heart_disease       bmi  HbA1c_level  \\\n",
       "5096  -1.236488      -0.28882      -0.205214 -0.811076    -1.897985   \n",
       "33671 -0.924968      -0.28882      -0.205214  2.476395    -0.497969   \n",
       "30919 -1.280991      -0.28882      -0.205214 -1.495412     0.902046   \n",
       "20433 -0.746956      -0.28882      -0.205214  0.003049    -1.431313   \n",
       "4005  -1.102980      -0.28882      -0.205214 -0.651790    -1.431313   \n",
       "\n",
       "       blood_glucose_level  \n",
       "5096             -0.295729  \n",
       "33671             0.046761  \n",
       "30919            -0.295729  \n",
       "20433            -0.931781  \n",
       "4005              0.487105  "
      ]
     },
     "execution_count": 33,
     "metadata": {},
     "output_type": "execute_result"
    }
   ],
   "source": [
    "x_train_num_transformed.head()"
   ]
  },
  {
   "cell_type": "code",
   "execution_count": 34,
   "id": "b98f1d8c",
   "metadata": {
    "ExecuteTime": {
     "end_time": "2023-09-18T10:44:16.604811Z",
     "start_time": "2023-09-18T10:44:16.576582Z"
    }
   },
   "outputs": [
    {
     "data": {
      "text/html": [
       "<div>\n",
       "<style scoped>\n",
       "    .dataframe tbody tr th:only-of-type {\n",
       "        vertical-align: middle;\n",
       "    }\n",
       "\n",
       "    .dataframe tbody tr th {\n",
       "        vertical-align: top;\n",
       "    }\n",
       "\n",
       "    .dataframe thead th {\n",
       "        text-align: right;\n",
       "    }\n",
       "</style>\n",
       "<table border=\"1\" class=\"dataframe\">\n",
       "  <thead>\n",
       "    <tr style=\"text-align: right;\">\n",
       "      <th></th>\n",
       "      <th>gender</th>\n",
       "      <th>smoking_history</th>\n",
       "    </tr>\n",
       "  </thead>\n",
       "  <tbody>\n",
       "    <tr>\n",
       "      <th>5096</th>\n",
       "      <td>Female</td>\n",
       "      <td>No Info</td>\n",
       "    </tr>\n",
       "    <tr>\n",
       "      <th>33671</th>\n",
       "      <td>Male</td>\n",
       "      <td>never</td>\n",
       "    </tr>\n",
       "    <tr>\n",
       "      <th>30919</th>\n",
       "      <td>Female</td>\n",
       "      <td>No Info</td>\n",
       "    </tr>\n",
       "    <tr>\n",
       "      <th>20433</th>\n",
       "      <td>Female</td>\n",
       "      <td>No Info</td>\n",
       "    </tr>\n",
       "    <tr>\n",
       "      <th>4005</th>\n",
       "      <td>Male</td>\n",
       "      <td>No Info</td>\n",
       "    </tr>\n",
       "  </tbody>\n",
       "</table>\n",
       "</div>"
      ],
      "text/plain": [
       "       gender smoking_history\n",
       "5096   Female         No Info\n",
       "33671    Male           never\n",
       "30919  Female         No Info\n",
       "20433  Female         No Info\n",
       "4005     Male         No Info"
      ]
     },
     "execution_count": 34,
     "metadata": {},
     "output_type": "execute_result"
    }
   ],
   "source": [
    "# Separating the categorical coulmns from the x_train data using select_dtypes.\n",
    "x_train_cat = x_train.select_dtypes(include=['object'])\n",
    "x_train_cat.head()"
   ]
  },
  {
   "cell_type": "markdown",
   "id": "cc4851eb",
   "metadata": {},
   "source": [
    "### `Rescaling the Categorical Features`"
   ]
  },
  {
   "cell_type": "code",
   "execution_count": 35,
   "id": "826e6700",
   "metadata": {
    "ExecuteTime": {
     "end_time": "2023-09-18T10:44:16.667044Z",
     "start_time": "2023-09-18T10:44:16.609805Z"
    }
   },
   "outputs": [],
   "source": [
    "# OneHotEncoding the categorical features\n",
    "# Importing the OneHotEncoder from sklearn.preprocessing.\n",
    "from sklearn.preprocessing import OneHotEncoder\n",
    "encoder = OneHotEncoder(drop='first', sparse=False) # Creating the encoder object for the class.\n",
    "# Taking the encoder object and using fit_transform we are rescaling the data.\n",
    "x_train_cat_transformed = pd.DataFrame(encoder.fit_transform(x_train_cat),\n",
    "                                      columns=encoder.get_feature_names_out(x_train_cat.columns),\n",
    "                                      index=x_train_cat.index)"
   ]
  },
  {
   "cell_type": "code",
   "execution_count": 36,
   "id": "10c02ae8",
   "metadata": {
    "ExecuteTime": {
     "end_time": "2023-09-18T10:44:16.682230Z",
     "start_time": "2023-09-18T10:44:16.669062Z"
    }
   },
   "outputs": [
    {
     "data": {
      "text/html": [
       "<div>\n",
       "<style scoped>\n",
       "    .dataframe tbody tr th:only-of-type {\n",
       "        vertical-align: middle;\n",
       "    }\n",
       "\n",
       "    .dataframe tbody tr th {\n",
       "        vertical-align: top;\n",
       "    }\n",
       "\n",
       "    .dataframe thead th {\n",
       "        text-align: right;\n",
       "    }\n",
       "</style>\n",
       "<table border=\"1\" class=\"dataframe\">\n",
       "  <thead>\n",
       "    <tr style=\"text-align: right;\">\n",
       "      <th></th>\n",
       "      <th>gender_Male</th>\n",
       "      <th>gender_Other</th>\n",
       "      <th>smoking_history_current</th>\n",
       "      <th>smoking_history_ever</th>\n",
       "      <th>smoking_history_former</th>\n",
       "      <th>smoking_history_never</th>\n",
       "      <th>smoking_history_not current</th>\n",
       "    </tr>\n",
       "  </thead>\n",
       "  <tbody>\n",
       "    <tr>\n",
       "      <th>5096</th>\n",
       "      <td>0.0</td>\n",
       "      <td>0.0</td>\n",
       "      <td>0.0</td>\n",
       "      <td>0.0</td>\n",
       "      <td>0.0</td>\n",
       "      <td>0.0</td>\n",
       "      <td>0.0</td>\n",
       "    </tr>\n",
       "    <tr>\n",
       "      <th>33671</th>\n",
       "      <td>1.0</td>\n",
       "      <td>0.0</td>\n",
       "      <td>0.0</td>\n",
       "      <td>0.0</td>\n",
       "      <td>0.0</td>\n",
       "      <td>1.0</td>\n",
       "      <td>0.0</td>\n",
       "    </tr>\n",
       "    <tr>\n",
       "      <th>30919</th>\n",
       "      <td>0.0</td>\n",
       "      <td>0.0</td>\n",
       "      <td>0.0</td>\n",
       "      <td>0.0</td>\n",
       "      <td>0.0</td>\n",
       "      <td>0.0</td>\n",
       "      <td>0.0</td>\n",
       "    </tr>\n",
       "    <tr>\n",
       "      <th>20433</th>\n",
       "      <td>0.0</td>\n",
       "      <td>0.0</td>\n",
       "      <td>0.0</td>\n",
       "      <td>0.0</td>\n",
       "      <td>0.0</td>\n",
       "      <td>0.0</td>\n",
       "      <td>0.0</td>\n",
       "    </tr>\n",
       "    <tr>\n",
       "      <th>4005</th>\n",
       "      <td>1.0</td>\n",
       "      <td>0.0</td>\n",
       "      <td>0.0</td>\n",
       "      <td>0.0</td>\n",
       "      <td>0.0</td>\n",
       "      <td>0.0</td>\n",
       "      <td>0.0</td>\n",
       "    </tr>\n",
       "  </tbody>\n",
       "</table>\n",
       "</div>"
      ],
      "text/plain": [
       "       gender_Male  gender_Other  smoking_history_current  \\\n",
       "5096           0.0           0.0                      0.0   \n",
       "33671          1.0           0.0                      0.0   \n",
       "30919          0.0           0.0                      0.0   \n",
       "20433          0.0           0.0                      0.0   \n",
       "4005           1.0           0.0                      0.0   \n",
       "\n",
       "       smoking_history_ever  smoking_history_former  smoking_history_never  \\\n",
       "5096                    0.0                     0.0                    0.0   \n",
       "33671                   0.0                     0.0                    1.0   \n",
       "30919                   0.0                     0.0                    0.0   \n",
       "20433                   0.0                     0.0                    0.0   \n",
       "4005                    0.0                     0.0                    0.0   \n",
       "\n",
       "       smoking_history_not current  \n",
       "5096                           0.0  \n",
       "33671                          0.0  \n",
       "30919                          0.0  \n",
       "20433                          0.0  \n",
       "4005                           0.0  "
      ]
     },
     "execution_count": 36,
     "metadata": {},
     "output_type": "execute_result"
    }
   ],
   "source": [
    "x_train_cat_transformed.head()"
   ]
  },
  {
   "cell_type": "code",
   "execution_count": 37,
   "id": "474abac4",
   "metadata": {
    "ExecuteTime": {
     "end_time": "2023-09-18T10:44:16.728969Z",
     "start_time": "2023-09-18T10:44:16.683379Z"
    }
   },
   "outputs": [
    {
     "data": {
      "text/html": [
       "<div>\n",
       "<style scoped>\n",
       "    .dataframe tbody tr th:only-of-type {\n",
       "        vertical-align: middle;\n",
       "    }\n",
       "\n",
       "    .dataframe tbody tr th {\n",
       "        vertical-align: top;\n",
       "    }\n",
       "\n",
       "    .dataframe thead th {\n",
       "        text-align: right;\n",
       "    }\n",
       "</style>\n",
       "<table border=\"1\" class=\"dataframe\">\n",
       "  <thead>\n",
       "    <tr style=\"text-align: right;\">\n",
       "      <th></th>\n",
       "      <th>age</th>\n",
       "      <th>hypertension</th>\n",
       "      <th>heart_disease</th>\n",
       "      <th>bmi</th>\n",
       "      <th>HbA1c_level</th>\n",
       "      <th>blood_glucose_level</th>\n",
       "      <th>gender_Male</th>\n",
       "      <th>gender_Other</th>\n",
       "      <th>smoking_history_current</th>\n",
       "      <th>smoking_history_ever</th>\n",
       "      <th>smoking_history_former</th>\n",
       "      <th>smoking_history_never</th>\n",
       "      <th>smoking_history_not current</th>\n",
       "    </tr>\n",
       "  </thead>\n",
       "  <tbody>\n",
       "    <tr>\n",
       "      <th>5096</th>\n",
       "      <td>-1.236488</td>\n",
       "      <td>-0.28882</td>\n",
       "      <td>-0.205214</td>\n",
       "      <td>-0.811076</td>\n",
       "      <td>-1.897985</td>\n",
       "      <td>-0.295729</td>\n",
       "      <td>0.0</td>\n",
       "      <td>0.0</td>\n",
       "      <td>0.0</td>\n",
       "      <td>0.0</td>\n",
       "      <td>0.0</td>\n",
       "      <td>0.0</td>\n",
       "      <td>0.0</td>\n",
       "    </tr>\n",
       "    <tr>\n",
       "      <th>33671</th>\n",
       "      <td>-0.924968</td>\n",
       "      <td>-0.28882</td>\n",
       "      <td>-0.205214</td>\n",
       "      <td>2.476395</td>\n",
       "      <td>-0.497969</td>\n",
       "      <td>0.046761</td>\n",
       "      <td>1.0</td>\n",
       "      <td>0.0</td>\n",
       "      <td>0.0</td>\n",
       "      <td>0.0</td>\n",
       "      <td>0.0</td>\n",
       "      <td>1.0</td>\n",
       "      <td>0.0</td>\n",
       "    </tr>\n",
       "    <tr>\n",
       "      <th>30919</th>\n",
       "      <td>-1.280991</td>\n",
       "      <td>-0.28882</td>\n",
       "      <td>-0.205214</td>\n",
       "      <td>-1.495412</td>\n",
       "      <td>0.902046</td>\n",
       "      <td>-0.295729</td>\n",
       "      <td>0.0</td>\n",
       "      <td>0.0</td>\n",
       "      <td>0.0</td>\n",
       "      <td>0.0</td>\n",
       "      <td>0.0</td>\n",
       "      <td>0.0</td>\n",
       "      <td>0.0</td>\n",
       "    </tr>\n",
       "    <tr>\n",
       "      <th>20433</th>\n",
       "      <td>-0.746956</td>\n",
       "      <td>-0.28882</td>\n",
       "      <td>-0.205214</td>\n",
       "      <td>0.003049</td>\n",
       "      <td>-1.431313</td>\n",
       "      <td>-0.931781</td>\n",
       "      <td>0.0</td>\n",
       "      <td>0.0</td>\n",
       "      <td>0.0</td>\n",
       "      <td>0.0</td>\n",
       "      <td>0.0</td>\n",
       "      <td>0.0</td>\n",
       "      <td>0.0</td>\n",
       "    </tr>\n",
       "    <tr>\n",
       "      <th>4005</th>\n",
       "      <td>-1.102980</td>\n",
       "      <td>-0.28882</td>\n",
       "      <td>-0.205214</td>\n",
       "      <td>-0.651790</td>\n",
       "      <td>-1.431313</td>\n",
       "      <td>0.487105</td>\n",
       "      <td>1.0</td>\n",
       "      <td>0.0</td>\n",
       "      <td>0.0</td>\n",
       "      <td>0.0</td>\n",
       "      <td>0.0</td>\n",
       "      <td>0.0</td>\n",
       "      <td>0.0</td>\n",
       "    </tr>\n",
       "  </tbody>\n",
       "</table>\n",
       "</div>"
      ],
      "text/plain": [
       "            age  hypertension  heart_disease       bmi  HbA1c_level  \\\n",
       "5096  -1.236488      -0.28882      -0.205214 -0.811076    -1.897985   \n",
       "33671 -0.924968      -0.28882      -0.205214  2.476395    -0.497969   \n",
       "30919 -1.280991      -0.28882      -0.205214 -1.495412     0.902046   \n",
       "20433 -0.746956      -0.28882      -0.205214  0.003049    -1.431313   \n",
       "4005  -1.102980      -0.28882      -0.205214 -0.651790    -1.431313   \n",
       "\n",
       "       blood_glucose_level  gender_Male  gender_Other  \\\n",
       "5096             -0.295729          0.0           0.0   \n",
       "33671             0.046761          1.0           0.0   \n",
       "30919            -0.295729          0.0           0.0   \n",
       "20433            -0.931781          0.0           0.0   \n",
       "4005              0.487105          1.0           0.0   \n",
       "\n",
       "       smoking_history_current  smoking_history_ever  smoking_history_former  \\\n",
       "5096                       0.0                   0.0                     0.0   \n",
       "33671                      0.0                   0.0                     0.0   \n",
       "30919                      0.0                   0.0                     0.0   \n",
       "20433                      0.0                   0.0                     0.0   \n",
       "4005                       0.0                   0.0                     0.0   \n",
       "\n",
       "       smoking_history_never  smoking_history_not current  \n",
       "5096                     0.0                          0.0  \n",
       "33671                    1.0                          0.0  \n",
       "30919                    0.0                          0.0  \n",
       "20433                    0.0                          0.0  \n",
       "4005                     0.0                          0.0  "
      ]
     },
     "execution_count": 37,
     "metadata": {},
     "output_type": "execute_result"
    }
   ],
   "source": [
    "x_train_transformed = pd.concat([x_train_num_transformed, x_train_cat_transformed], axis=1)\n",
    "\n",
    "x_train_transformed.head()"
   ]
  },
  {
   "cell_type": "markdown",
   "id": "493f0cb7",
   "metadata": {},
   "source": [
    "### `Applying preprocessing on test data`"
   ]
  },
  {
   "cell_type": "code",
   "execution_count": 38,
   "id": "c91d9915",
   "metadata": {
    "ExecuteTime": {
     "end_time": "2023-09-18T10:44:16.744934Z",
     "start_time": "2023-09-18T10:44:16.730937Z"
    }
   },
   "outputs": [
    {
     "data": {
      "text/html": [
       "<div>\n",
       "<style scoped>\n",
       "    .dataframe tbody tr th:only-of-type {\n",
       "        vertical-align: middle;\n",
       "    }\n",
       "\n",
       "    .dataframe tbody tr th {\n",
       "        vertical-align: top;\n",
       "    }\n",
       "\n",
       "    .dataframe thead th {\n",
       "        text-align: right;\n",
       "    }\n",
       "</style>\n",
       "<table border=\"1\" class=\"dataframe\">\n",
       "  <thead>\n",
       "    <tr style=\"text-align: right;\">\n",
       "      <th></th>\n",
       "      <th>age</th>\n",
       "      <th>hypertension</th>\n",
       "      <th>heart_disease</th>\n",
       "      <th>bmi</th>\n",
       "      <th>HbA1c_level</th>\n",
       "      <th>blood_glucose_level</th>\n",
       "    </tr>\n",
       "  </thead>\n",
       "  <tbody>\n",
       "    <tr>\n",
       "      <th>2547</th>\n",
       "      <td>5.0</td>\n",
       "      <td>0</td>\n",
       "      <td>0</td>\n",
       "      <td>15.14</td>\n",
       "      <td>4.5</td>\n",
       "      <td>90</td>\n",
       "    </tr>\n",
       "    <tr>\n",
       "      <th>34242</th>\n",
       "      <td>19.0</td>\n",
       "      <td>0</td>\n",
       "      <td>0</td>\n",
       "      <td>22.74</td>\n",
       "      <td>6.6</td>\n",
       "      <td>85</td>\n",
       "    </tr>\n",
       "    <tr>\n",
       "      <th>69022</th>\n",
       "      <td>52.0</td>\n",
       "      <td>0</td>\n",
       "      <td>0</td>\n",
       "      <td>24.27</td>\n",
       "      <td>7.5</td>\n",
       "      <td>220</td>\n",
       "    </tr>\n",
       "    <tr>\n",
       "      <th>49536</th>\n",
       "      <td>55.0</td>\n",
       "      <td>0</td>\n",
       "      <td>0</td>\n",
       "      <td>27.32</td>\n",
       "      <td>5.7</td>\n",
       "      <td>85</td>\n",
       "    </tr>\n",
       "    <tr>\n",
       "      <th>78171</th>\n",
       "      <td>22.0</td>\n",
       "      <td>0</td>\n",
       "      <td>0</td>\n",
       "      <td>28.78</td>\n",
       "      <td>4.5</td>\n",
       "      <td>200</td>\n",
       "    </tr>\n",
       "  </tbody>\n",
       "</table>\n",
       "</div>"
      ],
      "text/plain": [
       "        age  hypertension  heart_disease    bmi  HbA1c_level  \\\n",
       "2547    5.0             0              0  15.14          4.5   \n",
       "34242  19.0             0              0  22.74          6.6   \n",
       "69022  52.0             0              0  24.27          7.5   \n",
       "49536  55.0             0              0  27.32          5.7   \n",
       "78171  22.0             0              0  28.78          4.5   \n",
       "\n",
       "       blood_glucose_level  \n",
       "2547                    90  \n",
       "34242                   85  \n",
       "69022                  220  \n",
       "49536                   85  \n",
       "78171                  200  "
      ]
     },
     "execution_count": 38,
     "metadata": {},
     "output_type": "execute_result"
    }
   ],
   "source": [
    "# Separating the numerical coulmns from the x_train data using select_dtypes.\n",
    "x_test_num = x_test.select_dtypes(include=['int64','float64'])\n",
    "x_test_num.head()"
   ]
  },
  {
   "cell_type": "markdown",
   "id": "068f5486",
   "metadata": {},
   "source": [
    "### `Rescaling the Numerical Features`"
   ]
  },
  {
   "cell_type": "code",
   "execution_count": 39,
   "id": "5a1f4de5",
   "metadata": {
    "ExecuteTime": {
     "end_time": "2023-09-18T10:44:16.776188Z",
     "start_time": "2023-09-18T10:44:16.746936Z"
    }
   },
   "outputs": [],
   "source": [
    "from sklearn.preprocessing import StandardScaler # Importing the standardscaler from sklearn.preprocessing.\n",
    "scaler = StandardScaler() # Creating the scaler object for the class.\n",
    "# Taking the scalar object and using fit_transform we are rescaling the data.\n",
    "x_test_num_transformed = pd.DataFrame(scaler.fit_transform(x_test_num),\n",
    "                                      columns=x_test_num.columns,\n",
    "                                      index= x_test_num.index)"
   ]
  },
  {
   "cell_type": "code",
   "execution_count": 40,
   "id": "5de9a46d",
   "metadata": {
    "ExecuteTime": {
     "end_time": "2023-09-18T10:44:16.791390Z",
     "start_time": "2023-09-18T10:44:16.778158Z"
    }
   },
   "outputs": [
    {
     "data": {
      "text/html": [
       "<div>\n",
       "<style scoped>\n",
       "    .dataframe tbody tr th:only-of-type {\n",
       "        vertical-align: middle;\n",
       "    }\n",
       "\n",
       "    .dataframe tbody tr th {\n",
       "        vertical-align: top;\n",
       "    }\n",
       "\n",
       "    .dataframe thead th {\n",
       "        text-align: right;\n",
       "    }\n",
       "</style>\n",
       "<table border=\"1\" class=\"dataframe\">\n",
       "  <thead>\n",
       "    <tr style=\"text-align: right;\">\n",
       "      <th></th>\n",
       "      <th>age</th>\n",
       "      <th>hypertension</th>\n",
       "      <th>heart_disease</th>\n",
       "      <th>bmi</th>\n",
       "      <th>HbA1c_level</th>\n",
       "      <th>blood_glucose_level</th>\n",
       "    </tr>\n",
       "  </thead>\n",
       "  <tbody>\n",
       "    <tr>\n",
       "      <th>2547</th>\n",
       "      <td>-1.641002</td>\n",
       "      <td>-0.293719</td>\n",
       "      <td>-0.209323</td>\n",
       "      <td>-1.820085</td>\n",
       "      <td>-0.954762</td>\n",
       "      <td>-1.185421</td>\n",
       "    </tr>\n",
       "    <tr>\n",
       "      <th>34242</th>\n",
       "      <td>-1.017114</td>\n",
       "      <td>-0.293719</td>\n",
       "      <td>-0.209323</td>\n",
       "      <td>-0.690692</td>\n",
       "      <td>0.992148</td>\n",
       "      <td>-1.307360</td>\n",
       "    </tr>\n",
       "    <tr>\n",
       "      <th>69022</th>\n",
       "      <td>0.453480</td>\n",
       "      <td>-0.293719</td>\n",
       "      <td>-0.209323</td>\n",
       "      <td>-0.463328</td>\n",
       "      <td>1.826537</td>\n",
       "      <td>1.984981</td>\n",
       "    </tr>\n",
       "    <tr>\n",
       "      <th>49536</th>\n",
       "      <td>0.587170</td>\n",
       "      <td>-0.293719</td>\n",
       "      <td>-0.209323</td>\n",
       "      <td>-0.010085</td>\n",
       "      <td>0.157758</td>\n",
       "      <td>-1.307360</td>\n",
       "    </tr>\n",
       "    <tr>\n",
       "      <th>78171</th>\n",
       "      <td>-0.883423</td>\n",
       "      <td>-0.293719</td>\n",
       "      <td>-0.209323</td>\n",
       "      <td>0.206878</td>\n",
       "      <td>-0.954762</td>\n",
       "      <td>1.497227</td>\n",
       "    </tr>\n",
       "  </tbody>\n",
       "</table>\n",
       "</div>"
      ],
      "text/plain": [
       "            age  hypertension  heart_disease       bmi  HbA1c_level  \\\n",
       "2547  -1.641002     -0.293719      -0.209323 -1.820085    -0.954762   \n",
       "34242 -1.017114     -0.293719      -0.209323 -0.690692     0.992148   \n",
       "69022  0.453480     -0.293719      -0.209323 -0.463328     1.826537   \n",
       "49536  0.587170     -0.293719      -0.209323 -0.010085     0.157758   \n",
       "78171 -0.883423     -0.293719      -0.209323  0.206878    -0.954762   \n",
       "\n",
       "       blood_glucose_level  \n",
       "2547             -1.185421  \n",
       "34242            -1.307360  \n",
       "69022             1.984981  \n",
       "49536            -1.307360  \n",
       "78171             1.497227  "
      ]
     },
     "execution_count": 40,
     "metadata": {},
     "output_type": "execute_result"
    }
   ],
   "source": [
    "x_test_num_transformed.head()"
   ]
  },
  {
   "cell_type": "code",
   "execution_count": 41,
   "id": "efc8a43c",
   "metadata": {
    "ExecuteTime": {
     "end_time": "2023-09-18T10:44:16.821786Z",
     "start_time": "2023-09-18T10:44:16.794529Z"
    }
   },
   "outputs": [
    {
     "data": {
      "text/html": [
       "<div>\n",
       "<style scoped>\n",
       "    .dataframe tbody tr th:only-of-type {\n",
       "        vertical-align: middle;\n",
       "    }\n",
       "\n",
       "    .dataframe tbody tr th {\n",
       "        vertical-align: top;\n",
       "    }\n",
       "\n",
       "    .dataframe thead th {\n",
       "        text-align: right;\n",
       "    }\n",
       "</style>\n",
       "<table border=\"1\" class=\"dataframe\">\n",
       "  <thead>\n",
       "    <tr style=\"text-align: right;\">\n",
       "      <th></th>\n",
       "      <th>gender</th>\n",
       "      <th>smoking_history</th>\n",
       "    </tr>\n",
       "  </thead>\n",
       "  <tbody>\n",
       "    <tr>\n",
       "      <th>2547</th>\n",
       "      <td>Female</td>\n",
       "      <td>No Info</td>\n",
       "    </tr>\n",
       "    <tr>\n",
       "      <th>34242</th>\n",
       "      <td>Male</td>\n",
       "      <td>never</td>\n",
       "    </tr>\n",
       "    <tr>\n",
       "      <th>69022</th>\n",
       "      <td>Female</td>\n",
       "      <td>never</td>\n",
       "    </tr>\n",
       "    <tr>\n",
       "      <th>49536</th>\n",
       "      <td>Male</td>\n",
       "      <td>No Info</td>\n",
       "    </tr>\n",
       "    <tr>\n",
       "      <th>78171</th>\n",
       "      <td>Female</td>\n",
       "      <td>never</td>\n",
       "    </tr>\n",
       "  </tbody>\n",
       "</table>\n",
       "</div>"
      ],
      "text/plain": [
       "       gender smoking_history\n",
       "2547   Female         No Info\n",
       "34242    Male           never\n",
       "69022  Female           never\n",
       "49536    Male         No Info\n",
       "78171  Female           never"
      ]
     },
     "execution_count": 41,
     "metadata": {},
     "output_type": "execute_result"
    }
   ],
   "source": [
    "# Separating the categorical coulmns from the x_train data using select_dtypes.\n",
    "x_test_cat = x_test.select_dtypes(include=['object'])\n",
    "x_test_cat.head()"
   ]
  },
  {
   "cell_type": "markdown",
   "id": "715bb1ed",
   "metadata": {},
   "source": [
    "### `Rescaling the Categorical Features`"
   ]
  },
  {
   "cell_type": "code",
   "execution_count": 42,
   "id": "e5cab332",
   "metadata": {
    "ExecuteTime": {
     "end_time": "2023-09-18T10:44:16.852987Z",
     "start_time": "2023-09-18T10:44:16.823756Z"
    }
   },
   "outputs": [],
   "source": [
    "# OneHotEncoding the categorical features\n",
    "# Importing the OneHotEncoder from sklearn.preprocessing.\n",
    "from sklearn.preprocessing import OneHotEncoder\n",
    "encoder = OneHotEncoder(drop='first', sparse=False) # Creating the encoder object for the class.\n",
    "# Taking the encoder object and using fit_transform we are rescaling the data.\n",
    "x_test_cat_transformed = pd.DataFrame(encoder.fit_transform(x_test_cat),\n",
    "                                      columns=encoder.get_feature_names_out(x_test_cat.columns),\n",
    "                                      index=x_test_cat.index)"
   ]
  },
  {
   "cell_type": "code",
   "execution_count": 43,
   "id": "b1b50c1b",
   "metadata": {
    "ExecuteTime": {
     "end_time": "2023-09-18T10:44:16.867992Z",
     "start_time": "2023-09-18T10:44:16.855992Z"
    }
   },
   "outputs": [
    {
     "data": {
      "text/html": [
       "<div>\n",
       "<style scoped>\n",
       "    .dataframe tbody tr th:only-of-type {\n",
       "        vertical-align: middle;\n",
       "    }\n",
       "\n",
       "    .dataframe tbody tr th {\n",
       "        vertical-align: top;\n",
       "    }\n",
       "\n",
       "    .dataframe thead th {\n",
       "        text-align: right;\n",
       "    }\n",
       "</style>\n",
       "<table border=\"1\" class=\"dataframe\">\n",
       "  <thead>\n",
       "    <tr style=\"text-align: right;\">\n",
       "      <th></th>\n",
       "      <th>gender_Male</th>\n",
       "      <th>gender_Other</th>\n",
       "      <th>smoking_history_current</th>\n",
       "      <th>smoking_history_ever</th>\n",
       "      <th>smoking_history_former</th>\n",
       "      <th>smoking_history_never</th>\n",
       "      <th>smoking_history_not current</th>\n",
       "    </tr>\n",
       "  </thead>\n",
       "  <tbody>\n",
       "    <tr>\n",
       "      <th>2547</th>\n",
       "      <td>0.0</td>\n",
       "      <td>0.0</td>\n",
       "      <td>0.0</td>\n",
       "      <td>0.0</td>\n",
       "      <td>0.0</td>\n",
       "      <td>0.0</td>\n",
       "      <td>0.0</td>\n",
       "    </tr>\n",
       "    <tr>\n",
       "      <th>34242</th>\n",
       "      <td>1.0</td>\n",
       "      <td>0.0</td>\n",
       "      <td>0.0</td>\n",
       "      <td>0.0</td>\n",
       "      <td>0.0</td>\n",
       "      <td>1.0</td>\n",
       "      <td>0.0</td>\n",
       "    </tr>\n",
       "    <tr>\n",
       "      <th>69022</th>\n",
       "      <td>0.0</td>\n",
       "      <td>0.0</td>\n",
       "      <td>0.0</td>\n",
       "      <td>0.0</td>\n",
       "      <td>0.0</td>\n",
       "      <td>1.0</td>\n",
       "      <td>0.0</td>\n",
       "    </tr>\n",
       "    <tr>\n",
       "      <th>49536</th>\n",
       "      <td>1.0</td>\n",
       "      <td>0.0</td>\n",
       "      <td>0.0</td>\n",
       "      <td>0.0</td>\n",
       "      <td>0.0</td>\n",
       "      <td>0.0</td>\n",
       "      <td>0.0</td>\n",
       "    </tr>\n",
       "    <tr>\n",
       "      <th>78171</th>\n",
       "      <td>0.0</td>\n",
       "      <td>0.0</td>\n",
       "      <td>0.0</td>\n",
       "      <td>0.0</td>\n",
       "      <td>0.0</td>\n",
       "      <td>1.0</td>\n",
       "      <td>0.0</td>\n",
       "    </tr>\n",
       "  </tbody>\n",
       "</table>\n",
       "</div>"
      ],
      "text/plain": [
       "       gender_Male  gender_Other  smoking_history_current  \\\n",
       "2547           0.0           0.0                      0.0   \n",
       "34242          1.0           0.0                      0.0   \n",
       "69022          0.0           0.0                      0.0   \n",
       "49536          1.0           0.0                      0.0   \n",
       "78171          0.0           0.0                      0.0   \n",
       "\n",
       "       smoking_history_ever  smoking_history_former  smoking_history_never  \\\n",
       "2547                    0.0                     0.0                    0.0   \n",
       "34242                   0.0                     0.0                    1.0   \n",
       "69022                   0.0                     0.0                    1.0   \n",
       "49536                   0.0                     0.0                    0.0   \n",
       "78171                   0.0                     0.0                    1.0   \n",
       "\n",
       "       smoking_history_not current  \n",
       "2547                           0.0  \n",
       "34242                          0.0  \n",
       "69022                          0.0  \n",
       "49536                          0.0  \n",
       "78171                          0.0  "
      ]
     },
     "execution_count": 43,
     "metadata": {},
     "output_type": "execute_result"
    }
   ],
   "source": [
    "x_test_cat_transformed.head()"
   ]
  },
  {
   "cell_type": "code",
   "execution_count": 44,
   "id": "05a58c44",
   "metadata": {
    "ExecuteTime": {
     "end_time": "2023-09-18T10:44:16.914206Z",
     "start_time": "2023-09-18T10:44:16.870995Z"
    }
   },
   "outputs": [
    {
     "data": {
      "text/html": [
       "<div>\n",
       "<style scoped>\n",
       "    .dataframe tbody tr th:only-of-type {\n",
       "        vertical-align: middle;\n",
       "    }\n",
       "\n",
       "    .dataframe tbody tr th {\n",
       "        vertical-align: top;\n",
       "    }\n",
       "\n",
       "    .dataframe thead th {\n",
       "        text-align: right;\n",
       "    }\n",
       "</style>\n",
       "<table border=\"1\" class=\"dataframe\">\n",
       "  <thead>\n",
       "    <tr style=\"text-align: right;\">\n",
       "      <th></th>\n",
       "      <th>age</th>\n",
       "      <th>hypertension</th>\n",
       "      <th>heart_disease</th>\n",
       "      <th>bmi</th>\n",
       "      <th>HbA1c_level</th>\n",
       "      <th>blood_glucose_level</th>\n",
       "      <th>gender_Male</th>\n",
       "      <th>gender_Other</th>\n",
       "      <th>smoking_history_current</th>\n",
       "      <th>smoking_history_ever</th>\n",
       "      <th>smoking_history_former</th>\n",
       "      <th>smoking_history_never</th>\n",
       "      <th>smoking_history_not current</th>\n",
       "    </tr>\n",
       "  </thead>\n",
       "  <tbody>\n",
       "    <tr>\n",
       "      <th>2547</th>\n",
       "      <td>-1.641002</td>\n",
       "      <td>-0.293719</td>\n",
       "      <td>-0.209323</td>\n",
       "      <td>-1.820085</td>\n",
       "      <td>-0.954762</td>\n",
       "      <td>-1.185421</td>\n",
       "      <td>0.0</td>\n",
       "      <td>0.0</td>\n",
       "      <td>0.0</td>\n",
       "      <td>0.0</td>\n",
       "      <td>0.0</td>\n",
       "      <td>0.0</td>\n",
       "      <td>0.0</td>\n",
       "    </tr>\n",
       "    <tr>\n",
       "      <th>34242</th>\n",
       "      <td>-1.017114</td>\n",
       "      <td>-0.293719</td>\n",
       "      <td>-0.209323</td>\n",
       "      <td>-0.690692</td>\n",
       "      <td>0.992148</td>\n",
       "      <td>-1.307360</td>\n",
       "      <td>1.0</td>\n",
       "      <td>0.0</td>\n",
       "      <td>0.0</td>\n",
       "      <td>0.0</td>\n",
       "      <td>0.0</td>\n",
       "      <td>1.0</td>\n",
       "      <td>0.0</td>\n",
       "    </tr>\n",
       "    <tr>\n",
       "      <th>69022</th>\n",
       "      <td>0.453480</td>\n",
       "      <td>-0.293719</td>\n",
       "      <td>-0.209323</td>\n",
       "      <td>-0.463328</td>\n",
       "      <td>1.826537</td>\n",
       "      <td>1.984981</td>\n",
       "      <td>0.0</td>\n",
       "      <td>0.0</td>\n",
       "      <td>0.0</td>\n",
       "      <td>0.0</td>\n",
       "      <td>0.0</td>\n",
       "      <td>1.0</td>\n",
       "      <td>0.0</td>\n",
       "    </tr>\n",
       "    <tr>\n",
       "      <th>49536</th>\n",
       "      <td>0.587170</td>\n",
       "      <td>-0.293719</td>\n",
       "      <td>-0.209323</td>\n",
       "      <td>-0.010085</td>\n",
       "      <td>0.157758</td>\n",
       "      <td>-1.307360</td>\n",
       "      <td>1.0</td>\n",
       "      <td>0.0</td>\n",
       "      <td>0.0</td>\n",
       "      <td>0.0</td>\n",
       "      <td>0.0</td>\n",
       "      <td>0.0</td>\n",
       "      <td>0.0</td>\n",
       "    </tr>\n",
       "    <tr>\n",
       "      <th>78171</th>\n",
       "      <td>-0.883423</td>\n",
       "      <td>-0.293719</td>\n",
       "      <td>-0.209323</td>\n",
       "      <td>0.206878</td>\n",
       "      <td>-0.954762</td>\n",
       "      <td>1.497227</td>\n",
       "      <td>0.0</td>\n",
       "      <td>0.0</td>\n",
       "      <td>0.0</td>\n",
       "      <td>0.0</td>\n",
       "      <td>0.0</td>\n",
       "      <td>1.0</td>\n",
       "      <td>0.0</td>\n",
       "    </tr>\n",
       "  </tbody>\n",
       "</table>\n",
       "</div>"
      ],
      "text/plain": [
       "            age  hypertension  heart_disease       bmi  HbA1c_level  \\\n",
       "2547  -1.641002     -0.293719      -0.209323 -1.820085    -0.954762   \n",
       "34242 -1.017114     -0.293719      -0.209323 -0.690692     0.992148   \n",
       "69022  0.453480     -0.293719      -0.209323 -0.463328     1.826537   \n",
       "49536  0.587170     -0.293719      -0.209323 -0.010085     0.157758   \n",
       "78171 -0.883423     -0.293719      -0.209323  0.206878    -0.954762   \n",
       "\n",
       "       blood_glucose_level  gender_Male  gender_Other  \\\n",
       "2547             -1.185421          0.0           0.0   \n",
       "34242            -1.307360          1.0           0.0   \n",
       "69022             1.984981          0.0           0.0   \n",
       "49536            -1.307360          1.0           0.0   \n",
       "78171             1.497227          0.0           0.0   \n",
       "\n",
       "       smoking_history_current  smoking_history_ever  smoking_history_former  \\\n",
       "2547                       0.0                   0.0                     0.0   \n",
       "34242                      0.0                   0.0                     0.0   \n",
       "69022                      0.0                   0.0                     0.0   \n",
       "49536                      0.0                   0.0                     0.0   \n",
       "78171                      0.0                   0.0                     0.0   \n",
       "\n",
       "       smoking_history_never  smoking_history_not current  \n",
       "2547                     0.0                          0.0  \n",
       "34242                    1.0                          0.0  \n",
       "69022                    1.0                          0.0  \n",
       "49536                    0.0                          0.0  \n",
       "78171                    1.0                          0.0  "
      ]
     },
     "execution_count": 44,
     "metadata": {},
     "output_type": "execute_result"
    }
   ],
   "source": [
    "x_test_transformed = pd.concat([x_test_num_transformed, x_test_cat_transformed], axis=1)\n",
    "\n",
    "x_test_transformed.head()"
   ]
  },
  {
   "cell_type": "markdown",
   "id": "4b556c08",
   "metadata": {
    "ExecuteTime": {
     "end_time": "2023-07-29T11:52:49.916076Z",
     "start_time": "2023-07-29T11:52:49.883866Z"
    }
   },
   "source": [
    "### `Treating the Imbalance in the data`"
   ]
  },
  {
   "cell_type": "code",
   "execution_count": 45,
   "id": "7ff83833",
   "metadata": {
    "ExecuteTime": {
     "end_time": "2023-09-18T10:44:17.648437Z",
     "start_time": "2023-09-18T10:44:16.916206Z"
    }
   },
   "outputs": [],
   "source": [
    "from imblearn.over_sampling import SMOTE, BorderlineSMOTE, ADASYN, SVMSMOTE\n",
    "from collections import Counter"
   ]
  },
  {
   "cell_type": "code",
   "execution_count": 46,
   "id": "124c1ff3",
   "metadata": {
    "ExecuteTime": {
     "end_time": "2023-09-18T10:44:17.978614Z",
     "start_time": "2023-09-18T10:44:17.650426Z"
    }
   },
   "outputs": [],
   "source": [
    "# Resampling the minority class_1. The strategy can be changed as required.\n",
    "sm = SMOTE(sampling_strategy='minority', random_state=42)\n",
    "# Fit the model to generate the data.\n",
    "x_train_sm, y_train_sm = sm.fit_resample(x_train_transformed, y_train)"
   ]
  },
  {
   "cell_type": "code",
   "execution_count": 47,
   "id": "7db20bf9",
   "metadata": {
    "ExecuteTime": {
     "end_time": "2023-09-18T10:44:18.009239Z",
     "start_time": "2023-09-18T10:44:17.980630Z"
    }
   },
   "outputs": [
    {
     "name": "stdout",
     "output_type": "stream",
     "text": [
      "Number of Classes before performing the Sampling Counter({0: 65794, 1: 6315})\n",
      "Number of Classes after performing the Sampling Counter({0: 65794, 1: 65794})\n"
     ]
    }
   ],
   "source": [
    "print('Number of Classes before performing the Sampling {}'.format(Counter(y_train)))\n",
    "print('Number of Classes after performing the Sampling {}'.format(Counter(y_train_sm)))"
   ]
  },
  {
   "cell_type": "code",
   "execution_count": 48,
   "id": "d1e7fa59",
   "metadata": {
    "ExecuteTime": {
     "end_time": "2023-09-18T10:44:18.040132Z",
     "start_time": "2023-09-18T10:44:18.011250Z"
    }
   },
   "outputs": [
    {
     "data": {
      "text/plain": [
       "(131588, 13)"
      ]
     },
     "execution_count": 48,
     "metadata": {},
     "output_type": "execute_result"
    },
    {
     "data": {
      "text/plain": [
       "(131588,)"
      ]
     },
     "execution_count": 48,
     "metadata": {},
     "output_type": "execute_result"
    }
   ],
   "source": [
    "x_train_sm.shape\n",
    "y_train_sm.shape"
   ]
  },
  {
   "cell_type": "code",
   "execution_count": 49,
   "id": "3ca91695",
   "metadata": {
    "ExecuteTime": {
     "end_time": "2023-09-18T10:44:19.323113Z",
     "start_time": "2023-09-18T10:44:18.042133Z"
    }
   },
   "outputs": [],
   "source": [
    "# Resampling the minority class_1. The strategy` can be changed as required.\n",
    "ads = ADASYN(sampling_strategy='minority', random_state=42)\n",
    "# Fit the model to generate the data.\n",
    "x_train_ads, y_train_ads = ads.fit_resample(x_train_transformed, y_train)"
   ]
  },
  {
   "cell_type": "code",
   "execution_count": 50,
   "id": "9e3f20aa",
   "metadata": {
    "ExecuteTime": {
     "end_time": "2023-09-18T10:44:19.354497Z",
     "start_time": "2023-09-18T10:44:19.324345Z"
    }
   },
   "outputs": [
    {
     "name": "stdout",
     "output_type": "stream",
     "text": [
      "Number of Classes before performing the Sampling Counter({0: 65794, 1: 6315})\n",
      "Number of Classes after performing the Sampling Counter({0: 65794, 1: 65629})\n"
     ]
    }
   ],
   "source": [
    "print('Number of Classes before performing the Sampling {}'.format(Counter(y_train)))\n",
    "print('Number of Classes after performing the Sampling {}'.format(Counter(y_train_ads)))"
   ]
  },
  {
   "cell_type": "code",
   "execution_count": 51,
   "id": "c51be998",
   "metadata": {
    "ExecuteTime": {
     "end_time": "2023-09-18T10:44:19.369726Z",
     "start_time": "2023-09-18T10:44:19.356501Z"
    }
   },
   "outputs": [
    {
     "data": {
      "text/plain": [
       "(131423, 13)"
      ]
     },
     "execution_count": 51,
     "metadata": {},
     "output_type": "execute_result"
    },
    {
     "data": {
      "text/plain": [
       "(131423,)"
      ]
     },
     "execution_count": 51,
     "metadata": {},
     "output_type": "execute_result"
    }
   ],
   "source": [
    "x_train_ads.shape\n",
    "y_train_ads.shape"
   ]
  },
  {
   "cell_type": "code",
   "execution_count": 52,
   "id": "bd11b72d",
   "metadata": {
    "ExecuteTime": {
     "end_time": "2023-09-18T10:44:55.965839Z",
     "start_time": "2023-09-18T10:44:19.372637Z"
    }
   },
   "outputs": [],
   "source": [
    "# Resampling the minority class_1. The strategy can be changed as required.\n",
    "svms = SVMSMOTE(sampling_strategy='minority', random_state=42)\n",
    "# Fit the model to generate the data.\n",
    "x_train_svms, y_train_svms = svms.fit_resample(x_train_transformed, y_train)"
   ]
  },
  {
   "cell_type": "code",
   "execution_count": 53,
   "id": "699750eb",
   "metadata": {
    "ExecuteTime": {
     "end_time": "2023-09-18T10:44:56.012117Z",
     "start_time": "2023-09-18T10:44:55.967800Z"
    }
   },
   "outputs": [
    {
     "name": "stdout",
     "output_type": "stream",
     "text": [
      "Number of Classes before performing the Sampling Counter({0: 65794, 1: 6315})\n",
      "Number of Classes after performing the Sampling Counter({0: 65794, 1: 65794})\n"
     ]
    }
   ],
   "source": [
    "print('Number of Classes before performing the Sampling {}'.format(Counter(y_train)))\n",
    "print('Number of Classes after performing the Sampling {}'.format(Counter(y_train_svms)))"
   ]
  },
  {
   "cell_type": "code",
   "execution_count": 54,
   "id": "3a5ceafe",
   "metadata": {
    "ExecuteTime": {
     "end_time": "2023-09-18T10:44:56.043509Z",
     "start_time": "2023-09-18T10:44:56.015268Z"
    }
   },
   "outputs": [
    {
     "data": {
      "text/plain": [
       "(131588, 13)"
      ]
     },
     "execution_count": 54,
     "metadata": {},
     "output_type": "execute_result"
    },
    {
     "data": {
      "text/plain": [
       "(131588,)"
      ]
     },
     "execution_count": 54,
     "metadata": {},
     "output_type": "execute_result"
    }
   ],
   "source": [
    "x_train_svms.shape\n",
    "y_train_svms.shape"
   ]
  },
  {
   "cell_type": "markdown",
   "id": "b4a8c80b",
   "metadata": {},
   "source": [
    "## *`Model Buliding and Training the model`*\n",
    "### *`Neural Networks with Smote Technique`*"
   ]
  },
  {
   "cell_type": "code",
   "execution_count": 55,
   "id": "75b34ce0",
   "metadata": {
    "ExecuteTime": {
     "end_time": "2023-09-18T10:46:07.061910Z",
     "start_time": "2023-09-18T10:45:57.475929Z"
    }
   },
   "outputs": [],
   "source": [
    "from keras.models import Sequential\n",
    "from keras.layers import Dense, Dropout, BatchNormalization\n",
    "from keras.callbacks import EarlyStopping\n",
    "import keras_tuner"
   ]
  },
  {
   "cell_type": "code",
   "execution_count": 56,
   "id": "25dc5e56",
   "metadata": {
    "ExecuteTime": {
     "end_time": "2023-09-18T10:46:07.403833Z",
     "start_time": "2023-09-18T10:46:07.066615Z"
    }
   },
   "outputs": [],
   "source": [
    "model = Sequential()\n",
    "model.add(Dense(40, input_dim= 13, activation = 'relu', kernel_initializer='he_uniform'))\n",
    "model.add(Dense(30, activation = 'relu'))\n",
    "model.add(Dense(20, activation = 'relu'))\n",
    "model.add(Dense(10, activation = 'relu'))\n",
    "model.add(Dense(1, activation = 'sigmoid'))"
   ]
  },
  {
   "cell_type": "code",
   "execution_count": 57,
   "id": "a95d4ba3",
   "metadata": {
    "ExecuteTime": {
     "end_time": "2023-09-18T10:46:07.419745Z",
     "start_time": "2023-09-18T10:46:07.405831Z"
    }
   },
   "outputs": [],
   "source": [
    "callback = EarlyStopping(monitor=\"val_loss\", min_delta=0.001, patience=3, start_from_epoch=10)"
   ]
  },
  {
   "cell_type": "code",
   "execution_count": 58,
   "id": "e2a2714e",
   "metadata": {
    "ExecuteTime": {
     "end_time": "2023-09-18T10:46:07.451766Z",
     "start_time": "2023-09-18T10:46:07.426757Z"
    }
   },
   "outputs": [
    {
     "name": "stdout",
     "output_type": "stream",
     "text": [
      "Model: \"sequential\"\n",
      "_________________________________________________________________\n",
      " Layer (type)                Output Shape              Param #   \n",
      "=================================================================\n",
      " dense (Dense)               (None, 40)                560       \n",
      "                                                                 \n",
      " dense_1 (Dense)             (None, 30)                1230      \n",
      "                                                                 \n",
      " dense_2 (Dense)             (None, 20)                620       \n",
      "                                                                 \n",
      " dense_3 (Dense)             (None, 10)                210       \n",
      "                                                                 \n",
      " dense_4 (Dense)             (None, 1)                 11        \n",
      "                                                                 \n",
      "=================================================================\n",
      "Total params: 2,631\n",
      "Trainable params: 2,631\n",
      "Non-trainable params: 0\n",
      "_________________________________________________________________\n"
     ]
    }
   ],
   "source": [
    "model.summary()"
   ]
  },
  {
   "cell_type": "code",
   "execution_count": 61,
   "id": "f7d87f7e",
   "metadata": {
    "ExecuteTime": {
     "end_time": "2023-09-18T10:47:27.802411Z",
     "start_time": "2023-09-18T10:47:27.782411Z"
    }
   },
   "outputs": [],
   "source": [
    "model.compile(optimizer= 'adam', loss= 'binary_crossentropy', metrics= 'accuracy')"
   ]
  },
  {
   "cell_type": "code",
   "execution_count": 62,
   "id": "62b86838",
   "metadata": {
    "ExecuteTime": {
     "end_time": "2023-09-18T10:48:30.170216Z",
     "start_time": "2023-09-18T10:47:28.398979Z"
    }
   },
   "outputs": [
    {
     "name": "stdout",
     "output_type": "stream",
     "text": [
      "Epoch 1/50\n",
      "3509/3509 [==============================] - 5s 1ms/step - loss: 0.2200 - accuracy: 0.8941 - val_loss: 0.2856 - val_accuracy: 0.8587\n",
      "Epoch 2/50\n",
      "3509/3509 [==============================] - 4s 1ms/step - loss: 0.1855 - accuracy: 0.9086 - val_loss: 0.2777 - val_accuracy: 0.8602\n",
      "Epoch 3/50\n",
      "3509/3509 [==============================] - 4s 1ms/step - loss: 0.1748 - accuracy: 0.9131 - val_loss: 0.2415 - val_accuracy: 0.8825\n",
      "Epoch 4/50\n",
      "3509/3509 [==============================] - 4s 1ms/step - loss: 0.1700 - accuracy: 0.9155 - val_loss: 0.2716 - val_accuracy: 0.8682\n",
      "Epoch 5/50\n",
      "3509/3509 [==============================] - 4s 1ms/step - loss: 0.1674 - accuracy: 0.9173 - val_loss: 0.2571 - val_accuracy: 0.8762\n",
      "Epoch 6/50\n",
      "3509/3509 [==============================] - 4s 1ms/step - loss: 0.1658 - accuracy: 0.9187 - val_loss: 0.2702 - val_accuracy: 0.8653\n",
      "Epoch 7/50\n",
      "3509/3509 [==============================] - 4s 1ms/step - loss: 0.1638 - accuracy: 0.9193 - val_loss: 0.2220 - val_accuracy: 0.8904\n",
      "Epoch 8/50\n",
      "3509/3509 [==============================] - 4s 1ms/step - loss: 0.1626 - accuracy: 0.9195 - val_loss: 0.2388 - val_accuracy: 0.8840\n",
      "Epoch 9/50\n",
      "3509/3509 [==============================] - 4s 1ms/step - loss: 0.1608 - accuracy: 0.9206 - val_loss: 0.2242 - val_accuracy: 0.8957\n",
      "Epoch 10/50\n",
      "3509/3509 [==============================] - 4s 1ms/step - loss: 0.1592 - accuracy: 0.9212 - val_loss: 0.2460 - val_accuracy: 0.8798\n",
      "Epoch 11/50\n",
      "3509/3509 [==============================] - 4s 1ms/step - loss: 0.1585 - accuracy: 0.9226 - val_loss: 0.1789 - val_accuracy: 0.9205\n",
      "Epoch 12/50\n",
      "3509/3509 [==============================] - 4s 1ms/step - loss: 0.1568 - accuracy: 0.9231 - val_loss: 0.2135 - val_accuracy: 0.8974\n",
      "Epoch 13/50\n",
      "3509/3509 [==============================] - 4s 1ms/step - loss: 0.1559 - accuracy: 0.9236 - val_loss: 0.2595 - val_accuracy: 0.8735\n",
      "Epoch 14/50\n",
      "3509/3509 [==============================] - 4s 1ms/step - loss: 0.1549 - accuracy: 0.9242 - val_loss: 0.2345 - val_accuracy: 0.8839\n"
     ]
    }
   ],
   "source": [
    "history = model.fit(x_train_sm, y_train_sm, epochs=50, batch_size=30, validation_split=0.2, callbacks=callback)"
   ]
  },
  {
   "cell_type": "code",
   "execution_count": 63,
   "id": "61182878",
   "metadata": {
    "ExecuteTime": {
     "end_time": "2023-09-18T10:49:38.768526Z",
     "start_time": "2023-09-18T10:49:37.706185Z"
    }
   },
   "outputs": [
    {
     "name": "stdout",
     "output_type": "stream",
     "text": [
      "752/752 [==============================] - 1s 945us/step\n"
     ]
    }
   ],
   "source": [
    "predictions = model.predict(x_test_transformed)"
   ]
  },
  {
   "cell_type": "code",
   "execution_count": 64,
   "id": "2f8cc407",
   "metadata": {
    "ExecuteTime": {
     "end_time": "2023-09-18T10:49:39.449337Z",
     "start_time": "2023-09-18T10:49:39.437302Z"
    }
   },
   "outputs": [
    {
     "data": {
      "text/plain": [
       "array([[7.7870452e-19],\n",
       "       [2.3866117e-12],\n",
       "       [1.0000000e+00],\n",
       "       ...,\n",
       "       [1.0000000e+00],\n",
       "       [1.0000000e+00],\n",
       "       [1.0000000e+00]], dtype=float32)"
      ]
     },
     "execution_count": 64,
     "metadata": {},
     "output_type": "execute_result"
    }
   ],
   "source": [
    "predictions"
   ]
  },
  {
   "cell_type": "code",
   "execution_count": 65,
   "id": "ded24fa1",
   "metadata": {
    "ExecuteTime": {
     "end_time": "2023-09-18T10:49:42.631157Z",
     "start_time": "2023-09-18T10:49:42.621158Z"
    }
   },
   "outputs": [
    {
     "data": {
      "text/plain": [
       "array([[0],\n",
       "       [0],\n",
       "       [1],\n",
       "       ...,\n",
       "       [1],\n",
       "       [1],\n",
       "       [1]])"
      ]
     },
     "execution_count": 65,
     "metadata": {},
     "output_type": "execute_result"
    }
   ],
   "source": [
    "pred_transformed = np.where(predictions>0.5,1,0)\n",
    "pred_transformed"
   ]
  },
  {
   "cell_type": "code",
   "execution_count": 66,
   "id": "cf08d4af",
   "metadata": {
    "ExecuteTime": {
     "end_time": "2023-09-18T10:49:43.705506Z",
     "start_time": "2023-09-18T10:49:43.688474Z"
    }
   },
   "outputs": [],
   "source": [
    "val_loss = history.history['val_loss']\n",
    "loss = history.history['loss']"
   ]
  },
  {
   "cell_type": "code",
   "execution_count": 67,
   "id": "e95c6512",
   "metadata": {
    "ExecuteTime": {
     "end_time": "2023-09-18T10:49:44.408251Z",
     "start_time": "2023-09-18T10:49:44.235869Z"
    }
   },
   "outputs": [
    {
     "data": {
      "image/png": "[encoded data removed]",
      "text/plain": [
       "<Figure size 640x480 with 1 Axes>"
      ]
     },
     "metadata": {},
     "output_type": "display_data"
    }
   ],
   "source": [
    "# Plotting the validation loss and loss to check with the model is overfitted or not.\n",
    "plt.plot(val_loss)\n",
    "plt.plot(loss);"
   ]
  },
  {
   "cell_type": "code",
   "execution_count": 69,
   "id": "78f5d3df",
   "metadata": {
    "ExecuteTime": {
     "end_time": "2023-09-18T10:50:04.916914Z",
     "start_time": "2023-09-18T10:50:04.725457Z"
    }
   },
   "outputs": [
    {
     "data": {
      "image/png": "[encoded data removed]",
      "text/plain": [
       "<Figure size 1500x800 with 1 Axes>"
      ]
     },
     "metadata": {},
     "output_type": "display_data"
    }
   ],
   "source": [
    "pd.DataFrame(history.history).plot(figsize=(15,8))\n",
    "plt.grid(True)\n",
    "plt.gca().set_ylim(0,1)\n",
    "plt.show();"
   ]
  },
  {
   "cell_type": "markdown",
   "id": "39873f5c",
   "metadata": {},
   "source": [
    "### *`Evaluting the model`*"
   ]
  },
  {
   "cell_type": "code",
   "execution_count": 70,
   "id": "f106aae4",
   "metadata": {
    "ExecuteTime": {
     "end_time": "2023-09-18T10:50:51.818420Z",
     "start_time": "2023-09-18T10:50:51.814153Z"
    }
   },
   "outputs": [],
   "source": [
    "from sklearn.metrics import classification_report, confusion_matrix,ConfusionMatrixDisplay"
   ]
  },
  {
   "cell_type": "code",
   "execution_count": 71,
   "id": "08d2ad37",
   "metadata": {
    "ExecuteTime": {
     "end_time": "2023-09-18T10:50:52.423601Z",
     "start_time": "2023-09-18T10:50:52.387638Z"
    }
   },
   "outputs": [
    {
     "name": "stdout",
     "output_type": "stream",
     "text": [
      "Classification report:\n",
      "               precision    recall  f1-score   support\n",
      "\n",
      "           0       0.98      0.95      0.97     21870\n",
      "           1       0.62      0.82      0.70      2167\n",
      "\n",
      "    accuracy                           0.94     24037\n",
      "   macro avg       0.80      0.89      0.83     24037\n",
      "weighted avg       0.95      0.94      0.94     24037\n",
      "\n"
     ]
    }
   ],
   "source": [
    "print('Classification report:\\n',classification_report(y_test, pred_transformed))"
   ]
  },
  {
   "cell_type": "code",
   "execution_count": 72,
   "id": "fa19dac1",
   "metadata": {
    "ExecuteTime": {
     "end_time": "2023-09-18T10:51:04.043755Z",
     "start_time": "2023-09-18T10:51:03.876359Z"
    }
   },
   "outputs": [
    {
     "name": "stdout",
     "output_type": "stream",
     "text": [
      "Confussion Matrix: \n"
     ]
    },
    {
     "data": {
      "image/png": "[encoded data removed]",
      "text/plain": [
       "<Figure size 640x480 with 2 Axes>"
      ]
     },
     "metadata": {},
     "output_type": "display_data"
    }
   ],
   "source": [
    "from sklearn import metrics\n",
    "print('Confussion Matrix: ')\n",
    "confusion_matrix = metrics.confusion_matrix(y_test, pred_transformed)\n",
    "# Create the ConfusionMatrixDisplay object\n",
    "display = metrics.ConfusionMatrixDisplay(confusion_matrix=confusion_matrix)\n",
    "# Display the confusion matrix\n",
    "display.plot()\n",
    "plt.show();"
   ]
  },
  {
   "cell_type": "markdown",
   "id": "5d6812b6",
   "metadata": {},
   "source": [
    "### *`Training the Neural Networks with ADASYS Technique`*"
   ]
  },
  {
   "cell_type": "code",
   "execution_count": 73,
   "id": "b2864dd9",
   "metadata": {
    "ExecuteTime": {
     "end_time": "2023-09-18T10:52:24.094068Z",
     "start_time": "2023-09-18T10:51:13.394598Z"
    }
   },
   "outputs": [
    {
     "name": "stdout",
     "output_type": "stream",
     "text": [
      "Epoch 1/50\n",
      "3505/3505 [==============================] - 5s 1ms/step - loss: 0.2260 - accuracy: 0.8930 - val_loss: 0.3441 - val_accuracy: 0.8791\n",
      "Epoch 2/50\n",
      "3505/3505 [==============================] - 5s 1ms/step - loss: 0.2197 - accuracy: 0.8963 - val_loss: 0.3613 - val_accuracy: 0.8697\n",
      "Epoch 3/50\n",
      "3505/3505 [==============================] - 5s 1ms/step - loss: 0.2161 - accuracy: 0.8979 - val_loss: 0.3730 - val_accuracy: 0.8612\n",
      "Epoch 4/50\n",
      "3505/3505 [==============================] - 5s 1ms/step - loss: 0.2124 - accuracy: 0.9011 - val_loss: 0.4337 - val_accuracy: 0.8320\n",
      "Epoch 5/50\n",
      "3505/3505 [==============================] - 5s 1ms/step - loss: 0.2097 - accuracy: 0.9019 - val_loss: 0.4226 - val_accuracy: 0.8368\n",
      "Epoch 6/50\n",
      "3505/3505 [==============================] - 4s 1ms/step - loss: 0.2070 - accuracy: 0.9046 - val_loss: 0.3896 - val_accuracy: 0.8527\n",
      "Epoch 7/50\n",
      "3505/3505 [==============================] - 5s 1ms/step - loss: 0.2048 - accuracy: 0.9059 - val_loss: 0.3798 - val_accuracy: 0.8638\n",
      "Epoch 8/50\n",
      "3505/3505 [==============================] - 5s 1ms/step - loss: 0.2030 - accuracy: 0.9074 - val_loss: 0.3975 - val_accuracy: 0.8453\n",
      "Epoch 9/50\n",
      "3505/3505 [==============================] - 4s 1ms/step - loss: 0.2005 - accuracy: 0.9081 - val_loss: 0.4092 - val_accuracy: 0.8605\n",
      "Epoch 10/50\n",
      "3505/3505 [==============================] - 5s 1ms/step - loss: 0.1988 - accuracy: 0.9095 - val_loss: 0.3894 - val_accuracy: 0.8501\n",
      "Epoch 11/50\n",
      "3505/3505 [==============================] - 5s 1ms/step - loss: 0.1978 - accuracy: 0.9105 - val_loss: 0.4117 - val_accuracy: 0.8492\n",
      "Epoch 12/50\n",
      "3505/3505 [==============================] - 4s 1ms/step - loss: 0.1964 - accuracy: 0.9101 - val_loss: 0.3242 - val_accuracy: 0.9011\n",
      "Epoch 13/50\n",
      "3505/3505 [==============================] - 5s 1ms/step - loss: 0.1947 - accuracy: 0.9122 - val_loss: 0.4133 - val_accuracy: 0.8471\n",
      "Epoch 14/50\n",
      "3505/3505 [==============================] - 5s 1ms/step - loss: 0.1944 - accuracy: 0.9124 - val_loss: 0.3979 - val_accuracy: 0.8541\n",
      "Epoch 15/50\n",
      "3505/3505 [==============================] - 4s 1ms/step - loss: 0.1922 - accuracy: 0.9145 - val_loss: 0.4003 - val_accuracy: 0.8641\n"
     ]
    }
   ],
   "source": [
    "history_ads = model.fit(x_train_ads, y_train_ads, epochs=50, batch_size=30, validation_split=0.2, callbacks=callback)"
   ]
  },
  {
   "cell_type": "code",
   "execution_count": 74,
   "id": "8164cc2d",
   "metadata": {
    "ExecuteTime": {
     "end_time": "2023-09-18T10:52:29.561528Z",
     "start_time": "2023-09-18T10:52:28.790855Z"
    }
   },
   "outputs": [
    {
     "name": "stdout",
     "output_type": "stream",
     "text": [
      "752/752 [==============================] - 1s 682us/step\n"
     ]
    }
   ],
   "source": [
    "predictions = model.predict(x_test_transformed)"
   ]
  },
  {
   "cell_type": "code",
   "execution_count": 75,
   "id": "5765671f",
   "metadata": {
    "ExecuteTime": {
     "end_time": "2023-09-18T10:52:30.011759Z",
     "start_time": "2023-09-18T10:52:30.002512Z"
    }
   },
   "outputs": [
    {
     "data": {
      "text/plain": [
       "array([[1.7630805e-37],\n",
       "       [1.5466328e-24],\n",
       "       [1.0000000e+00],\n",
       "       ...,\n",
       "       [1.0000000e+00],\n",
       "       [1.0000000e+00],\n",
       "       [1.0000000e+00]], dtype=float32)"
      ]
     },
     "execution_count": 75,
     "metadata": {},
     "output_type": "execute_result"
    }
   ],
   "source": [
    "predictions"
   ]
  },
  {
   "cell_type": "code",
   "execution_count": 76,
   "id": "d905cda0",
   "metadata": {
    "ExecuteTime": {
     "end_time": "2023-09-18T10:52:30.780804Z",
     "start_time": "2023-09-18T10:52:30.764774Z"
    }
   },
   "outputs": [
    {
     "data": {
      "text/plain": [
       "array([[0],\n",
       "       [0],\n",
       "       [1],\n",
       "       ...,\n",
       "       [1],\n",
       "       [1],\n",
       "       [1]])"
      ]
     },
     "execution_count": 76,
     "metadata": {},
     "output_type": "execute_result"
    }
   ],
   "source": [
    "pred_transformed = np.where(predictions>0.5,1,0)\n",
    "pred_transformed"
   ]
  },
  {
   "cell_type": "code",
   "execution_count": 77,
   "id": "d7a1c0c5",
   "metadata": {
    "ExecuteTime": {
     "end_time": "2023-09-18T10:52:31.546557Z",
     "start_time": "2023-09-18T10:52:31.532590Z"
    }
   },
   "outputs": [],
   "source": [
    "val_loss = history_ads.history['val_loss']\n",
    "loss = history_ads.history['loss']"
   ]
  },
  {
   "cell_type": "code",
   "execution_count": 78,
   "id": "536259d3",
   "metadata": {
    "ExecuteTime": {
     "end_time": "2023-09-18T10:52:32.809516Z",
     "start_time": "2023-09-18T10:52:32.669855Z"
    }
   },
   "outputs": [
    {
     "data": {
      "image/png": "[encoded data removed]",
      "text/plain": [
       "<Figure size 640x480 with 1 Axes>"
      ]
     },
     "metadata": {},
     "output_type": "display_data"
    }
   ],
   "source": [
    "# Plotting the validation loss and loss to check with the model is overfitted or not.\n",
    "plt.plot(val_loss)\n",
    "plt.plot(loss);"
   ]
  },
  {
   "cell_type": "code",
   "execution_count": 79,
   "id": "e7434068",
   "metadata": {
    "ExecuteTime": {
     "end_time": "2023-09-18T10:52:33.900927Z",
     "start_time": "2023-09-18T10:52:33.706450Z"
    }
   },
   "outputs": [
    {
     "data": {
      "image/png": "[encoded data removed]",
      "text/plain": [
       "<Figure size 1500x800 with 1 Axes>"
      ]
     },
     "metadata": {},
     "output_type": "display_data"
    }
   ],
   "source": [
    "pd.DataFrame(history_ads.history).plot(figsize=(15,8))\n",
    "plt.grid(True)\n",
    "plt.gca().set_ylim(0,1)\n",
    "plt.show();"
   ]
  },
  {
   "cell_type": "markdown",
   "id": "cdf07792",
   "metadata": {},
   "source": [
    "### *`Evaluting the model`*"
   ]
  },
  {
   "cell_type": "code",
   "execution_count": 80,
   "id": "c66b91be",
   "metadata": {
    "ExecuteTime": {
     "end_time": "2023-09-18T10:52:40.291374Z",
     "start_time": "2023-09-18T10:52:40.285373Z"
    }
   },
   "outputs": [],
   "source": [
    "from sklearn.metrics import classification_report, confusion_matrix,ConfusionMatrixDisplay"
   ]
  },
  {
   "cell_type": "code",
   "execution_count": 81,
   "id": "d7b0fdb7",
   "metadata": {
    "ExecuteTime": {
     "end_time": "2023-09-18T10:52:40.916885Z",
     "start_time": "2023-09-18T10:52:40.871917Z"
    }
   },
   "outputs": [
    {
     "name": "stdout",
     "output_type": "stream",
     "text": [
      "Classification report:\n",
      "               precision    recall  f1-score   support\n",
      "\n",
      "           0       0.99      0.89      0.94     21870\n",
      "           1       0.45      0.88      0.60      2167\n",
      "\n",
      "    accuracy                           0.89     24037\n",
      "   macro avg       0.72      0.89      0.77     24037\n",
      "weighted avg       0.94      0.89      0.91     24037\n",
      "\n"
     ]
    }
   ],
   "source": [
    "print('Classification report:\\n',classification_report(y_test, pred_transformed))"
   ]
  },
  {
   "cell_type": "code",
   "execution_count": 82,
   "id": "ef179b77",
   "metadata": {
    "ExecuteTime": {
     "end_time": "2023-09-18T10:52:42.965853Z",
     "start_time": "2023-09-18T10:52:42.807847Z"
    }
   },
   "outputs": [
    {
     "name": "stdout",
     "output_type": "stream",
     "text": [
      "Confussion Matrix: \n"
     ]
    },
    {
     "data": {
      "image/png": "[encoded data removed]",
      "text/plain": [
       "<Figure size 640x480 with 2 Axes>"
      ]
     },
     "metadata": {},
     "output_type": "display_data"
    }
   ],
   "source": [
    "from sklearn import metrics\n",
    "print('Confussion Matrix: ')\n",
    "confusion_matrix = metrics.confusion_matrix(y_test, pred_transformed)\n",
    "# Create the ConfusionMatrixDisplay object\n",
    "display = metrics.ConfusionMatrixDisplay(confusion_matrix=confusion_matrix)\n",
    "# Display the confusion matrix\n",
    "display.plot()\n",
    "plt.show();"
   ]
  },
  {
   "cell_type": "markdown",
   "id": "8a9c9100",
   "metadata": {},
   "source": [
    "### *`Training the Neural Networks with svm_smote Technique`*"
   ]
  },
  {
   "cell_type": "code",
   "execution_count": 84,
   "id": "57d16360",
   "metadata": {
    "ExecuteTime": {
     "end_time": "2023-09-18T10:55:45.049091Z",
     "start_time": "2023-09-18T10:54:42.099314Z"
    }
   },
   "outputs": [
    {
     "name": "stdout",
     "output_type": "stream",
     "text": [
      "Epoch 1/50\n",
      "3509/3509 [==============================] - 4s 1ms/step - loss: 0.1616 - accuracy: 0.9306 - val_loss: 0.0475 - val_accuracy: 0.9891\n",
      "Epoch 2/50\n",
      "3509/3509 [==============================] - 4s 1ms/step - loss: 0.1576 - accuracy: 0.9337 - val_loss: 0.0429 - val_accuracy: 0.9916\n",
      "Epoch 3/50\n",
      "3509/3509 [==============================] - 4s 1ms/step - loss: 0.1557 - accuracy: 0.9340 - val_loss: 0.0566 - val_accuracy: 0.9870\n",
      "Epoch 4/50\n",
      "3509/3509 [==============================] - 4s 1ms/step - loss: 0.1545 - accuracy: 0.9347 - val_loss: 0.0392 - val_accuracy: 0.9924\n",
      "Epoch 5/50\n",
      "3509/3509 [==============================] - 4s 1ms/step - loss: 0.1535 - accuracy: 0.9350 - val_loss: 0.0567 - val_accuracy: 0.9825\n",
      "Epoch 6/50\n",
      "3509/3509 [==============================] - 5s 1ms/step - loss: 0.1528 - accuracy: 0.9359 - val_loss: 0.0632 - val_accuracy: 0.9834\n",
      "Epoch 7/50\n",
      "3509/3509 [==============================] - 4s 1ms/step - loss: 0.1514 - accuracy: 0.9363 - val_loss: 0.0613 - val_accuracy: 0.9865\n",
      "Epoch 8/50\n",
      "3509/3509 [==============================] - 4s 1ms/step - loss: 0.1510 - accuracy: 0.9374 - val_loss: 0.0408 - val_accuracy: 0.9932\n",
      "Epoch 9/50\n",
      "3509/3509 [==============================] - 4s 1ms/step - loss: 0.1503 - accuracy: 0.9372 - val_loss: 0.0502 - val_accuracy: 0.9918\n",
      "Epoch 10/50\n",
      "3509/3509 [==============================] - 4s 1ms/step - loss: 0.1496 - accuracy: 0.9378 - val_loss: 0.0554 - val_accuracy: 0.9882\n",
      "Epoch 11/50\n",
      "3509/3509 [==============================] - 4s 1ms/step - loss: 0.1489 - accuracy: 0.9382 - val_loss: 0.0587 - val_accuracy: 0.9856\n",
      "Epoch 12/50\n",
      "3509/3509 [==============================] - 4s 1ms/step - loss: 0.1486 - accuracy: 0.9381 - val_loss: 0.0666 - val_accuracy: 0.9871\n",
      "Epoch 13/50\n",
      "3509/3509 [==============================] - 5s 1ms/step - loss: 0.1485 - accuracy: 0.9389 - val_loss: 0.0730 - val_accuracy: 0.9806\n",
      "Epoch 14/50\n",
      "3509/3509 [==============================] - 5s 1ms/step - loss: 0.1474 - accuracy: 0.9396 - val_loss: 0.0659 - val_accuracy: 0.9871\n"
     ]
    }
   ],
   "source": [
    "history_svm = model.fit(x_train_svms, y_train_svms, epochs=50, batch_size=30, validation_split=0.2, callbacks=callback)"
   ]
  },
  {
   "cell_type": "code",
   "execution_count": 85,
   "id": "d8090905",
   "metadata": {
    "ExecuteTime": {
     "end_time": "2023-09-18T10:56:02.792846Z",
     "start_time": "2023-09-18T10:56:01.999029Z"
    }
   },
   "outputs": [
    {
     "name": "stdout",
     "output_type": "stream",
     "text": [
      "752/752 [==============================] - 1s 702us/step\n"
     ]
    }
   ],
   "source": [
    "# Predictions\n",
    "prediction = model.predict(x_test_transformed)"
   ]
  },
  {
   "cell_type": "code",
   "execution_count": 86,
   "id": "1114185d",
   "metadata": {
    "ExecuteTime": {
     "end_time": "2023-09-18T10:56:03.337566Z",
     "start_time": "2023-09-18T10:56:03.318539Z"
    }
   },
   "outputs": [
    {
     "data": {
      "text/plain": [
       "array([[2.8918973e-37],\n",
       "       [5.8625396e-27],\n",
       "       [1.0000000e+00],\n",
       "       ...,\n",
       "       [1.0000000e+00],\n",
       "       [1.0000000e+00],\n",
       "       [1.0000000e+00]], dtype=float32)"
      ]
     },
     "execution_count": 86,
     "metadata": {},
     "output_type": "execute_result"
    }
   ],
   "source": [
    "prediction"
   ]
  },
  {
   "cell_type": "code",
   "execution_count": 87,
   "id": "7c6ef56b",
   "metadata": {
    "ExecuteTime": {
     "end_time": "2023-09-18T10:56:04.241637Z",
     "start_time": "2023-09-18T10:56:04.236604Z"
    }
   },
   "outputs": [
    {
     "data": {
      "text/plain": [
       "array([[0],\n",
       "       [0],\n",
       "       [1],\n",
       "       ...,\n",
       "       [1],\n",
       "       [1],\n",
       "       [1]])"
      ]
     },
     "execution_count": 87,
     "metadata": {},
     "output_type": "execute_result"
    }
   ],
   "source": [
    "# Making the Predictions into binay format.\n",
    "pred_trans = np.where(prediction>0.5,1,0)\n",
    "pred_trans"
   ]
  },
  {
   "cell_type": "code",
   "execution_count": 88,
   "id": "e9fd1827",
   "metadata": {
    "ExecuteTime": {
     "end_time": "2023-09-18T10:56:06.437378Z",
     "start_time": "2023-09-18T10:56:06.423380Z"
    }
   },
   "outputs": [],
   "source": [
    "val_loss = history_svm.history['val_loss']\n",
    "loss = history_svm.history['loss']"
   ]
  },
  {
   "cell_type": "code",
   "execution_count": 89,
   "id": "64954163",
   "metadata": {
    "ExecuteTime": {
     "end_time": "2023-09-18T10:56:08.381455Z",
     "start_time": "2023-09-18T10:56:08.209086Z"
    }
   },
   "outputs": [
    {
     "data": {
      "image/png": "[encoded data removed]",
      "text/plain": [
       "<Figure size 640x480 with 1 Axes>"
      ]
     },
     "metadata": {},
     "output_type": "display_data"
    }
   ],
   "source": [
    "# Plotting the validation loss and loss to check with the model is overfitted or not.\n",
    "plt.plot(val_loss)\n",
    "plt.plot(loss);"
   ]
  },
  {
   "cell_type": "code",
   "execution_count": 90,
   "id": "2371b076",
   "metadata": {
    "ExecuteTime": {
     "end_time": "2023-09-18T10:56:33.527990Z",
     "start_time": "2023-09-18T10:56:33.336652Z"
    }
   },
   "outputs": [
    {
     "data": {
      "image/png": "[encoded data removed]",
      "text/plain": [
       "<Figure size 1500x800 with 1 Axes>"
      ]
     },
     "metadata": {},
     "output_type": "display_data"
    }
   ],
   "source": [
    "pd.DataFrame(history_svm.history).plot(figsize=(15,8))\n",
    "plt.grid(True)\n",
    "plt.gca().set_ylim(0,1)\n",
    "plt.show();"
   ]
  },
  {
   "cell_type": "markdown",
   "id": "83a8a469",
   "metadata": {},
   "source": [
    "### *`Evaluting the model`*"
   ]
  },
  {
   "cell_type": "code",
   "execution_count": 91,
   "id": "7bff5f46",
   "metadata": {
    "ExecuteTime": {
     "end_time": "2023-09-18T10:56:38.603562Z",
     "start_time": "2023-09-18T10:56:38.585568Z"
    }
   },
   "outputs": [],
   "source": [
    "from sklearn.metrics import classification_report, confusion_matrix,ConfusionMatrixDisplay"
   ]
  },
  {
   "cell_type": "code",
   "execution_count": 92,
   "id": "c6a4a942",
   "metadata": {
    "ExecuteTime": {
     "end_time": "2023-09-18T10:56:39.102830Z",
     "start_time": "2023-09-18T10:56:39.063792Z"
    }
   },
   "outputs": [
    {
     "name": "stdout",
     "output_type": "stream",
     "text": [
      "Classification report:\n",
      "               precision    recall  f1-score   support\n",
      "\n",
      "           0       0.98      0.93      0.95     21870\n",
      "           1       0.54      0.85      0.66      2167\n",
      "\n",
      "    accuracy                           0.92     24037\n",
      "   macro avg       0.76      0.89      0.81     24037\n",
      "weighted avg       0.94      0.92      0.93     24037\n",
      "\n"
     ]
    }
   ],
   "source": [
    "print('Classification report:\\n',classification_report(y_test, pred_trans))"
   ]
  },
  {
   "cell_type": "code",
   "execution_count": 93,
   "id": "a1a3119e",
   "metadata": {
    "ExecuteTime": {
     "end_time": "2023-09-18T10:56:39.725205Z",
     "start_time": "2023-09-18T10:56:39.546735Z"
    }
   },
   "outputs": [
    {
     "name": "stdout",
     "output_type": "stream",
     "text": [
      "Confussion Matrix: \n"
     ]
    },
    {
     "data": {
      "image/png": "[encoded data removed]",
      "text/plain": [
       "<Figure size 640x480 with 2 Axes>"
      ]
     },
     "metadata": {},
     "output_type": "display_data"
    }
   ],
   "source": [
    "from sklearn import metrics\n",
    "print('Confussion Matrix: ')\n",
    "confusion_matrix = metrics.confusion_matrix(y_test, pred_trans)\n",
    "# Create the ConfusionMatrixDisplay object\n",
    "display = metrics.ConfusionMatrixDisplay(confusion_matrix=confusion_matrix)\n",
    "# Display the confusion matrix\n",
    "display.plot()\n",
    "plt.show();"
   ]
  },
  {
   "cell_type": "markdown",
   "id": "096870e4",
   "metadata": {},
   "source": [
    "## Performing using the Keras turning\n",
    "### *`Training the Neural Networks with smote Technique`*"
   ]
  },
  {
   "cell_type": "code",
   "execution_count": 94,
   "id": "0a1a3633",
   "metadata": {
    "ExecuteTime": {
     "end_time": "2023-09-18T11:02:53.505811Z",
     "start_time": "2023-09-18T11:02:53.488812Z"
    }
   },
   "outputs": [],
   "source": [
    "def neural_model(par):\n",
    "    model=Sequential()\n",
    "    x=0\n",
    "    for i in range(par.Int('Hidden layers',2,100)):\n",
    "        model.add(Dense(par.Int('neuron{}'.format(x),2,100), activation='relu',input_dim = 13))\n",
    "        model.add(Dropout(par.Choice('Dropout %', values=[0.1, 0.2, 0.3])))\n",
    "        x+=1\n",
    "        \n",
    "    model.add(Dense(1,activation='sigmoid'))\n",
    "    model.compile(optimizer=par.Choice('optimizer',values=['adam','rmsprop','adagrad','adadelta']), loss='binary_crossentropy', metrics=['accuracy'])\n",
    "    return model"
   ]
  },
  {
   "cell_type": "code",
   "execution_count": 95,
   "id": "48c40ca8",
   "metadata": {
    "ExecuteTime": {
     "end_time": "2023-09-18T11:02:54.487955Z",
     "start_time": "2023-09-18T11:02:54.391926Z"
    }
   },
   "outputs": [],
   "source": [
    "tuner = keras_tuner.RandomSearch(neural_model, max_trials=10, objective='val_accuracy', \n",
    "                                   directory =r\"C:\\Users\\yadag\\Dropbox\\PC\\Videos\\Diabetes_Result\")"
   ]
  },
  {
   "cell_type": "code",
   "execution_count": 96,
   "id": "0b23c823",
   "metadata": {
    "ExecuteTime": {
     "end_time": "2023-09-18T11:32:24.164113Z",
     "start_time": "2023-09-18T11:02:56.096268Z"
    }
   },
   "outputs": [
    {
     "name": "stdout",
     "output_type": "stream",
     "text": [
      "Trial 10 Complete [00h 04m 03s]\n",
      "val_accuracy: 0.09015268087387085\n",
      "\n",
      "Best val_accuracy So Far: 0.9098473191261292\n",
      "Total elapsed time: 00h 29m 28s\n",
      "INFO:tensorflow:Oracle triggered exit\n"
     ]
    }
   ],
   "source": [
    "tuner.search(x_train_sm, y_train_sm , epochs=5, validation_data=(x_test_transformed,y_test))"
   ]
  },
  {
   "cell_type": "code",
   "execution_count": 97,
   "id": "9904dfa9",
   "metadata": {
    "ExecuteTime": {
     "end_time": "2023-09-18T11:35:17.406961Z",
     "start_time": "2023-09-18T11:35:15.354229Z"
    }
   },
   "outputs": [],
   "source": [
    "diadetic_model = tuner.get_best_models(num_models=1)[0]"
   ]
  },
  {
   "cell_type": "code",
   "execution_count": 98,
   "id": "8445bf3e",
   "metadata": {
    "ExecuteTime": {
     "end_time": "2023-09-18T11:35:18.311806Z",
     "start_time": "2023-09-18T11:35:18.060228Z"
    }
   },
   "outputs": [
    {
     "name": "stdout",
     "output_type": "stream",
     "text": [
      "Model: \"sequential\"\n",
      "_________________________________________________________________\n",
      " Layer (type)                Output Shape              Param #   \n",
      "=================================================================\n",
      " dense (Dense)               (None, 20)                280       \n",
      "                                                                 \n",
      " dropout (Dropout)           (None, 20)                0         \n",
      "                                                                 \n",
      " dense_1 (Dense)             (None, 97)                2037      \n",
      "                                                                 \n",
      " dropout_1 (Dropout)         (None, 97)                0         \n",
      "                                                                 \n",
      " dense_2 (Dense)             (None, 8)                 784       \n",
      "                                                                 \n",
      " dropout_2 (Dropout)         (None, 8)                 0         \n",
      "                                                                 \n",
      " dense_3 (Dense)             (None, 18)                162       \n",
      "                                                                 \n",
      " dropout_3 (Dropout)         (None, 18)                0         \n",
      "                                                                 \n",
      " dense_4 (Dense)             (None, 82)                1558      \n",
      "                                                                 \n",
      " dropout_4 (Dropout)         (None, 82)                0         \n",
      "                                                                 \n",
      " dense_5 (Dense)             (None, 66)                5478      \n",
      "                                                                 \n",
      " dropout_5 (Dropout)         (None, 66)                0         \n",
      "                                                                 \n",
      " dense_6 (Dense)             (None, 82)                5494      \n",
      "                                                                 \n",
      " dropout_6 (Dropout)         (None, 82)                0         \n",
      "                                                                 \n",
      " dense_7 (Dense)             (None, 62)                5146      \n",
      "                                                                 \n",
      " dropout_7 (Dropout)         (None, 62)                0         \n",
      "                                                                 \n",
      " dense_8 (Dense)             (None, 85)                5355      \n",
      "                                                                 \n",
      " dropout_8 (Dropout)         (None, 85)                0         \n",
      "                                                                 \n",
      " dense_9 (Dense)             (None, 6)                 516       \n",
      "                                                                 \n",
      " dropout_9 (Dropout)         (None, 6)                 0         \n",
      "                                                                 \n",
      " dense_10 (Dense)            (None, 73)                511       \n",
      "                                                                 \n",
      " dropout_10 (Dropout)        (None, 73)                0         \n",
      "                                                                 \n",
      " dense_11 (Dense)            (None, 56)                4144      \n",
      "                                                                 \n",
      " dropout_11 (Dropout)        (None, 56)                0         \n",
      "                                                                 \n",
      " dense_12 (Dense)            (None, 43)                2451      \n",
      "                                                                 \n",
      " dropout_12 (Dropout)        (None, 43)                0         \n",
      "                                                                 \n",
      " dense_13 (Dense)            (None, 23)                1012      \n",
      "                                                                 \n",
      " dropout_13 (Dropout)        (None, 23)                0         \n",
      "                                                                 \n",
      " dense_14 (Dense)            (None, 45)                1080      \n",
      "                                                                 \n",
      " dropout_14 (Dropout)        (None, 45)                0         \n",
      "                                                                 \n",
      " dense_15 (Dense)            (None, 79)                3634      \n",
      "                                                                 \n",
      " dropout_15 (Dropout)        (None, 79)                0         \n",
      "                                                                 \n",
      " dense_16 (Dense)            (None, 40)                3200      \n",
      "                                                                 \n",
      " dropout_16 (Dropout)        (None, 40)                0         \n",
      "                                                                 \n",
      " dense_17 (Dense)            (None, 60)                2460      \n",
      "                                                                 \n",
      " dropout_17 (Dropout)        (None, 60)                0         \n",
      "                                                                 \n",
      " dense_18 (Dense)            (None, 58)                3538      \n",
      "                                                                 \n",
      " dropout_18 (Dropout)        (None, 58)                0         \n",
      "                                                                 \n",
      " dense_19 (Dense)            (None, 40)                2360      \n",
      "                                                                 \n",
      " dropout_19 (Dropout)        (None, 40)                0         \n",
      "                                                                 \n",
      " dense_20 (Dense)            (None, 37)                1517      \n",
      "                                                                 \n",
      " dropout_20 (Dropout)        (None, 37)                0         \n",
      "                                                                 \n",
      " dense_21 (Dense)            (None, 68)                2584      \n",
      "                                                                 \n",
      " dropout_21 (Dropout)        (None, 68)                0         \n",
      "                                                                 \n",
      " dense_22 (Dense)            (None, 38)                2622      \n",
      "                                                                 \n",
      " dropout_22 (Dropout)        (None, 38)                0         \n",
      "                                                                 \n",
      " dense_23 (Dense)            (None, 52)                2028      \n",
      "                                                                 \n",
      " dropout_23 (Dropout)        (None, 52)                0         \n",
      "                                                                 \n",
      " dense_24 (Dense)            (None, 27)                1431      \n",
      "                                                                 \n",
      " dropout_24 (Dropout)        (None, 27)                0         \n",
      "                                                                 \n",
      " dense_25 (Dense)            (None, 28)                784       \n",
      "                                                                 \n",
      " dropout_25 (Dropout)        (None, 28)                0         \n",
      "                                                                 \n",
      " dense_26 (Dense)            (None, 73)                2117      \n",
      "                                                                 \n",
      " dropout_26 (Dropout)        (None, 73)                0         \n",
      "                                                                 \n",
      " dense_27 (Dense)            (None, 59)                4366      \n",
      "                                                                 \n",
      " dropout_27 (Dropout)        (None, 59)                0         \n",
      "                                                                 \n",
      " dense_28 (Dense)            (None, 58)                3480      \n",
      "                                                                 \n",
      " dropout_28 (Dropout)        (None, 58)                0         \n",
      "                                                                 \n",
      " dense_29 (Dense)            (None, 46)                2714      \n",
      "                                                                 \n",
      " dropout_29 (Dropout)        (None, 46)                0         \n",
      "                                                                 \n",
      " dense_30 (Dense)            (None, 42)                1974      \n",
      "                                                                 \n",
      " dropout_30 (Dropout)        (None, 42)                0         \n",
      "                                                                 \n",
      " dense_31 (Dense)            (None, 75)                3225      \n",
      "                                                                 \n",
      " dropout_31 (Dropout)        (None, 75)                0         \n",
      "                                                                 \n",
      " dense_32 (Dense)            (None, 32)                2432      \n",
      "                                                                 \n",
      " dropout_32 (Dropout)        (None, 32)                0         \n",
      "                                                                 \n",
      " dense_33 (Dense)            (None, 63)                2079      \n",
      "                                                                 \n",
      " dropout_33 (Dropout)        (None, 63)                0         \n",
      "                                                                 \n",
      " dense_34 (Dense)            (None, 32)                2048      \n",
      "                                                                 \n",
      " dropout_34 (Dropout)        (None, 32)                0         \n",
      "                                                                 \n",
      " dense_35 (Dense)            (None, 18)                594       \n",
      "                                                                 \n",
      " dropout_35 (Dropout)        (None, 18)                0         \n",
      "                                                                 \n",
      " dense_36 (Dense)            (None, 93)                1767      \n",
      "                                                                 \n",
      " dropout_36 (Dropout)        (None, 93)                0         \n",
      "                                                                 \n",
      " dense_37 (Dense)            (None, 33)                3102      \n",
      "                                                                 \n",
      " dropout_37 (Dropout)        (None, 33)                0         \n",
      "                                                                 \n",
      " dense_38 (Dense)            (None, 93)                3162      \n",
      "                                                                 \n",
      " dropout_38 (Dropout)        (None, 93)                0         \n",
      "                                                                 \n",
      " dense_39 (Dense)            (None, 96)                9024      \n",
      "                                                                 \n",
      " dropout_39 (Dropout)        (None, 96)                0         \n",
      "                                                                 \n",
      " dense_40 (Dense)            (None, 21)                2037      \n",
      "                                                                 \n",
      " dropout_40 (Dropout)        (None, 21)                0         \n",
      "                                                                 \n",
      " dense_41 (Dense)            (None, 32)                704       \n",
      "                                                                 \n",
      " dropout_41 (Dropout)        (None, 32)                0         \n",
      "                                                                 \n",
      " dense_42 (Dense)            (None, 82)                2706      \n",
      "                                                                 \n",
      " dropout_42 (Dropout)        (None, 82)                0         \n",
      "                                                                 \n",
      " dense_43 (Dense)            (None, 39)                3237      \n",
      "                                                                 \n",
      " dropout_43 (Dropout)        (None, 39)                0         \n",
      "                                                                 \n",
      " dense_44 (Dense)            (None, 66)                2640      \n",
      "                                                                 \n",
      " dropout_44 (Dropout)        (None, 66)                0         \n",
      "                                                                 \n",
      " dense_45 (Dense)            (None, 35)                2345      \n",
      "                                                                 \n",
      " dropout_45 (Dropout)        (None, 35)                0         \n",
      "                                                                 \n",
      " dense_46 (Dense)            (None, 72)                2592      \n",
      "                                                                 \n",
      " dropout_46 (Dropout)        (None, 72)                0         \n",
      "                                                                 \n",
      " dense_47 (Dense)            (None, 4)                 292       \n",
      "                                                                 \n",
      " dropout_47 (Dropout)        (None, 4)                 0         \n",
      "                                                                 \n",
      " dense_48 (Dense)            (None, 83)                415       \n",
      "                                                                 \n",
      " dropout_48 (Dropout)        (None, 83)                0         \n",
      "                                                                 \n",
      " dense_49 (Dense)            (None, 9)                 756       \n",
      "                                                                 \n",
      " dropout_49 (Dropout)        (None, 9)                 0         \n",
      "                                                                 \n",
      " dense_50 (Dense)            (None, 30)                300       \n",
      "                                                                 \n",
      " dropout_50 (Dropout)        (None, 30)                0         \n",
      "                                                                 \n",
      " dense_51 (Dense)            (None, 80)                2480      \n",
      "                                                                 \n",
      " dropout_51 (Dropout)        (None, 80)                0         \n",
      "                                                                 \n",
      " dense_52 (Dense)            (None, 52)                4212      \n",
      "                                                                 \n",
      " dropout_52 (Dropout)        (None, 52)                0         \n",
      "                                                                 \n",
      " dense_53 (Dense)            (None, 100)               5300      \n",
      "                                                                 \n",
      " dropout_53 (Dropout)        (None, 100)               0         \n",
      "                                                                 \n",
      " dense_54 (Dense)            (None, 45)                4545      \n",
      "                                                                 \n",
      " dropout_54 (Dropout)        (None, 45)                0         \n",
      "                                                                 \n",
      " dense_55 (Dense)            (None, 54)                2484      \n",
      "                                                                 \n",
      " dropout_55 (Dropout)        (None, 54)                0         \n",
      "                                                                 \n",
      " dense_56 (Dense)            (None, 97)                5335      \n",
      "                                                                 \n",
      " dropout_56 (Dropout)        (None, 97)                0         \n",
      "                                                                 \n",
      " dense_57 (Dense)            (None, 55)                5390      \n",
      "                                                                 \n",
      " dropout_57 (Dropout)        (None, 55)                0         \n",
      "                                                                 \n",
      " dense_58 (Dense)            (None, 87)                4872      \n",
      "                                                                 \n",
      " dropout_58 (Dropout)        (None, 87)                0         \n",
      "                                                                 \n",
      " dense_59 (Dense)            (None, 28)                2464      \n",
      "                                                                 \n",
      " dropout_59 (Dropout)        (None, 28)                0         \n",
      "                                                                 \n",
      " dense_60 (Dense)            (None, 7)                 203       \n",
      "                                                                 \n",
      " dropout_60 (Dropout)        (None, 7)                 0         \n",
      "                                                                 \n",
      " dense_61 (Dense)            (None, 58)                464       \n",
      "                                                                 \n",
      " dropout_61 (Dropout)        (None, 58)                0         \n",
      "                                                                 \n",
      " dense_62 (Dense)            (None, 95)                5605      \n",
      "                                                                 \n",
      " dropout_62 (Dropout)        (None, 95)                0         \n",
      "                                                                 \n",
      " dense_63 (Dense)            (None, 12)                1152      \n",
      "                                                                 \n",
      " dropout_63 (Dropout)        (None, 12)                0         \n",
      "                                                                 \n",
      " dense_64 (Dense)            (None, 39)                507       \n",
      "                                                                 \n",
      " dropout_64 (Dropout)        (None, 39)                0         \n",
      "                                                                 \n",
      " dense_65 (Dense)            (None, 47)                1880      \n",
      "                                                                 \n",
      " dropout_65 (Dropout)        (None, 47)                0         \n",
      "                                                                 \n",
      " dense_66 (Dense)            (None, 62)                2976      \n",
      "                                                                 \n",
      " dropout_66 (Dropout)        (None, 62)                0         \n",
      "                                                                 \n",
      " dense_67 (Dense)            (None, 14)                882       \n",
      "                                                                 \n",
      " dropout_67 (Dropout)        (None, 14)                0         \n",
      "                                                                 \n",
      " dense_68 (Dense)            (None, 14)                210       \n",
      "                                                                 \n",
      " dropout_68 (Dropout)        (None, 14)                0         \n",
      "                                                                 \n",
      " dense_69 (Dense)            (None, 56)                840       \n",
      "                                                                 \n",
      " dropout_69 (Dropout)        (None, 56)                0         \n",
      "                                                                 \n",
      " dense_70 (Dense)            (None, 39)                2223      \n",
      "                                                                 \n",
      " dropout_70 (Dropout)        (None, 39)                0         \n",
      "                                                                 \n",
      " dense_71 (Dense)            (None, 59)                2360      \n",
      "                                                                 \n",
      " dropout_71 (Dropout)        (None, 59)                0         \n",
      "                                                                 \n",
      " dense_72 (Dense)            (None, 33)                1980      \n",
      "                                                                 \n",
      " dropout_72 (Dropout)        (None, 33)                0         \n",
      "                                                                 \n",
      " dense_73 (Dense)            (None, 97)                3298      \n",
      "                                                                 \n",
      " dropout_73 (Dropout)        (None, 97)                0         \n",
      "                                                                 \n",
      " dense_74 (Dense)            (None, 91)                8918      \n",
      "                                                                 \n",
      " dropout_74 (Dropout)        (None, 91)                0         \n",
      "                                                                 \n",
      " dense_75 (Dense)            (None, 54)                4968      \n",
      "                                                                 \n",
      " dropout_75 (Dropout)        (None, 54)                0         \n",
      "                                                                 \n",
      " dense_76 (Dense)            (None, 1)                 55        \n",
      "                                                                 \n",
      "=================================================================\n",
      "Total params: 197,877\n",
      "Trainable params: 197,877\n",
      "Non-trainable params: 0\n",
      "_________________________________________________________________\n"
     ]
    }
   ],
   "source": [
    "diadetic_model.summary()"
   ]
  },
  {
   "cell_type": "code",
   "execution_count": 99,
   "id": "6d5496c6",
   "metadata": {
    "ExecuteTime": {
     "end_time": "2023-09-18T11:36:10.000669Z",
     "start_time": "2023-09-18T11:36:09.967704Z"
    }
   },
   "outputs": [],
   "source": [
    "diadetic_model.compile(optimizer='adam', loss='binary_crossentropy', metrics=['accuracy'])"
   ]
  },
  {
   "cell_type": "code",
   "execution_count": 100,
   "id": "0fb95509",
   "metadata": {
    "ExecuteTime": {
     "end_time": "2023-09-18T11:36:11.296068Z",
     "start_time": "2023-09-18T11:36:11.274039Z"
    }
   },
   "outputs": [],
   "source": [
    "call = EarlyStopping(monitor='val_loss', min_delta=0.001, patience=3, verbose=0,\n",
    "                        mode='auto')"
   ]
  },
  {
   "cell_type": "code",
   "execution_count": 101,
   "id": "5334fda1",
   "metadata": {
    "ExecuteTime": {
     "end_time": "2023-09-18T11:36:47.170060Z",
     "start_time": "2023-09-18T11:36:18.873736Z"
    }
   },
   "outputs": [
    {
     "name": "stdout",
     "output_type": "stream",
     "text": [
      "Epoch 1/50\n",
      "3509/3509 [==============================] - 5s 1ms/step - loss: 0.1344 - accuracy: 0.9373 - val_loss: 0.1971 - val_accuracy: 0.9158\n",
      "Epoch 2/50\n",
      "3509/3509 [==============================] - 5s 1ms/step - loss: 0.1320 - accuracy: 0.9381 - val_loss: 0.2276 - val_accuracy: 0.8982\n",
      "Epoch 3/50\n",
      "3509/3509 [==============================] - 5s 1ms/step - loss: 0.1311 - accuracy: 0.9382 - val_loss: 0.1588 - val_accuracy: 0.9400\n",
      "Epoch 4/50\n",
      "3509/3509 [==============================] - 5s 1ms/step - loss: 0.1301 - accuracy: 0.9388 - val_loss: 0.1878 - val_accuracy: 0.9176\n",
      "Epoch 5/50\n",
      "3509/3509 [==============================] - 5s 1ms/step - loss: 0.1301 - accuracy: 0.9380 - val_loss: 0.1719 - val_accuracy: 0.9310\n",
      "Epoch 6/50\n",
      "3509/3509 [==============================] - 5s 1ms/step - loss: 0.1291 - accuracy: 0.9392 - val_loss: 0.1639 - val_accuracy: 0.9353\n"
     ]
    }
   ],
   "source": [
    "history = model.fit(x_train_sm, y_train_sm ,epochs=50, batch_size=30, validation_split=0.2, callbacks=call)"
   ]
  },
  {
   "cell_type": "code",
   "execution_count": 102,
   "id": "01785f70",
   "metadata": {
    "ExecuteTime": {
     "end_time": "2023-09-18T11:37:01.218520Z",
     "start_time": "2023-09-18T11:37:00.312836Z"
    }
   },
   "outputs": [
    {
     "name": "stdout",
     "output_type": "stream",
     "text": [
      "752/752 [==============================] - 1s 685us/step\n"
     ]
    }
   ],
   "source": [
    "# Predictions\n",
    "pred = model.predict(x_test_transformed)"
   ]
  },
  {
   "cell_type": "code",
   "execution_count": 103,
   "id": "36a12f3f",
   "metadata": {
    "ExecuteTime": {
     "end_time": "2023-09-18T11:37:01.761972Z",
     "start_time": "2023-09-18T11:37:01.738936Z"
    }
   },
   "outputs": [
    {
     "data": {
      "text/plain": [
       "array([[1.8821765e-27],\n",
       "       [1.0403335e-26],\n",
       "       [1.0000000e+00],\n",
       "       ...,\n",
       "       [1.0000000e+00],\n",
       "       [1.0000000e+00],\n",
       "       [1.0000000e+00]], dtype=float32)"
      ]
     },
     "execution_count": 103,
     "metadata": {},
     "output_type": "execute_result"
    }
   ],
   "source": [
    "pred"
   ]
  },
  {
   "cell_type": "code",
   "execution_count": 104,
   "id": "6077c2ee",
   "metadata": {
    "ExecuteTime": {
     "end_time": "2023-09-18T11:37:02.541750Z",
     "start_time": "2023-09-18T11:37:02.524753Z"
    }
   },
   "outputs": [
    {
     "data": {
      "text/plain": [
       "array([[0],\n",
       "       [0],\n",
       "       [1],\n",
       "       ...,\n",
       "       [1],\n",
       "       [1],\n",
       "       [1]])"
      ]
     },
     "execution_count": 104,
     "metadata": {},
     "output_type": "execute_result"
    }
   ],
   "source": [
    "# Making the Predictions into binay format.\n",
    "pred_trans = np.where(pred>0.5,1,0)\n",
    "pred_trans"
   ]
  },
  {
   "cell_type": "code",
   "execution_count": 105,
   "id": "74c7cdc4",
   "metadata": {
    "ExecuteTime": {
     "end_time": "2023-09-18T11:37:03.507664Z",
     "start_time": "2023-09-18T11:37:03.498628Z"
    }
   },
   "outputs": [],
   "source": [
    "val_loss = history.history['val_loss']\n",
    "loss = history.history['loss']"
   ]
  },
  {
   "cell_type": "code",
   "execution_count": 106,
   "id": "36350021",
   "metadata": {
    "ExecuteTime": {
     "end_time": "2023-09-18T11:37:04.740053Z",
     "start_time": "2023-09-18T11:37:04.522668Z"
    }
   },
   "outputs": [
    {
     "data": {
      "image/png": "[encoded data removed]",
      "text/plain": [
       "<Figure size 640x480 with 1 Axes>"
      ]
     },
     "metadata": {},
     "output_type": "display_data"
    }
   ],
   "source": [
    "# Plotting the validation loss and loss to check with the model is overfitted or not.\n",
    "plt.plot(val_loss)\n",
    "plt.plot(loss);"
   ]
  },
  {
   "cell_type": "code",
   "execution_count": 107,
   "id": "a709c1bd",
   "metadata": {
    "ExecuteTime": {
     "end_time": "2023-09-18T11:37:05.946731Z",
     "start_time": "2023-09-18T11:37:05.733258Z"
    }
   },
   "outputs": [
    {
     "data": {
      "image/png": "[encoded data removed]",
      "text/plain": [
       "<Figure size 1500x800 with 1 Axes>"
      ]
     },
     "metadata": {},
     "output_type": "display_data"
    }
   ],
   "source": [
    "pd.DataFrame(history_svm.history).plot(figsize=(15,8))\n",
    "plt.grid(True)\n",
    "plt.gca().set_ylim(0,1)\n",
    "plt.show();"
   ]
  },
  {
   "cell_type": "markdown",
   "id": "8587dd9d",
   "metadata": {},
   "source": [
    "### *`Evaluting the model`*"
   ]
  },
  {
   "cell_type": "code",
   "execution_count": 108,
   "id": "69963531",
   "metadata": {
    "ExecuteTime": {
     "end_time": "2023-09-18T11:37:12.163385Z",
     "start_time": "2023-09-18T11:37:12.101073Z"
    }
   },
   "outputs": [
    {
     "name": "stdout",
     "output_type": "stream",
     "text": [
      "Classification report:\n",
      "               precision    recall  f1-score   support\n",
      "\n",
      "           0       0.98      0.93      0.96     21870\n",
      "           1       0.55      0.83      0.66      2167\n",
      "\n",
      "    accuracy                           0.92     24037\n",
      "   macro avg       0.77      0.88      0.81     24037\n",
      "weighted avg       0.94      0.92      0.93     24037\n",
      "\n"
     ]
    }
   ],
   "source": [
    "print('Classification report:\\n',classification_report(y_test, pred_trans))"
   ]
  },
  {
   "cell_type": "code",
   "execution_count": 109,
   "id": "6d21dcd2",
   "metadata": {
    "ExecuteTime": {
     "end_time": "2023-09-18T11:37:23.107648Z",
     "start_time": "2023-09-18T11:37:22.931094Z"
    }
   },
   "outputs": [
    {
     "name": "stdout",
     "output_type": "stream",
     "text": [
      "Confussion Matrix: \n"
     ]
    },
    {
     "data": {
      "image/png": "[encoded data removed]",
      "text/plain": [
       "<Figure size 640x480 with 2 Axes>"
      ]
     },
     "metadata": {},
     "output_type": "display_data"
    }
   ],
   "source": [
    "from sklearn import metrics\n",
    "print('Confussion Matrix: ')\n",
    "confusion_matrix = metrics.confusion_matrix(y_test, pred_trans)\n",
    "# Create the ConfusionMatrixDisplay object\n",
    "display = metrics.ConfusionMatrixDisplay(confusion_matrix=confusion_matrix)\n",
    "# Display the confusion matrix\n",
    "display.plot()\n",
    "plt.show();"
   ]
  },
  {
   "cell_type": "markdown",
   "id": "271438f5",
   "metadata": {},
   "source": [
    "## Conclusions:\n",
    "1) There is huge imbalance to treat that i have tried smote, adasyns smote and svm smote In that smote and svm smote are working good and they are providing with the accurate resluts compare all other techniques.\n",
    "2) By using the smote and svm smote the model is very accurate with around 92% and after performing the keras tuning there is slight change in the precision, recall and F1 score."
   ]
  },
  {
   "cell_type": "markdown",
   "id": "3124a20a",
   "metadata": {},
   "source": [
    "_____"
   ]
  }
 ],
 "metadata": {
  "kernelspec": {
   "display_name": "Python 3 (ipykernel)",
   "language": "python",
   "name": "python3"
  },
  "language_info": {
   "codemirror_mode": {
    "name": "ipython",
    "version": 3
   },
   "file_extension": ".py",
   "mimetype": "text/x-python",
   "name": "python",
   "nbconvert_exporter": "python",
   "pygments_lexer": "ipython3",
   "version": "3.9.16"
  }
 },
 "nbformat": 4,
 "nbformat_minor": 5
}
