{
 "cells": [
  {
   "cell_type": "markdown",
   "id": "4479ae80",
   "metadata": {},
   "source": [
    "## Data Description\n",
    "- Age : age of the patient [years]\n",
    "- Sex: sex of the patient [1: Male, 0: Female]\n",
    "- ChestPainType: chest pain type [1: Typical Angina, 2: Atypical Angina, 3: Non-Anginal Pain, 4: Asymptomatic]\n",
    "- RestingBP: resting blood pressure [mm Hg]\n",
    "- Cholesterol: serum cholesterol [mm/dl]\n",
    "- FastingBS: fasting blood sugar [1: if FastingBS > 120 mg/dl, 0: otherwise]\n",
    "- RestingECG: resting electrocardiogram results [0: Normal, 1: having ST-T wave abnormality (T wave inversions and/or ST elevation or depression of > 0.05 mV), 2: showing probable or definite left ventricular hypertrophy by Estes' criteria]\n",
    "- MaxHR: maximum heart rate achieved [Numeric value between 60 and 202]\n",
    "- ExerciseAngina: exercise-induced angina [1: Yes, 0: No]\n",
    "- Oldpeak: oldpeak = ST [Numeric value measured in depression]\n",
    "- ST_Slope: the slope of the peak exercise ST segment [1: upsloping, 2: flat, 3: downsloping]\n",
    "- HeartDisease: output class [1: heart disease, 0: Normal]"
   ]
  },
  {
   "cell_type": "code",
   "execution_count": 1,
   "id": "0ce5b94e",
   "metadata": {
    "ExecuteTime": {
     "end_time": "2023-05-24T11:49:09.711304Z",
     "start_time": "2023-05-24T11:49:08.255259Z"
    }
   },
   "outputs": [
    {
     "name": "stderr",
     "output_type": "stream",
     "text": [
      "C:\\Users\\yadag\\anaconda3\\lib\\site-packages\\numpy\\_distributor_init.py:30: UserWarning: loaded more than 1 DLL from .libs:\n",
      "C:\\Users\\yadag\\anaconda3\\lib\\site-packages\\numpy\\.libs\\libopenblas.EL2C6PLE4ZYW3ECEVIV3OXXGRN2NRFM2.gfortran-win_amd64.dll\n",
      "C:\\Users\\yadag\\anaconda3\\lib\\site-packages\\numpy\\.libs\\libopenblas.FB5AE2TYXYH2IJRDKGDGQ3XBKLKTF43H.gfortran-win_amd64.dll\n",
      "  warnings.warn(\"loaded more than 1 DLL from .libs:\"\n"
     ]
    }
   ],
   "source": [
    "import pandas as pd\n",
    "import numpy as np\n",
    "\n",
    "import matplotlib.pyplot as plt\n",
    "import seaborn as sns\n",
    "\n",
    "import warnings\n",
    "warnings.filterwarnings('ignore')"
   ]
  },
  {
   "cell_type": "code",
   "execution_count": 2,
   "id": "cd842ffc",
   "metadata": {
    "ExecuteTime": {
     "end_time": "2023-05-24T11:49:09.726305Z",
     "start_time": "2023-05-24T11:49:09.713299Z"
    }
   },
   "outputs": [],
   "source": [
    "data = pd.read_csv(r\"D:\\Data\\Deep_Learning\\heart.csv\")"
   ]
  },
  {
   "cell_type": "code",
   "execution_count": 3,
   "id": "129e10d2",
   "metadata": {
    "ExecuteTime": {
     "end_time": "2023-05-24T11:49:09.757953Z",
     "start_time": "2023-05-24T11:49:09.728310Z"
    }
   },
   "outputs": [
    {
     "data": {
      "text/html": [
       "<div>\n",
       "<style scoped>\n",
       "    .dataframe tbody tr th:only-of-type {\n",
       "        vertical-align: middle;\n",
       "    }\n",
       "\n",
       "    .dataframe tbody tr th {\n",
       "        vertical-align: top;\n",
       "    }\n",
       "\n",
       "    .dataframe thead th {\n",
       "        text-align: right;\n",
       "    }\n",
       "</style>\n",
       "<table border=\"1\" class=\"dataframe\">\n",
       "  <thead>\n",
       "    <tr style=\"text-align: right;\">\n",
       "      <th></th>\n",
       "      <th>Age</th>\n",
       "      <th>Sex</th>\n",
       "      <th>ChestPainType</th>\n",
       "      <th>RestingBP</th>\n",
       "      <th>Cholesterol</th>\n",
       "      <th>FastingBS</th>\n",
       "      <th>RestingECG</th>\n",
       "      <th>MaxHR</th>\n",
       "      <th>ExerciseAngina</th>\n",
       "      <th>Oldpeak</th>\n",
       "      <th>ST_Slope</th>\n",
       "      <th>HeartDisease</th>\n",
       "    </tr>\n",
       "  </thead>\n",
       "  <tbody>\n",
       "    <tr>\n",
       "      <th>0</th>\n",
       "      <td>40</td>\n",
       "      <td>M</td>\n",
       "      <td>ATA</td>\n",
       "      <td>140</td>\n",
       "      <td>289</td>\n",
       "      <td>0</td>\n",
       "      <td>Normal</td>\n",
       "      <td>172</td>\n",
       "      <td>N</td>\n",
       "      <td>0.0</td>\n",
       "      <td>Up</td>\n",
       "      <td>0</td>\n",
       "    </tr>\n",
       "    <tr>\n",
       "      <th>1</th>\n",
       "      <td>49</td>\n",
       "      <td>F</td>\n",
       "      <td>NAP</td>\n",
       "      <td>160</td>\n",
       "      <td>180</td>\n",
       "      <td>0</td>\n",
       "      <td>Normal</td>\n",
       "      <td>156</td>\n",
       "      <td>N</td>\n",
       "      <td>1.0</td>\n",
       "      <td>Flat</td>\n",
       "      <td>1</td>\n",
       "    </tr>\n",
       "    <tr>\n",
       "      <th>2</th>\n",
       "      <td>37</td>\n",
       "      <td>M</td>\n",
       "      <td>ATA</td>\n",
       "      <td>130</td>\n",
       "      <td>283</td>\n",
       "      <td>0</td>\n",
       "      <td>ST</td>\n",
       "      <td>98</td>\n",
       "      <td>N</td>\n",
       "      <td>0.0</td>\n",
       "      <td>Up</td>\n",
       "      <td>0</td>\n",
       "    </tr>\n",
       "    <tr>\n",
       "      <th>3</th>\n",
       "      <td>48</td>\n",
       "      <td>F</td>\n",
       "      <td>ASY</td>\n",
       "      <td>138</td>\n",
       "      <td>214</td>\n",
       "      <td>0</td>\n",
       "      <td>Normal</td>\n",
       "      <td>108</td>\n",
       "      <td>Y</td>\n",
       "      <td>1.5</td>\n",
       "      <td>Flat</td>\n",
       "      <td>1</td>\n",
       "    </tr>\n",
       "    <tr>\n",
       "      <th>4</th>\n",
       "      <td>54</td>\n",
       "      <td>M</td>\n",
       "      <td>NAP</td>\n",
       "      <td>150</td>\n",
       "      <td>195</td>\n",
       "      <td>0</td>\n",
       "      <td>Normal</td>\n",
       "      <td>122</td>\n",
       "      <td>N</td>\n",
       "      <td>0.0</td>\n",
       "      <td>Up</td>\n",
       "      <td>0</td>\n",
       "    </tr>\n",
       "  </tbody>\n",
       "</table>\n",
       "</div>"
      ],
      "text/plain": [
       "   Age Sex ChestPainType  RestingBP  Cholesterol  FastingBS RestingECG  MaxHR  \\\n",
       "0   40   M           ATA        140          289          0     Normal    172   \n",
       "1   49   F           NAP        160          180          0     Normal    156   \n",
       "2   37   M           ATA        130          283          0         ST     98   \n",
       "3   48   F           ASY        138          214          0     Normal    108   \n",
       "4   54   M           NAP        150          195          0     Normal    122   \n",
       "\n",
       "  ExerciseAngina  Oldpeak ST_Slope  HeartDisease  \n",
       "0              N      0.0       Up             0  \n",
       "1              N      1.0     Flat             1  \n",
       "2              N      0.0       Up             0  \n",
       "3              Y      1.5     Flat             1  \n",
       "4              N      0.0       Up             0  "
      ]
     },
     "execution_count": 3,
     "metadata": {},
     "output_type": "execute_result"
    }
   ],
   "source": [
    "data.head()"
   ]
  },
  {
   "cell_type": "code",
   "execution_count": 4,
   "id": "5942528d",
   "metadata": {
    "ExecuteTime": {
     "end_time": "2023-05-24T11:49:09.789980Z",
     "start_time": "2023-05-24T11:49:09.763949Z"
    }
   },
   "outputs": [
    {
     "name": "stdout",
     "output_type": "stream",
     "text": [
      "<class 'pandas.core.frame.DataFrame'>\n",
      "RangeIndex: 918 entries, 0 to 917\n",
      "Data columns (total 12 columns):\n",
      " #   Column          Non-Null Count  Dtype  \n",
      "---  ------          --------------  -----  \n",
      " 0   Age             918 non-null    int64  \n",
      " 1   Sex             918 non-null    object \n",
      " 2   ChestPainType   918 non-null    object \n",
      " 3   RestingBP       918 non-null    int64  \n",
      " 4   Cholesterol     918 non-null    int64  \n",
      " 5   FastingBS       918 non-null    int64  \n",
      " 6   RestingECG      918 non-null    object \n",
      " 7   MaxHR           918 non-null    int64  \n",
      " 8   ExerciseAngina  918 non-null    object \n",
      " 9   Oldpeak         918 non-null    float64\n",
      " 10  ST_Slope        918 non-null    object \n",
      " 11  HeartDisease    918 non-null    int64  \n",
      "dtypes: float64(1), int64(6), object(5)\n",
      "memory usage: 86.2+ KB\n"
     ]
    }
   ],
   "source": [
    "data.info()"
   ]
  },
  {
   "cell_type": "code",
   "execution_count": 5,
   "id": "adb19ed4",
   "metadata": {
    "ExecuteTime": {
     "end_time": "2023-05-24T11:49:09.805873Z",
     "start_time": "2023-05-24T11:49:09.792979Z"
    }
   },
   "outputs": [
    {
     "data": {
      "text/plain": [
       "(918, 12)"
      ]
     },
     "execution_count": 5,
     "metadata": {},
     "output_type": "execute_result"
    }
   ],
   "source": [
    "data.shape # Checking the shape of data"
   ]
  },
  {
   "cell_type": "code",
   "execution_count": 6,
   "id": "ea09d1eb",
   "metadata": {
    "ExecuteTime": {
     "end_time": "2023-05-24T11:49:09.858056Z",
     "start_time": "2023-05-24T11:49:09.809875Z"
    }
   },
   "outputs": [
    {
     "data": {
      "text/html": [
       "<div>\n",
       "<style scoped>\n",
       "    .dataframe tbody tr th:only-of-type {\n",
       "        vertical-align: middle;\n",
       "    }\n",
       "\n",
       "    .dataframe tbody tr th {\n",
       "        vertical-align: top;\n",
       "    }\n",
       "\n",
       "    .dataframe thead th {\n",
       "        text-align: right;\n",
       "    }\n",
       "</style>\n",
       "<table border=\"1\" class=\"dataframe\">\n",
       "  <thead>\n",
       "    <tr style=\"text-align: right;\">\n",
       "      <th></th>\n",
       "      <th>Age</th>\n",
       "      <th>RestingBP</th>\n",
       "      <th>Cholesterol</th>\n",
       "      <th>FastingBS</th>\n",
       "      <th>MaxHR</th>\n",
       "      <th>Oldpeak</th>\n",
       "      <th>HeartDisease</th>\n",
       "    </tr>\n",
       "  </thead>\n",
       "  <tbody>\n",
       "    <tr>\n",
       "      <th>count</th>\n",
       "      <td>918.000000</td>\n",
       "      <td>918.000000</td>\n",
       "      <td>918.000000</td>\n",
       "      <td>918.000000</td>\n",
       "      <td>918.000000</td>\n",
       "      <td>918.000000</td>\n",
       "      <td>918.000000</td>\n",
       "    </tr>\n",
       "    <tr>\n",
       "      <th>mean</th>\n",
       "      <td>53.510893</td>\n",
       "      <td>132.396514</td>\n",
       "      <td>198.799564</td>\n",
       "      <td>0.233115</td>\n",
       "      <td>136.809368</td>\n",
       "      <td>0.887364</td>\n",
       "      <td>0.553377</td>\n",
       "    </tr>\n",
       "    <tr>\n",
       "      <th>std</th>\n",
       "      <td>9.432617</td>\n",
       "      <td>18.514154</td>\n",
       "      <td>109.384145</td>\n",
       "      <td>0.423046</td>\n",
       "      <td>25.460334</td>\n",
       "      <td>1.066570</td>\n",
       "      <td>0.497414</td>\n",
       "    </tr>\n",
       "    <tr>\n",
       "      <th>min</th>\n",
       "      <td>28.000000</td>\n",
       "      <td>0.000000</td>\n",
       "      <td>0.000000</td>\n",
       "      <td>0.000000</td>\n",
       "      <td>60.000000</td>\n",
       "      <td>-2.600000</td>\n",
       "      <td>0.000000</td>\n",
       "    </tr>\n",
       "    <tr>\n",
       "      <th>25%</th>\n",
       "      <td>47.000000</td>\n",
       "      <td>120.000000</td>\n",
       "      <td>173.250000</td>\n",
       "      <td>0.000000</td>\n",
       "      <td>120.000000</td>\n",
       "      <td>0.000000</td>\n",
       "      <td>0.000000</td>\n",
       "    </tr>\n",
       "    <tr>\n",
       "      <th>50%</th>\n",
       "      <td>54.000000</td>\n",
       "      <td>130.000000</td>\n",
       "      <td>223.000000</td>\n",
       "      <td>0.000000</td>\n",
       "      <td>138.000000</td>\n",
       "      <td>0.600000</td>\n",
       "      <td>1.000000</td>\n",
       "    </tr>\n",
       "    <tr>\n",
       "      <th>75%</th>\n",
       "      <td>60.000000</td>\n",
       "      <td>140.000000</td>\n",
       "      <td>267.000000</td>\n",
       "      <td>0.000000</td>\n",
       "      <td>156.000000</td>\n",
       "      <td>1.500000</td>\n",
       "      <td>1.000000</td>\n",
       "    </tr>\n",
       "    <tr>\n",
       "      <th>max</th>\n",
       "      <td>77.000000</td>\n",
       "      <td>200.000000</td>\n",
       "      <td>603.000000</td>\n",
       "      <td>1.000000</td>\n",
       "      <td>202.000000</td>\n",
       "      <td>6.200000</td>\n",
       "      <td>1.000000</td>\n",
       "    </tr>\n",
       "  </tbody>\n",
       "</table>\n",
       "</div>"
      ],
      "text/plain": [
       "              Age   RestingBP  Cholesterol   FastingBS       MaxHR  \\\n",
       "count  918.000000  918.000000   918.000000  918.000000  918.000000   \n",
       "mean    53.510893  132.396514   198.799564    0.233115  136.809368   \n",
       "std      9.432617   18.514154   109.384145    0.423046   25.460334   \n",
       "min     28.000000    0.000000     0.000000    0.000000   60.000000   \n",
       "25%     47.000000  120.000000   173.250000    0.000000  120.000000   \n",
       "50%     54.000000  130.000000   223.000000    0.000000  138.000000   \n",
       "75%     60.000000  140.000000   267.000000    0.000000  156.000000   \n",
       "max     77.000000  200.000000   603.000000    1.000000  202.000000   \n",
       "\n",
       "          Oldpeak  HeartDisease  \n",
       "count  918.000000    918.000000  \n",
       "mean     0.887364      0.553377  \n",
       "std      1.066570      0.497414  \n",
       "min     -2.600000      0.000000  \n",
       "25%      0.000000      0.000000  \n",
       "50%      0.600000      1.000000  \n",
       "75%      1.500000      1.000000  \n",
       "max      6.200000      1.000000  "
      ]
     },
     "execution_count": 6,
     "metadata": {},
     "output_type": "execute_result"
    }
   ],
   "source": [
    "data.describe()"
   ]
  },
  {
   "cell_type": "code",
   "execution_count": 7,
   "id": "d25e31cc",
   "metadata": {
    "ExecuteTime": {
     "end_time": "2023-05-24T11:49:09.874097Z",
     "start_time": "2023-05-24T11:49:09.860057Z"
    }
   },
   "outputs": [
    {
     "data": {
      "text/plain": [
       "Age               0\n",
       "Sex               0\n",
       "ChestPainType     0\n",
       "RestingBP         0\n",
       "Cholesterol       0\n",
       "FastingBS         0\n",
       "RestingECG        0\n",
       "MaxHR             0\n",
       "ExerciseAngina    0\n",
       "Oldpeak           0\n",
       "ST_Slope          0\n",
       "HeartDisease      0\n",
       "dtype: int64"
      ]
     },
     "execution_count": 7,
     "metadata": {},
     "output_type": "execute_result"
    }
   ],
   "source": [
    "# Checking the null values\n",
    "data.isna().sum()"
   ]
  },
  {
   "cell_type": "code",
   "execution_count": 8,
   "id": "e36b4cdf",
   "metadata": {
    "ExecuteTime": {
     "end_time": "2023-05-24T11:49:09.890057Z",
     "start_time": "2023-05-24T11:49:09.878057Z"
    }
   },
   "outputs": [
    {
     "data": {
      "text/plain": [
       "0"
      ]
     },
     "execution_count": 8,
     "metadata": {},
     "output_type": "execute_result"
    }
   ],
   "source": [
    "# Checking Duplicates\n",
    "data.duplicated().sum()"
   ]
  },
  {
   "cell_type": "markdown",
   "id": "9046c178",
   "metadata": {},
   "source": [
    "### Detecting outliers"
   ]
  },
  {
   "cell_type": "code",
   "execution_count": 9,
   "id": "a52bce08",
   "metadata": {
    "ExecuteTime": {
     "end_time": "2023-05-24T11:49:10.299201Z",
     "start_time": "2023-05-24T11:49:09.892057Z"
    }
   },
   "outputs": [
    {
     "data": {
      "image/png": "[encoded data removed]",
      "text/plain": [
       "<Figure size 1000x1000 with 8 Axes>"
      ]
     },
     "metadata": {},
     "output_type": "display_data"
    }
   ],
   "source": [
    "lst = data.select_dtypes(include=['int64','float64']).columns\n",
    "\n",
    "fig, axes = plt.subplots(nrows=2, ncols=4, figsize=(10, 10))\n",
    "\n",
    "for i, ax in enumerate(axes.flatten()):\n",
    "    if i < len(lst):\n",
    "        sns.boxplot(x=data[lst[i]], ax=ax)\n",
    "    else:\n",
    "        ax.axis('off')\n",
    "plt.show();"
   ]
  },
  {
   "cell_type": "markdown",
   "id": "7d5c77fb",
   "metadata": {},
   "source": [
    "- There are outliers majorly present in the RestingBP, Cholesterol, Oldpeak."
   ]
  },
  {
   "cell_type": "code",
   "execution_count": 10,
   "id": "c18a6a9e",
   "metadata": {
    "ExecuteTime": {
     "end_time": "2023-05-24T11:49:11.280418Z",
     "start_time": "2023-05-24T11:49:10.306174Z"
    }
   },
   "outputs": [
    {
     "data": {
      "image/png": "[encoded data removed]",
      "text/plain": [
       "<Figure size 1500x1200 with 6 Axes>"
      ]
     },
     "metadata": {},
     "output_type": "display_data"
    }
   ],
   "source": [
    "fig, axes = plt.subplots(3,2 , figsize = (15,12))\n",
    "\n",
    "for i, ax in enumerate(axes.flatten()):\n",
    "    sns.histplot(x = data[lst[i]], kde = True, ax = ax);"
   ]
  },
  {
   "cell_type": "markdown",
   "id": "19763791",
   "metadata": {},
   "source": [
    "## Treating the outliers\n",
    "#### Dropping the Outliers"
   ]
  },
  {
   "cell_type": "code",
   "execution_count": 11,
   "id": "21a4b703",
   "metadata": {
    "ExecuteTime": {
     "end_time": "2023-05-24T11:49:11.296544Z",
     "start_time": "2023-05-24T11:49:11.282419Z"
    }
   },
   "outputs": [
    {
     "name": "stdout",
     "output_type": "stream",
     "text": [
      "120.0 130.0 160.0\n",
      "40.0 220.0 60.0\n"
     ]
    }
   ],
   "source": [
    "Q1,Q2,Q3 = tuple(data.RestingBP.quantile(q=[0.20,0.50,0.90]).values)\n",
    "\n",
    "print(Q1,Q2,Q3)\n",
    "\n",
    "# Calculating the IQR value and for calculating the LL and UL.\n",
    "IQR = Q3-Q1\n",
    "\n",
    "# Checking the outliers in lowerlimit(LL).`\n",
    "UL = Q3+1.5*IQR\n",
    "\n",
    "# Checking the outliers in upperlimit(UL)\n",
    "LL = Q1-1.5*IQR\n",
    "\n",
    "print(IQR,UL,LL)"
   ]
  },
  {
   "cell_type": "code",
   "execution_count": 12,
   "id": "498255e7",
   "metadata": {
    "ExecuteTime": {
     "end_time": "2023-05-24T11:49:11.311993Z",
     "start_time": "2023-05-24T11:49:11.300548Z"
    }
   },
   "outputs": [],
   "source": [
    "# these are the outliers using boxplot\n",
    "drop_list = data[(data.RestingBP < LL) | (data.RestingBP > UL)].index.to_list()"
   ]
  },
  {
   "cell_type": "code",
   "execution_count": 13,
   "id": "f9db117c",
   "metadata": {
    "ExecuteTime": {
     "end_time": "2023-05-24T11:49:11.327162Z",
     "start_time": "2023-05-24T11:49:11.315160Z"
    }
   },
   "outputs": [],
   "source": [
    "data.drop(drop_list, axis=0, inplace=True)"
   ]
  },
  {
   "cell_type": "code",
   "execution_count": 14,
   "id": "967abceb",
   "metadata": {
    "ExecuteTime": {
     "end_time": "2023-05-24T11:49:11.342870Z",
     "start_time": "2023-05-24T11:49:11.329162Z"
    }
   },
   "outputs": [
    {
     "name": "stdout",
     "output_type": "stream",
     "text": [
      "139.0 223.0 267.0\n",
      "128.0 459.0 -53.0\n"
     ]
    }
   ],
   "source": [
    "Q4,Q5,Q6 = tuple(data.Cholesterol.quantile(q=[0.20,0.50,0.75]).values)\n",
    "\n",
    "print(Q4,Q5,Q6)\n",
    "\n",
    "# Calculating the IQR value and for calculating the LL and UL.\n",
    "IQR = Q6-Q4\n",
    "\n",
    "# Checking the outliers in lowerlimit(LL).`\n",
    "UL = Q6+1.5*IQR\n",
    "\n",
    "# Checking the outliers in upperlimit(UL)\n",
    "LL = Q4-1.5*IQR\n",
    "\n",
    "print(IQR,UL,LL)"
   ]
  },
  {
   "cell_type": "code",
   "execution_count": 15,
   "id": "4c08a295",
   "metadata": {
    "ExecuteTime": {
     "end_time": "2023-05-24T11:49:11.358114Z",
     "start_time": "2023-05-24T11:49:11.345000Z"
    }
   },
   "outputs": [],
   "source": [
    "drop_list1 = data[(data.Cholesterol < LL) | (data.Cholesterol > UL)].index.to_list()"
   ]
  },
  {
   "cell_type": "code",
   "execution_count": 16,
   "id": "df832d43",
   "metadata": {
    "ExecuteTime": {
     "end_time": "2023-05-24T11:49:11.373583Z",
     "start_time": "2023-05-24T11:49:11.360116Z"
    }
   },
   "outputs": [],
   "source": [
    "data.drop(drop_list1, axis=0, inplace=True)"
   ]
  },
  {
   "cell_type": "code",
   "execution_count": 17,
   "id": "89348a16",
   "metadata": {
    "ExecuteTime": {
     "end_time": "2023-05-24T11:49:11.389017Z",
     "start_time": "2023-05-24T11:49:11.375841Z"
    }
   },
   "outputs": [
    {
     "name": "stdout",
     "output_type": "stream",
     "text": [
      "0.0 0.6 1.5\n",
      "1.5 3.75 -2.25\n"
     ]
    }
   ],
   "source": [
    "Q7,Q8,Q9 = tuple(data.Oldpeak.quantile(q=[0.20,0.50,0.75]).values)\n",
    "\n",
    "print(Q7,Q8,Q9)\n",
    "\n",
    "# Calculating the IQR value and for calculating the LL and UL.\n",
    "IQR = Q9-Q7\n",
    "\n",
    "# Checking the outliers in lowerlimit(LL).`\n",
    "UL = Q9+1.5*IQR\n",
    "\n",
    "# Checking the outliers in upperlimit(UL)\n",
    "LL = Q7-1.5*IQR\n",
    "\n",
    "print(IQR,UL,LL)"
   ]
  },
  {
   "cell_type": "code",
   "execution_count": 18,
   "id": "0eea7996",
   "metadata": {
    "ExecuteTime": {
     "end_time": "2023-05-24T11:49:11.404328Z",
     "start_time": "2023-05-24T11:49:11.393209Z"
    }
   },
   "outputs": [],
   "source": [
    "drop_list2 = data[(data.Oldpeak < LL) | (data.Oldpeak > UL)].index.to_list()"
   ]
  },
  {
   "cell_type": "code",
   "execution_count": 19,
   "id": "253080b9",
   "metadata": {
    "ExecuteTime": {
     "end_time": "2023-05-24T11:49:11.419609Z",
     "start_time": "2023-05-24T11:49:11.410330Z"
    }
   },
   "outputs": [],
   "source": [
    "data.drop(drop_list2, axis=0, inplace=True)"
   ]
  },
  {
   "cell_type": "code",
   "execution_count": 20,
   "id": "984e1a37",
   "metadata": {
    "ExecuteTime": {
     "end_time": "2023-05-24T11:49:11.435028Z",
     "start_time": "2023-05-24T11:49:11.423816Z"
    }
   },
   "outputs": [
    {
     "data": {
      "text/plain": [
       "(894, 12)"
      ]
     },
     "execution_count": 20,
     "metadata": {},
     "output_type": "execute_result"
    }
   ],
   "source": [
    "data.shape"
   ]
  },
  {
   "cell_type": "markdown",
   "id": "bff097b6",
   "metadata": {},
   "source": [
    "## Analysis"
   ]
  },
  {
   "cell_type": "code",
   "execution_count": 21,
   "id": "364aa1e5",
   "metadata": {
    "ExecuteTime": {
     "end_time": "2023-05-24T11:49:11.591092Z",
     "start_time": "2023-05-24T11:49:11.439040Z"
    }
   },
   "outputs": [
    {
     "data": {
      "image/png": "[encoded data removed]",
      "text/plain": [
       "<Figure size 640x480 with 1 Axes>"
      ]
     },
     "metadata": {},
     "output_type": "display_data"
    }
   ],
   "source": [
    "sns.countplot(x=data.HeartDisease);"
   ]
  },
  {
   "cell_type": "markdown",
   "id": "0f913bed",
   "metadata": {},
   "source": [
    "### Insights:\n",
    "* In the dataset Heart Disease 1 means paient has Heart Disease and 0 means normal.\n",
    "* Count of the having Heart Disease paients are more."
   ]
  },
  {
   "cell_type": "code",
   "execution_count": 22,
   "id": "0449397b",
   "metadata": {
    "ExecuteTime": {
     "end_time": "2023-05-24T11:49:11.700840Z",
     "start_time": "2023-05-24T11:49:11.592094Z"
    }
   },
   "outputs": [
    {
     "data": {
      "image/png": "[encoded data removed]",
      "text/plain": [
       "<Figure size 640x480 with 1 Axes>"
      ]
     },
     "metadata": {},
     "output_type": "display_data"
    }
   ],
   "source": [
    "sns.countplot(x=data.Sex);"
   ]
  },
  {
   "cell_type": "markdown",
   "id": "713fa419",
   "metadata": {},
   "source": [
    "### Insights:\n",
    "* Count of male are more compared to the female's."
   ]
  },
  {
   "cell_type": "code",
   "execution_count": 23,
   "id": "8b0f243d",
   "metadata": {
    "ExecuteTime": {
     "end_time": "2023-05-24T11:49:12.104045Z",
     "start_time": "2023-05-24T11:49:11.707907Z"
    }
   },
   "outputs": [
    {
     "data": {
      "image/png": "[encoded data removed]",
      "text/plain": [
       "<Figure size 640x480 with 1 Axes>"
      ]
     },
     "metadata": {},
     "output_type": "display_data"
    }
   ],
   "source": [
    "sns.scatterplot(x=data.Age, y=data.HeartDisease, hue=data.Sex);"
   ]
  },
  {
   "cell_type": "markdown",
   "id": "6c4e0b4c",
   "metadata": {},
   "source": [
    "### Insights:\n",
    "* Male's who are having the heart Diseases are more compared to female's then we can say that male are affecting more with the Heart Disease problem with respective Age of the paitent."
   ]
  },
  {
   "cell_type": "code",
   "execution_count": 24,
   "id": "2e894c8a",
   "metadata": {
    "ExecuteTime": {
     "end_time": "2023-05-24T11:49:12.320489Z",
     "start_time": "2023-05-24T11:49:12.106613Z"
    }
   },
   "outputs": [
    {
     "data": {
      "image/png": "[encoded data removed]",
      "text/plain": [
       "<Figure size 640x480 with 1 Axes>"
      ]
     },
     "metadata": {},
     "output_type": "display_data"
    }
   ],
   "source": [
    "sns.scatterplot(x=data.Age, y=data.RestingBP, hue=data.HeartDisease);"
   ]
  },
  {
   "cell_type": "markdown",
   "id": "016b45d9",
   "metadata": {},
   "source": [
    "### Insights:\n",
    "* Based on the Age and resting blood pressure These are the Heart disease paitents."
   ]
  },
  {
   "cell_type": "markdown",
   "id": "a9b87466",
   "metadata": {},
   "source": [
    "## Splitting the data"
   ]
  },
  {
   "cell_type": "code",
   "execution_count": 25,
   "id": "6a5ab8db",
   "metadata": {
    "ExecuteTime": {
     "end_time": "2023-05-24T11:49:12.336175Z",
     "start_time": "2023-05-24T11:49:12.322561Z"
    }
   },
   "outputs": [],
   "source": [
    "x = data.drop(['HeartDisease'], axis=1)\n",
    "y = data['HeartDisease']"
   ]
  },
  {
   "cell_type": "code",
   "execution_count": 26,
   "id": "4adbae67",
   "metadata": {
    "ExecuteTime": {
     "end_time": "2023-05-24T11:49:12.552751Z",
     "start_time": "2023-05-24T11:49:12.338190Z"
    }
   },
   "outputs": [],
   "source": [
    "from sklearn.model_selection import train_test_split\n",
    "X_train,X_test,y_train,y_test = train_test_split(x,y,test_size=0.2)"
   ]
  },
  {
   "cell_type": "markdown",
   "id": "cbe6f39c",
   "metadata": {},
   "source": [
    "### Separating Categorical and Numerical Columns on Traning data"
   ]
  },
  {
   "cell_type": "code",
   "execution_count": 27,
   "id": "a575c156",
   "metadata": {
    "ExecuteTime": {
     "end_time": "2023-05-24T11:49:12.568224Z",
     "start_time": "2023-05-24T11:49:12.554102Z"
    }
   },
   "outputs": [],
   "source": [
    "X_train_num = X_train.select_dtypes(include=['int64', 'float64'])"
   ]
  },
  {
   "cell_type": "code",
   "execution_count": 28,
   "id": "aa56c86e",
   "metadata": {
    "ExecuteTime": {
     "end_time": "2023-05-24T11:49:12.599003Z",
     "start_time": "2023-05-24T11:49:12.581600Z"
    }
   },
   "outputs": [
    {
     "data": {
      "text/html": [
       "<div>\n",
       "<style scoped>\n",
       "    .dataframe tbody tr th:only-of-type {\n",
       "        vertical-align: middle;\n",
       "    }\n",
       "\n",
       "    .dataframe tbody tr th {\n",
       "        vertical-align: top;\n",
       "    }\n",
       "\n",
       "    .dataframe thead th {\n",
       "        text-align: right;\n",
       "    }\n",
       "</style>\n",
       "<table border=\"1\" class=\"dataframe\">\n",
       "  <thead>\n",
       "    <tr style=\"text-align: right;\">\n",
       "      <th></th>\n",
       "      <th>Age</th>\n",
       "      <th>RestingBP</th>\n",
       "      <th>Cholesterol</th>\n",
       "      <th>FastingBS</th>\n",
       "      <th>MaxHR</th>\n",
       "      <th>Oldpeak</th>\n",
       "    </tr>\n",
       "  </thead>\n",
       "  <tbody>\n",
       "    <tr>\n",
       "      <th>901</th>\n",
       "      <td>58</td>\n",
       "      <td>170</td>\n",
       "      <td>225</td>\n",
       "      <td>1</td>\n",
       "      <td>146</td>\n",
       "      <td>2.8</td>\n",
       "    </tr>\n",
       "    <tr>\n",
       "      <th>744</th>\n",
       "      <td>60</td>\n",
       "      <td>117</td>\n",
       "      <td>230</td>\n",
       "      <td>1</td>\n",
       "      <td>160</td>\n",
       "      <td>1.4</td>\n",
       "    </tr>\n",
       "    <tr>\n",
       "      <th>237</th>\n",
       "      <td>55</td>\n",
       "      <td>140</td>\n",
       "      <td>295</td>\n",
       "      <td>0</td>\n",
       "      <td>136</td>\n",
       "      <td>0.0</td>\n",
       "    </tr>\n",
       "    <tr>\n",
       "      <th>168</th>\n",
       "      <td>58</td>\n",
       "      <td>135</td>\n",
       "      <td>222</td>\n",
       "      <td>0</td>\n",
       "      <td>100</td>\n",
       "      <td>0.0</td>\n",
       "    </tr>\n",
       "    <tr>\n",
       "      <th>194</th>\n",
       "      <td>41</td>\n",
       "      <td>125</td>\n",
       "      <td>184</td>\n",
       "      <td>0</td>\n",
       "      <td>180</td>\n",
       "      <td>0.0</td>\n",
       "    </tr>\n",
       "  </tbody>\n",
       "</table>\n",
       "</div>"
      ],
      "text/plain": [
       "     Age  RestingBP  Cholesterol  FastingBS  MaxHR  Oldpeak\n",
       "901   58        170          225          1    146      2.8\n",
       "744   60        117          230          1    160      1.4\n",
       "237   55        140          295          0    136      0.0\n",
       "168   58        135          222          0    100      0.0\n",
       "194   41        125          184          0    180      0.0"
      ]
     },
     "execution_count": 28,
     "metadata": {},
     "output_type": "execute_result"
    }
   ],
   "source": [
    "X_train_num.head()"
   ]
  },
  {
   "cell_type": "code",
   "execution_count": 29,
   "id": "0ffae72d",
   "metadata": {
    "ExecuteTime": {
     "end_time": "2023-05-24T11:49:12.614352Z",
     "start_time": "2023-05-24T11:49:12.600995Z"
    }
   },
   "outputs": [],
   "source": [
    "X_train_cat = X_train.select_dtypes(include=['object'])"
   ]
  },
  {
   "cell_type": "code",
   "execution_count": 30,
   "id": "e1324a47",
   "metadata": {
    "ExecuteTime": {
     "end_time": "2023-05-24T11:49:12.630070Z",
     "start_time": "2023-05-24T11:49:12.615938Z"
    }
   },
   "outputs": [
    {
     "data": {
      "text/html": [
       "<div>\n",
       "<style scoped>\n",
       "    .dataframe tbody tr th:only-of-type {\n",
       "        vertical-align: middle;\n",
       "    }\n",
       "\n",
       "    .dataframe tbody tr th {\n",
       "        vertical-align: top;\n",
       "    }\n",
       "\n",
       "    .dataframe thead th {\n",
       "        text-align: right;\n",
       "    }\n",
       "</style>\n",
       "<table border=\"1\" class=\"dataframe\">\n",
       "  <thead>\n",
       "    <tr style=\"text-align: right;\">\n",
       "      <th></th>\n",
       "      <th>Sex</th>\n",
       "      <th>ChestPainType</th>\n",
       "      <th>RestingECG</th>\n",
       "      <th>ExerciseAngina</th>\n",
       "      <th>ST_Slope</th>\n",
       "    </tr>\n",
       "  </thead>\n",
       "  <tbody>\n",
       "    <tr>\n",
       "      <th>901</th>\n",
       "      <td>F</td>\n",
       "      <td>ASY</td>\n",
       "      <td>LVH</td>\n",
       "      <td>Y</td>\n",
       "      <td>Flat</td>\n",
       "    </tr>\n",
       "    <tr>\n",
       "      <th>744</th>\n",
       "      <td>M</td>\n",
       "      <td>ASY</td>\n",
       "      <td>Normal</td>\n",
       "      <td>Y</td>\n",
       "      <td>Up</td>\n",
       "    </tr>\n",
       "    <tr>\n",
       "      <th>237</th>\n",
       "      <td>M</td>\n",
       "      <td>TA</td>\n",
       "      <td>Normal</td>\n",
       "      <td>N</td>\n",
       "      <td>Flat</td>\n",
       "    </tr>\n",
       "    <tr>\n",
       "      <th>168</th>\n",
       "      <td>M</td>\n",
       "      <td>ASY</td>\n",
       "      <td>Normal</td>\n",
       "      <td>N</td>\n",
       "      <td>Up</td>\n",
       "    </tr>\n",
       "    <tr>\n",
       "      <th>194</th>\n",
       "      <td>F</td>\n",
       "      <td>ATA</td>\n",
       "      <td>Normal</td>\n",
       "      <td>N</td>\n",
       "      <td>Up</td>\n",
       "    </tr>\n",
       "    <tr>\n",
       "      <th>...</th>\n",
       "      <td>...</td>\n",
       "      <td>...</td>\n",
       "      <td>...</td>\n",
       "      <td>...</td>\n",
       "      <td>...</td>\n",
       "    </tr>\n",
       "    <tr>\n",
       "      <th>163</th>\n",
       "      <td>M</td>\n",
       "      <td>ATA</td>\n",
       "      <td>Normal</td>\n",
       "      <td>N</td>\n",
       "      <td>Up</td>\n",
       "    </tr>\n",
       "    <tr>\n",
       "      <th>748</th>\n",
       "      <td>M</td>\n",
       "      <td>ASY</td>\n",
       "      <td>LVH</td>\n",
       "      <td>Y</td>\n",
       "      <td>Down</td>\n",
       "    </tr>\n",
       "    <tr>\n",
       "      <th>560</th>\n",
       "      <td>M</td>\n",
       "      <td>NAP</td>\n",
       "      <td>ST</td>\n",
       "      <td>N</td>\n",
       "      <td>Up</td>\n",
       "    </tr>\n",
       "    <tr>\n",
       "      <th>844</th>\n",
       "      <td>M</td>\n",
       "      <td>TA</td>\n",
       "      <td>LVH</td>\n",
       "      <td>N</td>\n",
       "      <td>Flat</td>\n",
       "    </tr>\n",
       "    <tr>\n",
       "      <th>320</th>\n",
       "      <td>M</td>\n",
       "      <td>NAP</td>\n",
       "      <td>Normal</td>\n",
       "      <td>N</td>\n",
       "      <td>Flat</td>\n",
       "    </tr>\n",
       "  </tbody>\n",
       "</table>\n",
       "<p>715 rows × 5 columns</p>\n",
       "</div>"
      ],
      "text/plain": [
       "    Sex ChestPainType RestingECG ExerciseAngina ST_Slope\n",
       "901   F           ASY        LVH              Y     Flat\n",
       "744   M           ASY     Normal              Y       Up\n",
       "237   M            TA     Normal              N     Flat\n",
       "168   M           ASY     Normal              N       Up\n",
       "194   F           ATA     Normal              N       Up\n",
       "..   ..           ...        ...            ...      ...\n",
       "163   M           ATA     Normal              N       Up\n",
       "748   M           ASY        LVH              Y     Down\n",
       "560   M           NAP         ST              N       Up\n",
       "844   M            TA        LVH              N     Flat\n",
       "320   M           NAP     Normal              N     Flat\n",
       "\n",
       "[715 rows x 5 columns]"
      ]
     },
     "execution_count": 30,
     "metadata": {},
     "output_type": "execute_result"
    }
   ],
   "source": [
    "X_train_cat"
   ]
  },
  {
   "cell_type": "markdown",
   "id": "ce3babf0",
   "metadata": {},
   "source": [
    "### Scaling the Numerical Features"
   ]
  },
  {
   "cell_type": "code",
   "execution_count": 31,
   "id": "c4ede757",
   "metadata": {
    "ExecuteTime": {
     "end_time": "2023-05-24T11:49:12.645404Z",
     "start_time": "2023-05-24T11:49:12.632074Z"
    }
   },
   "outputs": [
    {
     "data": {
      "text/html": [
       "<div>\n",
       "<style scoped>\n",
       "    .dataframe tbody tr th:only-of-type {\n",
       "        vertical-align: middle;\n",
       "    }\n",
       "\n",
       "    .dataframe tbody tr th {\n",
       "        vertical-align: top;\n",
       "    }\n",
       "\n",
       "    .dataframe thead th {\n",
       "        text-align: right;\n",
       "    }\n",
       "</style>\n",
       "<table border=\"1\" class=\"dataframe\">\n",
       "  <thead>\n",
       "    <tr style=\"text-align: right;\">\n",
       "      <th></th>\n",
       "      <th>Age</th>\n",
       "      <th>RestingBP</th>\n",
       "      <th>Cholesterol</th>\n",
       "      <th>FastingBS</th>\n",
       "      <th>MaxHR</th>\n",
       "      <th>Oldpeak</th>\n",
       "    </tr>\n",
       "  </thead>\n",
       "  <tbody>\n",
       "    <tr>\n",
       "      <th>901</th>\n",
       "      <td>0.480953</td>\n",
       "      <td>2.133222</td>\n",
       "      <td>0.297547</td>\n",
       "      <td>1.790498</td>\n",
       "      <td>0.387066</td>\n",
       "      <td>2.063856</td>\n",
       "    </tr>\n",
       "    <tr>\n",
       "      <th>744</th>\n",
       "      <td>0.696552</td>\n",
       "      <td>-0.871031</td>\n",
       "      <td>0.343832</td>\n",
       "      <td>1.790498</td>\n",
       "      <td>0.928657</td>\n",
       "      <td>0.606828</td>\n",
       "    </tr>\n",
       "    <tr>\n",
       "      <th>237</th>\n",
       "      <td>0.157553</td>\n",
       "      <td>0.432701</td>\n",
       "      <td>0.945542</td>\n",
       "      <td>-0.558504</td>\n",
       "      <td>0.000216</td>\n",
       "      <td>-0.850200</td>\n",
       "    </tr>\n",
       "    <tr>\n",
       "      <th>168</th>\n",
       "      <td>0.480953</td>\n",
       "      <td>0.149281</td>\n",
       "      <td>0.269776</td>\n",
       "      <td>-0.558504</td>\n",
       "      <td>-1.392444</td>\n",
       "      <td>-0.850200</td>\n",
       "    </tr>\n",
       "    <tr>\n",
       "      <th>194</th>\n",
       "      <td>-1.351643</td>\n",
       "      <td>-0.417559</td>\n",
       "      <td>-0.081993</td>\n",
       "      <td>-0.558504</td>\n",
       "      <td>1.702357</td>\n",
       "      <td>-0.850200</td>\n",
       "    </tr>\n",
       "  </tbody>\n",
       "</table>\n",
       "</div>"
      ],
      "text/plain": [
       "          Age  RestingBP  Cholesterol  FastingBS     MaxHR   Oldpeak\n",
       "901  0.480953   2.133222     0.297547   1.790498  0.387066  2.063856\n",
       "744  0.696552  -0.871031     0.343832   1.790498  0.928657  0.606828\n",
       "237  0.157553   0.432701     0.945542  -0.558504  0.000216 -0.850200\n",
       "168  0.480953   0.149281     0.269776  -0.558504 -1.392444 -0.850200\n",
       "194 -1.351643  -0.417559    -0.081993  -0.558504  1.702357 -0.850200"
      ]
     },
     "execution_count": 31,
     "metadata": {},
     "output_type": "execute_result"
    }
   ],
   "source": [
    "# scaling the numerical features\n",
    "from sklearn.preprocessing import StandardScaler\n",
    "scaler = StandardScaler()\n",
    "\n",
    "X_train_num_transformed = pd.DataFrame(scaler.fit_transform(X_train_num), \n",
    "                                    columns = X_train_num.columns, \n",
    "                                    index = X_train_num.index)\n",
    "\n",
    "X_train_num_transformed.head()"
   ]
  },
  {
   "cell_type": "markdown",
   "id": "d2908461",
   "metadata": {},
   "source": [
    "### Scaling the Categorical Features"
   ]
  },
  {
   "cell_type": "markdown",
   "id": "534cecc5",
   "metadata": {},
   "source": [
    "### Applying OneHotEncoding on Categorical Columns"
   ]
  },
  {
   "cell_type": "code",
   "execution_count": 32,
   "id": "a3580ca7",
   "metadata": {
    "ExecuteTime": {
     "end_time": "2023-05-24T11:49:12.675796Z",
     "start_time": "2023-05-24T11:49:12.646403Z"
    }
   },
   "outputs": [
    {
     "data": {
      "text/html": [
       "<div>\n",
       "<style scoped>\n",
       "    .dataframe tbody tr th:only-of-type {\n",
       "        vertical-align: middle;\n",
       "    }\n",
       "\n",
       "    .dataframe tbody tr th {\n",
       "        vertical-align: top;\n",
       "    }\n",
       "\n",
       "    .dataframe thead th {\n",
       "        text-align: right;\n",
       "    }\n",
       "</style>\n",
       "<table border=\"1\" class=\"dataframe\">\n",
       "  <thead>\n",
       "    <tr style=\"text-align: right;\">\n",
       "      <th></th>\n",
       "      <th>Sex_M</th>\n",
       "      <th>ChestPainType_ATA</th>\n",
       "      <th>ChestPainType_NAP</th>\n",
       "      <th>ChestPainType_TA</th>\n",
       "      <th>RestingECG_Normal</th>\n",
       "      <th>RestingECG_ST</th>\n",
       "      <th>ExerciseAngina_Y</th>\n",
       "      <th>ST_Slope_Flat</th>\n",
       "      <th>ST_Slope_Up</th>\n",
       "    </tr>\n",
       "  </thead>\n",
       "  <tbody>\n",
       "    <tr>\n",
       "      <th>901</th>\n",
       "      <td>0.0</td>\n",
       "      <td>0.0</td>\n",
       "      <td>0.0</td>\n",
       "      <td>0.0</td>\n",
       "      <td>0.0</td>\n",
       "      <td>0.0</td>\n",
       "      <td>1.0</td>\n",
       "      <td>1.0</td>\n",
       "      <td>0.0</td>\n",
       "    </tr>\n",
       "    <tr>\n",
       "      <th>744</th>\n",
       "      <td>1.0</td>\n",
       "      <td>0.0</td>\n",
       "      <td>0.0</td>\n",
       "      <td>0.0</td>\n",
       "      <td>1.0</td>\n",
       "      <td>0.0</td>\n",
       "      <td>1.0</td>\n",
       "      <td>0.0</td>\n",
       "      <td>1.0</td>\n",
       "    </tr>\n",
       "    <tr>\n",
       "      <th>237</th>\n",
       "      <td>1.0</td>\n",
       "      <td>0.0</td>\n",
       "      <td>0.0</td>\n",
       "      <td>1.0</td>\n",
       "      <td>1.0</td>\n",
       "      <td>0.0</td>\n",
       "      <td>0.0</td>\n",
       "      <td>1.0</td>\n",
       "      <td>0.0</td>\n",
       "    </tr>\n",
       "    <tr>\n",
       "      <th>168</th>\n",
       "      <td>1.0</td>\n",
       "      <td>0.0</td>\n",
       "      <td>0.0</td>\n",
       "      <td>0.0</td>\n",
       "      <td>1.0</td>\n",
       "      <td>0.0</td>\n",
       "      <td>0.0</td>\n",
       "      <td>0.0</td>\n",
       "      <td>1.0</td>\n",
       "    </tr>\n",
       "    <tr>\n",
       "      <th>194</th>\n",
       "      <td>0.0</td>\n",
       "      <td>1.0</td>\n",
       "      <td>0.0</td>\n",
       "      <td>0.0</td>\n",
       "      <td>1.0</td>\n",
       "      <td>0.0</td>\n",
       "      <td>0.0</td>\n",
       "      <td>0.0</td>\n",
       "      <td>1.0</td>\n",
       "    </tr>\n",
       "  </tbody>\n",
       "</table>\n",
       "</div>"
      ],
      "text/plain": [
       "     Sex_M  ChestPainType_ATA  ChestPainType_NAP  ChestPainType_TA  \\\n",
       "901    0.0                0.0                0.0               0.0   \n",
       "744    1.0                0.0                0.0               0.0   \n",
       "237    1.0                0.0                0.0               1.0   \n",
       "168    1.0                0.0                0.0               0.0   \n",
       "194    0.0                1.0                0.0               0.0   \n",
       "\n",
       "     RestingECG_Normal  RestingECG_ST  ExerciseAngina_Y  ST_Slope_Flat  \\\n",
       "901                0.0            0.0               1.0            1.0   \n",
       "744                1.0            0.0               1.0            0.0   \n",
       "237                1.0            0.0               0.0            1.0   \n",
       "168                1.0            0.0               0.0            0.0   \n",
       "194                1.0            0.0               0.0            0.0   \n",
       "\n",
       "     ST_Slope_Up  \n",
       "901          0.0  \n",
       "744          1.0  \n",
       "237          0.0  \n",
       "168          1.0  \n",
       "194          1.0  "
      ]
     },
     "execution_count": 32,
     "metadata": {},
     "output_type": "execute_result"
    }
   ],
   "source": [
    "# scaling the categorical features\n",
    "from sklearn.preprocessing import OneHotEncoder\n",
    "encoder = OneHotEncoder(drop='first', sparse=False)\n",
    "\n",
    "X_train_cat_ohe = pd.DataFrame(encoder.fit_transform(X_train_cat), \n",
    "                               columns=encoder.get_feature_names_out(X_train_cat.columns), \n",
    "                               index = X_train_cat.index)\n",
    "\n",
    "X_train_cat_ohe.head()"
   ]
  },
  {
   "cell_type": "markdown",
   "id": "3ed51bbf",
   "metadata": {},
   "source": [
    "### Concatenating the Encoded Categorical Features and Transformed Numerical Features"
   ]
  },
  {
   "cell_type": "code",
   "execution_count": 33,
   "id": "a2baba49",
   "metadata": {
    "ExecuteTime": {
     "end_time": "2023-05-24T11:49:12.706458Z",
     "start_time": "2023-05-24T11:49:12.677800Z"
    }
   },
   "outputs": [
    {
     "data": {
      "text/html": [
       "<div>\n",
       "<style scoped>\n",
       "    .dataframe tbody tr th:only-of-type {\n",
       "        vertical-align: middle;\n",
       "    }\n",
       "\n",
       "    .dataframe tbody tr th {\n",
       "        vertical-align: top;\n",
       "    }\n",
       "\n",
       "    .dataframe thead th {\n",
       "        text-align: right;\n",
       "    }\n",
       "</style>\n",
       "<table border=\"1\" class=\"dataframe\">\n",
       "  <thead>\n",
       "    <tr style=\"text-align: right;\">\n",
       "      <th></th>\n",
       "      <th>Age</th>\n",
       "      <th>RestingBP</th>\n",
       "      <th>Cholesterol</th>\n",
       "      <th>FastingBS</th>\n",
       "      <th>MaxHR</th>\n",
       "      <th>Oldpeak</th>\n",
       "      <th>Sex_M</th>\n",
       "      <th>ChestPainType_ATA</th>\n",
       "      <th>ChestPainType_NAP</th>\n",
       "      <th>ChestPainType_TA</th>\n",
       "      <th>RestingECG_Normal</th>\n",
       "      <th>RestingECG_ST</th>\n",
       "      <th>ExerciseAngina_Y</th>\n",
       "      <th>ST_Slope_Flat</th>\n",
       "      <th>ST_Slope_Up</th>\n",
       "    </tr>\n",
       "  </thead>\n",
       "  <tbody>\n",
       "    <tr>\n",
       "      <th>901</th>\n",
       "      <td>0.480953</td>\n",
       "      <td>2.133222</td>\n",
       "      <td>0.297547</td>\n",
       "      <td>1.790498</td>\n",
       "      <td>0.387066</td>\n",
       "      <td>2.063856</td>\n",
       "      <td>0.0</td>\n",
       "      <td>0.0</td>\n",
       "      <td>0.0</td>\n",
       "      <td>0.0</td>\n",
       "      <td>0.0</td>\n",
       "      <td>0.0</td>\n",
       "      <td>1.0</td>\n",
       "      <td>1.0</td>\n",
       "      <td>0.0</td>\n",
       "    </tr>\n",
       "    <tr>\n",
       "      <th>744</th>\n",
       "      <td>0.696552</td>\n",
       "      <td>-0.871031</td>\n",
       "      <td>0.343832</td>\n",
       "      <td>1.790498</td>\n",
       "      <td>0.928657</td>\n",
       "      <td>0.606828</td>\n",
       "      <td>1.0</td>\n",
       "      <td>0.0</td>\n",
       "      <td>0.0</td>\n",
       "      <td>0.0</td>\n",
       "      <td>1.0</td>\n",
       "      <td>0.0</td>\n",
       "      <td>1.0</td>\n",
       "      <td>0.0</td>\n",
       "      <td>1.0</td>\n",
       "    </tr>\n",
       "    <tr>\n",
       "      <th>237</th>\n",
       "      <td>0.157553</td>\n",
       "      <td>0.432701</td>\n",
       "      <td>0.945542</td>\n",
       "      <td>-0.558504</td>\n",
       "      <td>0.000216</td>\n",
       "      <td>-0.850200</td>\n",
       "      <td>1.0</td>\n",
       "      <td>0.0</td>\n",
       "      <td>0.0</td>\n",
       "      <td>1.0</td>\n",
       "      <td>1.0</td>\n",
       "      <td>0.0</td>\n",
       "      <td>0.0</td>\n",
       "      <td>1.0</td>\n",
       "      <td>0.0</td>\n",
       "    </tr>\n",
       "    <tr>\n",
       "      <th>168</th>\n",
       "      <td>0.480953</td>\n",
       "      <td>0.149281</td>\n",
       "      <td>0.269776</td>\n",
       "      <td>-0.558504</td>\n",
       "      <td>-1.392444</td>\n",
       "      <td>-0.850200</td>\n",
       "      <td>1.0</td>\n",
       "      <td>0.0</td>\n",
       "      <td>0.0</td>\n",
       "      <td>0.0</td>\n",
       "      <td>1.0</td>\n",
       "      <td>0.0</td>\n",
       "      <td>0.0</td>\n",
       "      <td>0.0</td>\n",
       "      <td>1.0</td>\n",
       "    </tr>\n",
       "    <tr>\n",
       "      <th>194</th>\n",
       "      <td>-1.351643</td>\n",
       "      <td>-0.417559</td>\n",
       "      <td>-0.081993</td>\n",
       "      <td>-0.558504</td>\n",
       "      <td>1.702357</td>\n",
       "      <td>-0.850200</td>\n",
       "      <td>0.0</td>\n",
       "      <td>1.0</td>\n",
       "      <td>0.0</td>\n",
       "      <td>0.0</td>\n",
       "      <td>1.0</td>\n",
       "      <td>0.0</td>\n",
       "      <td>0.0</td>\n",
       "      <td>0.0</td>\n",
       "      <td>1.0</td>\n",
       "    </tr>\n",
       "  </tbody>\n",
       "</table>\n",
       "</div>"
      ],
      "text/plain": [
       "          Age  RestingBP  Cholesterol  FastingBS     MaxHR   Oldpeak  Sex_M  \\\n",
       "901  0.480953   2.133222     0.297547   1.790498  0.387066  2.063856    0.0   \n",
       "744  0.696552  -0.871031     0.343832   1.790498  0.928657  0.606828    1.0   \n",
       "237  0.157553   0.432701     0.945542  -0.558504  0.000216 -0.850200    1.0   \n",
       "168  0.480953   0.149281     0.269776  -0.558504 -1.392444 -0.850200    1.0   \n",
       "194 -1.351643  -0.417559    -0.081993  -0.558504  1.702357 -0.850200    0.0   \n",
       "\n",
       "     ChestPainType_ATA  ChestPainType_NAP  ChestPainType_TA  \\\n",
       "901                0.0                0.0               0.0   \n",
       "744                0.0                0.0               0.0   \n",
       "237                0.0                0.0               1.0   \n",
       "168                0.0                0.0               0.0   \n",
       "194                1.0                0.0               0.0   \n",
       "\n",
       "     RestingECG_Normal  RestingECG_ST  ExerciseAngina_Y  ST_Slope_Flat  \\\n",
       "901                0.0            0.0               1.0            1.0   \n",
       "744                1.0            0.0               1.0            0.0   \n",
       "237                1.0            0.0               0.0            1.0   \n",
       "168                1.0            0.0               0.0            0.0   \n",
       "194                1.0            0.0               0.0            0.0   \n",
       "\n",
       "     ST_Slope_Up  \n",
       "901          0.0  \n",
       "744          1.0  \n",
       "237          0.0  \n",
       "168          1.0  \n",
       "194          1.0  "
      ]
     },
     "execution_count": 33,
     "metadata": {},
     "output_type": "execute_result"
    }
   ],
   "source": [
    "X_train_transformed = pd.concat([X_train_num_transformed, X_train_cat_ohe], axis=1)\n",
    "\n",
    "X_train_transformed.head()"
   ]
  },
  {
   "cell_type": "markdown",
   "id": "463ab940",
   "metadata": {},
   "source": [
    "### Separating Categorical and Numerical Columns on Test data"
   ]
  },
  {
   "cell_type": "code",
   "execution_count": 34,
   "id": "0d114c5e",
   "metadata": {
    "ExecuteTime": {
     "end_time": "2023-05-24T11:49:12.722722Z",
     "start_time": "2023-05-24T11:49:12.708472Z"
    }
   },
   "outputs": [
    {
     "data": {
      "text/html": [
       "<div>\n",
       "<style scoped>\n",
       "    .dataframe tbody tr th:only-of-type {\n",
       "        vertical-align: middle;\n",
       "    }\n",
       "\n",
       "    .dataframe tbody tr th {\n",
       "        vertical-align: top;\n",
       "    }\n",
       "\n",
       "    .dataframe thead th {\n",
       "        text-align: right;\n",
       "    }\n",
       "</style>\n",
       "<table border=\"1\" class=\"dataframe\">\n",
       "  <thead>\n",
       "    <tr style=\"text-align: right;\">\n",
       "      <th></th>\n",
       "      <th>Sex</th>\n",
       "      <th>ChestPainType</th>\n",
       "      <th>RestingECG</th>\n",
       "      <th>ExerciseAngina</th>\n",
       "      <th>ST_Slope</th>\n",
       "    </tr>\n",
       "  </thead>\n",
       "  <tbody>\n",
       "    <tr>\n",
       "      <th>2</th>\n",
       "      <td>M</td>\n",
       "      <td>ATA</td>\n",
       "      <td>ST</td>\n",
       "      <td>N</td>\n",
       "      <td>Up</td>\n",
       "    </tr>\n",
       "    <tr>\n",
       "      <th>136</th>\n",
       "      <td>F</td>\n",
       "      <td>ATA</td>\n",
       "      <td>ST</td>\n",
       "      <td>N</td>\n",
       "      <td>Up</td>\n",
       "    </tr>\n",
       "    <tr>\n",
       "      <th>192</th>\n",
       "      <td>M</td>\n",
       "      <td>ATA</td>\n",
       "      <td>Normal</td>\n",
       "      <td>N</td>\n",
       "      <td>Up</td>\n",
       "    </tr>\n",
       "    <tr>\n",
       "      <th>783</th>\n",
       "      <td>F</td>\n",
       "      <td>ASY</td>\n",
       "      <td>LVH</td>\n",
       "      <td>Y</td>\n",
       "      <td>Flat</td>\n",
       "    </tr>\n",
       "    <tr>\n",
       "      <th>759</th>\n",
       "      <td>M</td>\n",
       "      <td>ATA</td>\n",
       "      <td>LVH</td>\n",
       "      <td>N</td>\n",
       "      <td>Up</td>\n",
       "    </tr>\n",
       "  </tbody>\n",
       "</table>\n",
       "</div>"
      ],
      "text/plain": [
       "    Sex ChestPainType RestingECG ExerciseAngina ST_Slope\n",
       "2     M           ATA         ST              N       Up\n",
       "136   F           ATA         ST              N       Up\n",
       "192   M           ATA     Normal              N       Up\n",
       "783   F           ASY        LVH              Y     Flat\n",
       "759   M           ATA        LVH              N       Up"
      ]
     },
     "execution_count": 34,
     "metadata": {},
     "output_type": "execute_result"
    }
   ],
   "source": [
    "X_test_cat = X_test.select_dtypes(include=['object'])\n",
    "X_test_cat.head()"
   ]
  },
  {
   "cell_type": "code",
   "execution_count": 35,
   "id": "bd673598",
   "metadata": {
    "ExecuteTime": {
     "end_time": "2023-05-24T11:49:12.737935Z",
     "start_time": "2023-05-24T11:49:12.723724Z"
    }
   },
   "outputs": [
    {
     "data": {
      "text/html": [
       "<div>\n",
       "<style scoped>\n",
       "    .dataframe tbody tr th:only-of-type {\n",
       "        vertical-align: middle;\n",
       "    }\n",
       "\n",
       "    .dataframe tbody tr th {\n",
       "        vertical-align: top;\n",
       "    }\n",
       "\n",
       "    .dataframe thead th {\n",
       "        text-align: right;\n",
       "    }\n",
       "</style>\n",
       "<table border=\"1\" class=\"dataframe\">\n",
       "  <thead>\n",
       "    <tr style=\"text-align: right;\">\n",
       "      <th></th>\n",
       "      <th>Age</th>\n",
       "      <th>RestingBP</th>\n",
       "      <th>Cholesterol</th>\n",
       "      <th>FastingBS</th>\n",
       "      <th>MaxHR</th>\n",
       "      <th>Oldpeak</th>\n",
       "    </tr>\n",
       "  </thead>\n",
       "  <tbody>\n",
       "    <tr>\n",
       "      <th>2</th>\n",
       "      <td>37</td>\n",
       "      <td>130</td>\n",
       "      <td>283</td>\n",
       "      <td>0</td>\n",
       "      <td>98</td>\n",
       "      <td>0.0</td>\n",
       "    </tr>\n",
       "    <tr>\n",
       "      <th>136</th>\n",
       "      <td>43</td>\n",
       "      <td>120</td>\n",
       "      <td>215</td>\n",
       "      <td>0</td>\n",
       "      <td>175</td>\n",
       "      <td>0.0</td>\n",
       "    </tr>\n",
       "    <tr>\n",
       "      <th>192</th>\n",
       "      <td>48</td>\n",
       "      <td>130</td>\n",
       "      <td>245</td>\n",
       "      <td>0</td>\n",
       "      <td>160</td>\n",
       "      <td>0.0</td>\n",
       "    </tr>\n",
       "    <tr>\n",
       "      <th>783</th>\n",
       "      <td>45</td>\n",
       "      <td>138</td>\n",
       "      <td>236</td>\n",
       "      <td>0</td>\n",
       "      <td>152</td>\n",
       "      <td>0.2</td>\n",
       "    </tr>\n",
       "    <tr>\n",
       "      <th>759</th>\n",
       "      <td>54</td>\n",
       "      <td>192</td>\n",
       "      <td>283</td>\n",
       "      <td>0</td>\n",
       "      <td>195</td>\n",
       "      <td>0.0</td>\n",
       "    </tr>\n",
       "  </tbody>\n",
       "</table>\n",
       "</div>"
      ],
      "text/plain": [
       "     Age  RestingBP  Cholesterol  FastingBS  MaxHR  Oldpeak\n",
       "2     37        130          283          0     98      0.0\n",
       "136   43        120          215          0    175      0.0\n",
       "192   48        130          245          0    160      0.0\n",
       "783   45        138          236          0    152      0.2\n",
       "759   54        192          283          0    195      0.0"
      ]
     },
     "execution_count": 35,
     "metadata": {},
     "output_type": "execute_result"
    }
   ],
   "source": [
    "X_test_num = X_test.select_dtypes(include=['int64', 'float64'])\n",
    "X_test_num.head()"
   ]
  },
  {
   "cell_type": "code",
   "execution_count": 36,
   "id": "f6cb93dd",
   "metadata": {
    "ExecuteTime": {
     "end_time": "2023-05-24T11:49:12.753274Z",
     "start_time": "2023-05-24T11:49:12.739936Z"
    }
   },
   "outputs": [
    {
     "data": {
      "text/html": [
       "<div>\n",
       "<style scoped>\n",
       "    .dataframe tbody tr th:only-of-type {\n",
       "        vertical-align: middle;\n",
       "    }\n",
       "\n",
       "    .dataframe tbody tr th {\n",
       "        vertical-align: top;\n",
       "    }\n",
       "\n",
       "    .dataframe thead th {\n",
       "        text-align: right;\n",
       "    }\n",
       "</style>\n",
       "<table border=\"1\" class=\"dataframe\">\n",
       "  <thead>\n",
       "    <tr style=\"text-align: right;\">\n",
       "      <th></th>\n",
       "      <th>Age</th>\n",
       "      <th>RestingBP</th>\n",
       "      <th>Cholesterol</th>\n",
       "      <th>FastingBS</th>\n",
       "      <th>MaxHR</th>\n",
       "      <th>Oldpeak</th>\n",
       "    </tr>\n",
       "  </thead>\n",
       "  <tbody>\n",
       "    <tr>\n",
       "      <th>2</th>\n",
       "      <td>-1.782842</td>\n",
       "      <td>-0.134139</td>\n",
       "      <td>0.834457</td>\n",
       "      <td>-0.558504</td>\n",
       "      <td>-1.469814</td>\n",
       "      <td>-0.850200</td>\n",
       "    </tr>\n",
       "    <tr>\n",
       "      <th>136</th>\n",
       "      <td>-1.136043</td>\n",
       "      <td>-0.700979</td>\n",
       "      <td>0.204976</td>\n",
       "      <td>-0.558504</td>\n",
       "      <td>1.508932</td>\n",
       "      <td>-0.850200</td>\n",
       "    </tr>\n",
       "    <tr>\n",
       "      <th>192</th>\n",
       "      <td>-0.597045</td>\n",
       "      <td>-0.134139</td>\n",
       "      <td>0.482688</td>\n",
       "      <td>-0.558504</td>\n",
       "      <td>0.928657</td>\n",
       "      <td>-0.850200</td>\n",
       "    </tr>\n",
       "    <tr>\n",
       "      <th>783</th>\n",
       "      <td>-0.920444</td>\n",
       "      <td>0.319333</td>\n",
       "      <td>0.399375</td>\n",
       "      <td>-0.558504</td>\n",
       "      <td>0.619177</td>\n",
       "      <td>-0.642053</td>\n",
       "    </tr>\n",
       "    <tr>\n",
       "      <th>759</th>\n",
       "      <td>0.049754</td>\n",
       "      <td>3.380271</td>\n",
       "      <td>0.834457</td>\n",
       "      <td>-0.558504</td>\n",
       "      <td>2.282632</td>\n",
       "      <td>-0.850200</td>\n",
       "    </tr>\n",
       "  </tbody>\n",
       "</table>\n",
       "</div>"
      ],
      "text/plain": [
       "          Age  RestingBP  Cholesterol  FastingBS     MaxHR   Oldpeak\n",
       "2   -1.782842  -0.134139     0.834457  -0.558504 -1.469814 -0.850200\n",
       "136 -1.136043  -0.700979     0.204976  -0.558504  1.508932 -0.850200\n",
       "192 -0.597045  -0.134139     0.482688  -0.558504  0.928657 -0.850200\n",
       "783 -0.920444   0.319333     0.399375  -0.558504  0.619177 -0.642053\n",
       "759  0.049754   3.380271     0.834457  -0.558504  2.282632 -0.850200"
      ]
     },
     "execution_count": 36,
     "metadata": {},
     "output_type": "execute_result"
    }
   ],
   "source": [
    "X_test_num_transformed = pd.DataFrame(scaler.transform(X_test_num), \n",
    "                                   columns = X_test_num.columns, \n",
    "                                   index = X_test_num.index)\n",
    "\n",
    "X_test_num_transformed.head()"
   ]
  },
  {
   "cell_type": "code",
   "execution_count": 37,
   "id": "fab88a69",
   "metadata": {
    "ExecuteTime": {
     "end_time": "2023-05-24T11:49:12.784356Z",
     "start_time": "2023-05-24T11:49:12.755330Z"
    }
   },
   "outputs": [
    {
     "data": {
      "text/html": [
       "<div>\n",
       "<style scoped>\n",
       "    .dataframe tbody tr th:only-of-type {\n",
       "        vertical-align: middle;\n",
       "    }\n",
       "\n",
       "    .dataframe tbody tr th {\n",
       "        vertical-align: top;\n",
       "    }\n",
       "\n",
       "    .dataframe thead th {\n",
       "        text-align: right;\n",
       "    }\n",
       "</style>\n",
       "<table border=\"1\" class=\"dataframe\">\n",
       "  <thead>\n",
       "    <tr style=\"text-align: right;\">\n",
       "      <th></th>\n",
       "      <th>Sex_M</th>\n",
       "      <th>ChestPainType_ATA</th>\n",
       "      <th>ChestPainType_NAP</th>\n",
       "      <th>ChestPainType_TA</th>\n",
       "      <th>RestingECG_Normal</th>\n",
       "      <th>RestingECG_ST</th>\n",
       "      <th>ExerciseAngina_Y</th>\n",
       "      <th>ST_Slope_Flat</th>\n",
       "      <th>ST_Slope_Up</th>\n",
       "    </tr>\n",
       "  </thead>\n",
       "  <tbody>\n",
       "    <tr>\n",
       "      <th>2</th>\n",
       "      <td>1.0</td>\n",
       "      <td>1.0</td>\n",
       "      <td>0.0</td>\n",
       "      <td>0.0</td>\n",
       "      <td>0.0</td>\n",
       "      <td>1.0</td>\n",
       "      <td>0.0</td>\n",
       "      <td>0.0</td>\n",
       "      <td>1.0</td>\n",
       "    </tr>\n",
       "    <tr>\n",
       "      <th>136</th>\n",
       "      <td>0.0</td>\n",
       "      <td>1.0</td>\n",
       "      <td>0.0</td>\n",
       "      <td>0.0</td>\n",
       "      <td>0.0</td>\n",
       "      <td>1.0</td>\n",
       "      <td>0.0</td>\n",
       "      <td>0.0</td>\n",
       "      <td>1.0</td>\n",
       "    </tr>\n",
       "    <tr>\n",
       "      <th>192</th>\n",
       "      <td>1.0</td>\n",
       "      <td>1.0</td>\n",
       "      <td>0.0</td>\n",
       "      <td>0.0</td>\n",
       "      <td>1.0</td>\n",
       "      <td>0.0</td>\n",
       "      <td>0.0</td>\n",
       "      <td>0.0</td>\n",
       "      <td>1.0</td>\n",
       "    </tr>\n",
       "    <tr>\n",
       "      <th>783</th>\n",
       "      <td>0.0</td>\n",
       "      <td>0.0</td>\n",
       "      <td>0.0</td>\n",
       "      <td>0.0</td>\n",
       "      <td>0.0</td>\n",
       "      <td>0.0</td>\n",
       "      <td>1.0</td>\n",
       "      <td>1.0</td>\n",
       "      <td>0.0</td>\n",
       "    </tr>\n",
       "    <tr>\n",
       "      <th>759</th>\n",
       "      <td>1.0</td>\n",
       "      <td>1.0</td>\n",
       "      <td>0.0</td>\n",
       "      <td>0.0</td>\n",
       "      <td>0.0</td>\n",
       "      <td>0.0</td>\n",
       "      <td>0.0</td>\n",
       "      <td>0.0</td>\n",
       "      <td>1.0</td>\n",
       "    </tr>\n",
       "  </tbody>\n",
       "</table>\n",
       "</div>"
      ],
      "text/plain": [
       "     Sex_M  ChestPainType_ATA  ChestPainType_NAP  ChestPainType_TA  \\\n",
       "2      1.0                1.0                0.0               0.0   \n",
       "136    0.0                1.0                0.0               0.0   \n",
       "192    1.0                1.0                0.0               0.0   \n",
       "783    0.0                0.0                0.0               0.0   \n",
       "759    1.0                1.0                0.0               0.0   \n",
       "\n",
       "     RestingECG_Normal  RestingECG_ST  ExerciseAngina_Y  ST_Slope_Flat  \\\n",
       "2                  0.0            1.0               0.0            0.0   \n",
       "136                0.0            1.0               0.0            0.0   \n",
       "192                1.0            0.0               0.0            0.0   \n",
       "783                0.0            0.0               1.0            1.0   \n",
       "759                0.0            0.0               0.0            0.0   \n",
       "\n",
       "     ST_Slope_Up  \n",
       "2            1.0  \n",
       "136          1.0  \n",
       "192          1.0  \n",
       "783          0.0  \n",
       "759          1.0  "
      ]
     },
     "execution_count": 37,
     "metadata": {},
     "output_type": "execute_result"
    }
   ],
   "source": [
    "X_test_cat_ohe = pd.DataFrame(encoder.transform(X_test_cat), \n",
    "                               columns=encoder.get_feature_names_out(X_test_cat.columns), \n",
    "                               index = X_test_cat.index)\n",
    "\n",
    "X_test_cat_ohe.head()"
   ]
  },
  {
   "cell_type": "markdown",
   "id": "a175f11a",
   "metadata": {},
   "source": [
    "### Concatinating the Encoded Categorical Features and Rescaled Numerical Features:"
   ]
  },
  {
   "cell_type": "code",
   "execution_count": 38,
   "id": "bf801f25",
   "metadata": {
    "ExecuteTime": {
     "end_time": "2023-05-24T11:49:12.814921Z",
     "start_time": "2023-05-24T11:49:12.786534Z"
    }
   },
   "outputs": [
    {
     "data": {
      "text/html": [
       "<div>\n",
       "<style scoped>\n",
       "    .dataframe tbody tr th:only-of-type {\n",
       "        vertical-align: middle;\n",
       "    }\n",
       "\n",
       "    .dataframe tbody tr th {\n",
       "        vertical-align: top;\n",
       "    }\n",
       "\n",
       "    .dataframe thead th {\n",
       "        text-align: right;\n",
       "    }\n",
       "</style>\n",
       "<table border=\"1\" class=\"dataframe\">\n",
       "  <thead>\n",
       "    <tr style=\"text-align: right;\">\n",
       "      <th></th>\n",
       "      <th>Age</th>\n",
       "      <th>RestingBP</th>\n",
       "      <th>Cholesterol</th>\n",
       "      <th>FastingBS</th>\n",
       "      <th>MaxHR</th>\n",
       "      <th>Oldpeak</th>\n",
       "      <th>Sex_M</th>\n",
       "      <th>ChestPainType_ATA</th>\n",
       "      <th>ChestPainType_NAP</th>\n",
       "      <th>ChestPainType_TA</th>\n",
       "      <th>RestingECG_Normal</th>\n",
       "      <th>RestingECG_ST</th>\n",
       "      <th>ExerciseAngina_Y</th>\n",
       "      <th>ST_Slope_Flat</th>\n",
       "      <th>ST_Slope_Up</th>\n",
       "    </tr>\n",
       "  </thead>\n",
       "  <tbody>\n",
       "    <tr>\n",
       "      <th>2</th>\n",
       "      <td>-1.782842</td>\n",
       "      <td>-0.134139</td>\n",
       "      <td>0.834457</td>\n",
       "      <td>-0.558504</td>\n",
       "      <td>-1.469814</td>\n",
       "      <td>-0.850200</td>\n",
       "      <td>1.0</td>\n",
       "      <td>1.0</td>\n",
       "      <td>0.0</td>\n",
       "      <td>0.0</td>\n",
       "      <td>0.0</td>\n",
       "      <td>1.0</td>\n",
       "      <td>0.0</td>\n",
       "      <td>0.0</td>\n",
       "      <td>1.0</td>\n",
       "    </tr>\n",
       "    <tr>\n",
       "      <th>136</th>\n",
       "      <td>-1.136043</td>\n",
       "      <td>-0.700979</td>\n",
       "      <td>0.204976</td>\n",
       "      <td>-0.558504</td>\n",
       "      <td>1.508932</td>\n",
       "      <td>-0.850200</td>\n",
       "      <td>0.0</td>\n",
       "      <td>1.0</td>\n",
       "      <td>0.0</td>\n",
       "      <td>0.0</td>\n",
       "      <td>0.0</td>\n",
       "      <td>1.0</td>\n",
       "      <td>0.0</td>\n",
       "      <td>0.0</td>\n",
       "      <td>1.0</td>\n",
       "    </tr>\n",
       "    <tr>\n",
       "      <th>192</th>\n",
       "      <td>-0.597045</td>\n",
       "      <td>-0.134139</td>\n",
       "      <td>0.482688</td>\n",
       "      <td>-0.558504</td>\n",
       "      <td>0.928657</td>\n",
       "      <td>-0.850200</td>\n",
       "      <td>1.0</td>\n",
       "      <td>1.0</td>\n",
       "      <td>0.0</td>\n",
       "      <td>0.0</td>\n",
       "      <td>1.0</td>\n",
       "      <td>0.0</td>\n",
       "      <td>0.0</td>\n",
       "      <td>0.0</td>\n",
       "      <td>1.0</td>\n",
       "    </tr>\n",
       "    <tr>\n",
       "      <th>783</th>\n",
       "      <td>-0.920444</td>\n",
       "      <td>0.319333</td>\n",
       "      <td>0.399375</td>\n",
       "      <td>-0.558504</td>\n",
       "      <td>0.619177</td>\n",
       "      <td>-0.642053</td>\n",
       "      <td>0.0</td>\n",
       "      <td>0.0</td>\n",
       "      <td>0.0</td>\n",
       "      <td>0.0</td>\n",
       "      <td>0.0</td>\n",
       "      <td>0.0</td>\n",
       "      <td>1.0</td>\n",
       "      <td>1.0</td>\n",
       "      <td>0.0</td>\n",
       "    </tr>\n",
       "    <tr>\n",
       "      <th>759</th>\n",
       "      <td>0.049754</td>\n",
       "      <td>3.380271</td>\n",
       "      <td>0.834457</td>\n",
       "      <td>-0.558504</td>\n",
       "      <td>2.282632</td>\n",
       "      <td>-0.850200</td>\n",
       "      <td>1.0</td>\n",
       "      <td>1.0</td>\n",
       "      <td>0.0</td>\n",
       "      <td>0.0</td>\n",
       "      <td>0.0</td>\n",
       "      <td>0.0</td>\n",
       "      <td>0.0</td>\n",
       "      <td>0.0</td>\n",
       "      <td>1.0</td>\n",
       "    </tr>\n",
       "  </tbody>\n",
       "</table>\n",
       "</div>"
      ],
      "text/plain": [
       "          Age  RestingBP  Cholesterol  FastingBS     MaxHR   Oldpeak  Sex_M  \\\n",
       "2   -1.782842  -0.134139     0.834457  -0.558504 -1.469814 -0.850200    1.0   \n",
       "136 -1.136043  -0.700979     0.204976  -0.558504  1.508932 -0.850200    0.0   \n",
       "192 -0.597045  -0.134139     0.482688  -0.558504  0.928657 -0.850200    1.0   \n",
       "783 -0.920444   0.319333     0.399375  -0.558504  0.619177 -0.642053    0.0   \n",
       "759  0.049754   3.380271     0.834457  -0.558504  2.282632 -0.850200    1.0   \n",
       "\n",
       "     ChestPainType_ATA  ChestPainType_NAP  ChestPainType_TA  \\\n",
       "2                  1.0                0.0               0.0   \n",
       "136                1.0                0.0               0.0   \n",
       "192                1.0                0.0               0.0   \n",
       "783                0.0                0.0               0.0   \n",
       "759                1.0                0.0               0.0   \n",
       "\n",
       "     RestingECG_Normal  RestingECG_ST  ExerciseAngina_Y  ST_Slope_Flat  \\\n",
       "2                  0.0            1.0               0.0            0.0   \n",
       "136                0.0            1.0               0.0            0.0   \n",
       "192                1.0            0.0               0.0            0.0   \n",
       "783                0.0            0.0               1.0            1.0   \n",
       "759                0.0            0.0               0.0            0.0   \n",
       "\n",
       "     ST_Slope_Up  \n",
       "2            1.0  \n",
       "136          1.0  \n",
       "192          1.0  \n",
       "783          0.0  \n",
       "759          1.0  "
      ]
     },
     "execution_count": 38,
     "metadata": {},
     "output_type": "execute_result"
    }
   ],
   "source": [
    "X_test_transformed = pd.concat([X_test_num_transformed, X_test_cat_ohe], axis=1)\n",
    "\n",
    "X_test_transformed.head()"
   ]
  },
  {
   "cell_type": "code",
   "execution_count": 39,
   "id": "5711475c",
   "metadata": {
    "ExecuteTime": {
     "end_time": "2023-05-24T11:49:12.923413Z",
     "start_time": "2023-05-24T11:49:12.815980Z"
    }
   },
   "outputs": [],
   "source": [
    "from sklearn.tree import DecisionTreeClassifier\n",
    "from sklearn.feature_selection import RFE\n",
    "rfe = RFE(DecisionTreeClassifier(), n_features_to_select=6)\n",
    "rfe = rfe.fit(X_train_transformed, y_train)"
   ]
  },
  {
   "cell_type": "code",
   "execution_count": 40,
   "id": "d28c394c",
   "metadata": {
    "ExecuteTime": {
     "end_time": "2023-05-24T11:49:12.954670Z",
     "start_time": "2023-05-24T11:49:12.927482Z"
    }
   },
   "outputs": [
    {
     "data": {
      "text/html": [
       "<div>\n",
       "<style scoped>\n",
       "    .dataframe tbody tr th:only-of-type {\n",
       "        vertical-align: middle;\n",
       "    }\n",
       "\n",
       "    .dataframe tbody tr th {\n",
       "        vertical-align: top;\n",
       "    }\n",
       "\n",
       "    .dataframe thead th {\n",
       "        text-align: right;\n",
       "    }\n",
       "</style>\n",
       "<table border=\"1\" class=\"dataframe\">\n",
       "  <thead>\n",
       "    <tr style=\"text-align: right;\">\n",
       "      <th></th>\n",
       "      <th>Columns</th>\n",
       "      <th>Included</th>\n",
       "      <th>Ranking</th>\n",
       "    </tr>\n",
       "  </thead>\n",
       "  <tbody>\n",
       "    <tr>\n",
       "      <th>0</th>\n",
       "      <td>Age</td>\n",
       "      <td>True</td>\n",
       "      <td>1</td>\n",
       "    </tr>\n",
       "    <tr>\n",
       "      <th>1</th>\n",
       "      <td>RestingBP</td>\n",
       "      <td>True</td>\n",
       "      <td>1</td>\n",
       "    </tr>\n",
       "    <tr>\n",
       "      <th>2</th>\n",
       "      <td>Cholesterol</td>\n",
       "      <td>True</td>\n",
       "      <td>1</td>\n",
       "    </tr>\n",
       "    <tr>\n",
       "      <th>3</th>\n",
       "      <td>FastingBS</td>\n",
       "      <td>False</td>\n",
       "      <td>3</td>\n",
       "    </tr>\n",
       "    <tr>\n",
       "      <th>4</th>\n",
       "      <td>MaxHR</td>\n",
       "      <td>True</td>\n",
       "      <td>1</td>\n",
       "    </tr>\n",
       "    <tr>\n",
       "      <th>5</th>\n",
       "      <td>Oldpeak</td>\n",
       "      <td>True</td>\n",
       "      <td>1</td>\n",
       "    </tr>\n",
       "    <tr>\n",
       "      <th>6</th>\n",
       "      <td>Sex_M</td>\n",
       "      <td>False</td>\n",
       "      <td>4</td>\n",
       "    </tr>\n",
       "    <tr>\n",
       "      <th>7</th>\n",
       "      <td>ChestPainType_ATA</td>\n",
       "      <td>False</td>\n",
       "      <td>8</td>\n",
       "    </tr>\n",
       "    <tr>\n",
       "      <th>8</th>\n",
       "      <td>ChestPainType_NAP</td>\n",
       "      <td>False</td>\n",
       "      <td>5</td>\n",
       "    </tr>\n",
       "    <tr>\n",
       "      <th>9</th>\n",
       "      <td>ChestPainType_TA</td>\n",
       "      <td>False</td>\n",
       "      <td>6</td>\n",
       "    </tr>\n",
       "    <tr>\n",
       "      <th>10</th>\n",
       "      <td>RestingECG_Normal</td>\n",
       "      <td>False</td>\n",
       "      <td>9</td>\n",
       "    </tr>\n",
       "    <tr>\n",
       "      <th>11</th>\n",
       "      <td>RestingECG_ST</td>\n",
       "      <td>False</td>\n",
       "      <td>7</td>\n",
       "    </tr>\n",
       "    <tr>\n",
       "      <th>12</th>\n",
       "      <td>ExerciseAngina_Y</td>\n",
       "      <td>False</td>\n",
       "      <td>2</td>\n",
       "    </tr>\n",
       "    <tr>\n",
       "      <th>13</th>\n",
       "      <td>ST_Slope_Flat</td>\n",
       "      <td>False</td>\n",
       "      <td>10</td>\n",
       "    </tr>\n",
       "    <tr>\n",
       "      <th>14</th>\n",
       "      <td>ST_Slope_Up</td>\n",
       "      <td>True</td>\n",
       "      <td>1</td>\n",
       "    </tr>\n",
       "  </tbody>\n",
       "</table>\n",
       "</div>"
      ],
      "text/plain": [
       "              Columns  Included  Ranking\n",
       "0                 Age      True        1\n",
       "1           RestingBP      True        1\n",
       "2         Cholesterol      True        1\n",
       "3           FastingBS     False        3\n",
       "4               MaxHR      True        1\n",
       "5             Oldpeak      True        1\n",
       "6               Sex_M     False        4\n",
       "7   ChestPainType_ATA     False        8\n",
       "8   ChestPainType_NAP     False        5\n",
       "9    ChestPainType_TA     False        6\n",
       "10  RestingECG_Normal     False        9\n",
       "11      RestingECG_ST     False        7\n",
       "12   ExerciseAngina_Y     False        2\n",
       "13      ST_Slope_Flat     False       10\n",
       "14        ST_Slope_Up      True        1"
      ]
     },
     "execution_count": 40,
     "metadata": {},
     "output_type": "execute_result"
    }
   ],
   "source": [
    "temp_df = pd.DataFrame({'Columns' : X_train_transformed.columns, 'Included' : rfe.support_, 'Ranking' : rfe.ranking_})\n",
    "temp_df"
   ]
  },
  {
   "cell_type": "code",
   "execution_count": 41,
   "id": "eee17ed8",
   "metadata": {
    "ExecuteTime": {
     "end_time": "2023-05-24T11:49:12.970810Z",
     "start_time": "2023-05-24T11:49:12.958633Z"
    }
   },
   "outputs": [
    {
     "data": {
      "text/plain": [
       "Index(['Age', 'RestingBP', 'Cholesterol', 'FastingBS', 'MaxHR', 'Oldpeak',\n",
       "       'Sex_M', 'ChestPainType_ATA', 'ChestPainType_NAP', 'ChestPainType_TA',\n",
       "       'RestingECG_Normal', 'RestingECG_ST', 'ExerciseAngina_Y',\n",
       "       'ST_Slope_Flat', 'ST_Slope_Up'],\n",
       "      dtype='object')"
      ]
     },
     "execution_count": 41,
     "metadata": {},
     "output_type": "execute_result"
    }
   ],
   "source": [
    "X_train_transformed.columns"
   ]
  },
  {
   "cell_type": "code",
   "execution_count": 42,
   "id": "fea95aed",
   "metadata": {
    "ExecuteTime": {
     "end_time": "2023-05-24T11:49:12.986460Z",
     "start_time": "2023-05-24T11:49:12.971781Z"
    }
   },
   "outputs": [],
   "source": [
    "X_train_transformed.drop(['FastingBS','Sex_M', 'ChestPainType_ATA', 'ChestPainType_NAP', 'ChestPainType_TA',\n",
    "       'RestingECG_Normal', 'RestingECG_ST', 'ExerciseAngina_Y','ST_Slope_Flat' ], axis=1, inplace=True)"
   ]
  },
  {
   "cell_type": "code",
   "execution_count": 43,
   "id": "a9258cef",
   "metadata": {
    "ExecuteTime": {
     "end_time": "2023-05-24T11:49:13.001168Z",
     "start_time": "2023-05-24T11:49:12.987989Z"
    }
   },
   "outputs": [],
   "source": [
    "X_test_transformed.drop(['FastingBS','Sex_M', 'ChestPainType_ATA', 'ChestPainType_NAP', 'ChestPainType_TA',\n",
    "       'RestingECG_Normal', 'RestingECG_ST', 'ExerciseAngina_Y','ST_Slope_Flat' ], axis=1, inplace=True)"
   ]
  },
  {
   "cell_type": "code",
   "execution_count": 44,
   "id": "b87f5ead",
   "metadata": {
    "ExecuteTime": {
     "end_time": "2023-05-24T11:49:30.331769Z",
     "start_time": "2023-05-24T11:49:30.311486Z"
    }
   },
   "outputs": [
    {
     "data": {
      "text/html": [
       "<div>\n",
       "<style scoped>\n",
       "    .dataframe tbody tr th:only-of-type {\n",
       "        vertical-align: middle;\n",
       "    }\n",
       "\n",
       "    .dataframe tbody tr th {\n",
       "        vertical-align: top;\n",
       "    }\n",
       "\n",
       "    .dataframe thead th {\n",
       "        text-align: right;\n",
       "    }\n",
       "</style>\n",
       "<table border=\"1\" class=\"dataframe\">\n",
       "  <thead>\n",
       "    <tr style=\"text-align: right;\">\n",
       "      <th></th>\n",
       "      <th>Age</th>\n",
       "      <th>RestingBP</th>\n",
       "      <th>Cholesterol</th>\n",
       "      <th>MaxHR</th>\n",
       "      <th>Oldpeak</th>\n",
       "      <th>ST_Slope_Up</th>\n",
       "    </tr>\n",
       "  </thead>\n",
       "  <tbody>\n",
       "    <tr>\n",
       "      <th>901</th>\n",
       "      <td>0.480953</td>\n",
       "      <td>2.133222</td>\n",
       "      <td>0.297547</td>\n",
       "      <td>0.387066</td>\n",
       "      <td>2.063856</td>\n",
       "      <td>0.0</td>\n",
       "    </tr>\n",
       "    <tr>\n",
       "      <th>744</th>\n",
       "      <td>0.696552</td>\n",
       "      <td>-0.871031</td>\n",
       "      <td>0.343832</td>\n",
       "      <td>0.928657</td>\n",
       "      <td>0.606828</td>\n",
       "      <td>1.0</td>\n",
       "    </tr>\n",
       "    <tr>\n",
       "      <th>237</th>\n",
       "      <td>0.157553</td>\n",
       "      <td>0.432701</td>\n",
       "      <td>0.945542</td>\n",
       "      <td>0.000216</td>\n",
       "      <td>-0.850200</td>\n",
       "      <td>0.0</td>\n",
       "    </tr>\n",
       "    <tr>\n",
       "      <th>168</th>\n",
       "      <td>0.480953</td>\n",
       "      <td>0.149281</td>\n",
       "      <td>0.269776</td>\n",
       "      <td>-1.392444</td>\n",
       "      <td>-0.850200</td>\n",
       "      <td>1.0</td>\n",
       "    </tr>\n",
       "    <tr>\n",
       "      <th>194</th>\n",
       "      <td>-1.351643</td>\n",
       "      <td>-0.417559</td>\n",
       "      <td>-0.081993</td>\n",
       "      <td>1.702357</td>\n",
       "      <td>-0.850200</td>\n",
       "      <td>1.0</td>\n",
       "    </tr>\n",
       "  </tbody>\n",
       "</table>\n",
       "</div>"
      ],
      "text/plain": [
       "          Age  RestingBP  Cholesterol     MaxHR   Oldpeak  ST_Slope_Up\n",
       "901  0.480953   2.133222     0.297547  0.387066  2.063856          0.0\n",
       "744  0.696552  -0.871031     0.343832  0.928657  0.606828          1.0\n",
       "237  0.157553   0.432701     0.945542  0.000216 -0.850200          0.0\n",
       "168  0.480953   0.149281     0.269776 -1.392444 -0.850200          1.0\n",
       "194 -1.351643  -0.417559    -0.081993  1.702357 -0.850200          1.0"
      ]
     },
     "execution_count": 44,
     "metadata": {},
     "output_type": "execute_result"
    }
   ],
   "source": [
    "X_train_transformed.head()"
   ]
  },
  {
   "cell_type": "code",
   "execution_count": 45,
   "id": "e638196d",
   "metadata": {
    "ExecuteTime": {
     "end_time": "2023-05-24T11:49:30.887766Z",
     "start_time": "2023-05-24T11:49:30.875215Z"
    }
   },
   "outputs": [
    {
     "data": {
      "text/html": [
       "<div>\n",
       "<style scoped>\n",
       "    .dataframe tbody tr th:only-of-type {\n",
       "        vertical-align: middle;\n",
       "    }\n",
       "\n",
       "    .dataframe tbody tr th {\n",
       "        vertical-align: top;\n",
       "    }\n",
       "\n",
       "    .dataframe thead th {\n",
       "        text-align: right;\n",
       "    }\n",
       "</style>\n",
       "<table border=\"1\" class=\"dataframe\">\n",
       "  <thead>\n",
       "    <tr style=\"text-align: right;\">\n",
       "      <th></th>\n",
       "      <th>Age</th>\n",
       "      <th>RestingBP</th>\n",
       "      <th>Cholesterol</th>\n",
       "      <th>MaxHR</th>\n",
       "      <th>Oldpeak</th>\n",
       "      <th>ST_Slope_Up</th>\n",
       "    </tr>\n",
       "  </thead>\n",
       "  <tbody>\n",
       "    <tr>\n",
       "      <th>2</th>\n",
       "      <td>-1.782842</td>\n",
       "      <td>-0.134139</td>\n",
       "      <td>0.834457</td>\n",
       "      <td>-1.469814</td>\n",
       "      <td>-0.850200</td>\n",
       "      <td>1.0</td>\n",
       "    </tr>\n",
       "    <tr>\n",
       "      <th>136</th>\n",
       "      <td>-1.136043</td>\n",
       "      <td>-0.700979</td>\n",
       "      <td>0.204976</td>\n",
       "      <td>1.508932</td>\n",
       "      <td>-0.850200</td>\n",
       "      <td>1.0</td>\n",
       "    </tr>\n",
       "    <tr>\n",
       "      <th>192</th>\n",
       "      <td>-0.597045</td>\n",
       "      <td>-0.134139</td>\n",
       "      <td>0.482688</td>\n",
       "      <td>0.928657</td>\n",
       "      <td>-0.850200</td>\n",
       "      <td>1.0</td>\n",
       "    </tr>\n",
       "    <tr>\n",
       "      <th>783</th>\n",
       "      <td>-0.920444</td>\n",
       "      <td>0.319333</td>\n",
       "      <td>0.399375</td>\n",
       "      <td>0.619177</td>\n",
       "      <td>-0.642053</td>\n",
       "      <td>0.0</td>\n",
       "    </tr>\n",
       "    <tr>\n",
       "      <th>759</th>\n",
       "      <td>0.049754</td>\n",
       "      <td>3.380271</td>\n",
       "      <td>0.834457</td>\n",
       "      <td>2.282632</td>\n",
       "      <td>-0.850200</td>\n",
       "      <td>1.0</td>\n",
       "    </tr>\n",
       "  </tbody>\n",
       "</table>\n",
       "</div>"
      ],
      "text/plain": [
       "          Age  RestingBP  Cholesterol     MaxHR   Oldpeak  ST_Slope_Up\n",
       "2   -1.782842  -0.134139     0.834457 -1.469814 -0.850200          1.0\n",
       "136 -1.136043  -0.700979     0.204976  1.508932 -0.850200          1.0\n",
       "192 -0.597045  -0.134139     0.482688  0.928657 -0.850200          1.0\n",
       "783 -0.920444   0.319333     0.399375  0.619177 -0.642053          0.0\n",
       "759  0.049754   3.380271     0.834457  2.282632 -0.850200          1.0"
      ]
     },
     "execution_count": 45,
     "metadata": {},
     "output_type": "execute_result"
    }
   ],
   "source": [
    "X_test_transformed.head()"
   ]
  },
  {
   "cell_type": "code",
   "execution_count": 46,
   "id": "70b52364",
   "metadata": {
    "ExecuteTime": {
     "end_time": "2023-05-24T11:49:34.514384Z",
     "start_time": "2023-05-24T11:49:31.332949Z"
    }
   },
   "outputs": [],
   "source": [
    "import tensorflow\n",
    "from tensorflow import keras\n",
    "from keras.models import Sequential\n",
    "from keras.layers import Dense, Dropout, BatchNormalization\n",
    "from keras.callbacks import EarlyStopping"
   ]
  },
  {
   "cell_type": "code",
   "execution_count": 47,
   "id": "e64caae9",
   "metadata": {
    "ExecuteTime": {
     "end_time": "2023-05-24T11:49:34.529948Z",
     "start_time": "2023-05-24T11:49:34.516376Z"
    }
   },
   "outputs": [],
   "source": [
    "call = EarlyStopping(monitor='val_loss', min_delta=0.0001, patience=3, verbose=0,\n",
    "                        mode='auto')"
   ]
  },
  {
   "cell_type": "code",
   "execution_count": 48,
   "id": "22713958",
   "metadata": {
    "ExecuteTime": {
     "end_time": "2023-05-24T11:49:34.636971Z",
     "start_time": "2023-05-24T11:49:34.531462Z"
    }
   },
   "outputs": [],
   "source": [
    "model = Sequential()\n",
    "model.add(Dense(4, activation='sigmoid', input_dim = 6, kernel_initializer='glorot_uniform'))\n",
    "model.add(Dropout(0.2))\n",
    "model.add(Dense(3, activation='sigmoid'))\n",
    "model.add(Dropout(0.2))\n",
    "model.add(Dense(2, activation='sigmoid'))\n",
    "model.add(Dense(1, activation='sigmoid'))"
   ]
  },
  {
   "cell_type": "code",
   "execution_count": 49,
   "id": "a263587d",
   "metadata": {
    "ExecuteTime": {
     "end_time": "2023-05-24T11:49:34.668152Z",
     "start_time": "2023-05-24T11:49:34.638893Z"
    }
   },
   "outputs": [
    {
     "data": {
      "text/plain": [
       "[array([[ 0.68305635,  0.16184074, -0.46025917, -0.3448759 ],\n",
       "        [-0.08559138, -0.7086545 , -0.0404759 ,  0.61118567],\n",
       "        [ 0.06594235, -0.49969593,  0.11741418, -0.48630416],\n",
       "        [-0.35091802, -0.3913945 , -0.574105  , -0.47063515],\n",
       "        [-0.52837145,  0.11709154, -0.5772506 ,  0.4650588 ],\n",
       "        [ 0.23988962,  0.76742065,  0.2689948 ,  0.60526574]],\n",
       "       dtype=float32),\n",
       " array([0., 0., 0., 0.], dtype=float32),\n",
       " array([[-0.09513825,  0.78067493, -0.4103461 ],\n",
       "        [-0.02136296,  0.5034584 ,  0.19197571],\n",
       "        [ 0.09161687,  0.55051315, -0.02778232],\n",
       "        [-0.06359529,  0.84402955,  0.74963784]], dtype=float32),\n",
       " array([0., 0., 0.], dtype=float32),\n",
       " array([[-0.40625793, -0.4592176 ],\n",
       "        [-0.26489258,  0.05685198],\n",
       "        [-0.49917364, -0.00317609]], dtype=float32),\n",
       " array([0., 0.], dtype=float32),\n",
       " array([[1.0883263],\n",
       "        [0.6797906]], dtype=float32),\n",
       " array([0.], dtype=float32)]"
      ]
     },
     "execution_count": 49,
     "metadata": {},
     "output_type": "execute_result"
    }
   ],
   "source": [
    "model.get_weights()"
   ]
  },
  {
   "cell_type": "code",
   "execution_count": 50,
   "id": "3968b8d3",
   "metadata": {
    "ExecuteTime": {
     "end_time": "2023-05-24T11:49:34.699476Z",
     "start_time": "2023-05-24T11:49:34.670158Z"
    }
   },
   "outputs": [
    {
     "name": "stdout",
     "output_type": "stream",
     "text": [
      "Model: \"sequential\"\n",
      "_________________________________________________________________\n",
      " Layer (type)                Output Shape              Param #   \n",
      "=================================================================\n",
      " dense (Dense)               (None, 4)                 28        \n",
      "                                                                 \n",
      " dropout (Dropout)           (None, 4)                 0         \n",
      "                                                                 \n",
      " dense_1 (Dense)             (None, 3)                 15        \n",
      "                                                                 \n",
      " dropout_1 (Dropout)         (None, 3)                 0         \n",
      "                                                                 \n",
      " dense_2 (Dense)             (None, 2)                 8         \n",
      "                                                                 \n",
      " dense_3 (Dense)             (None, 1)                 3         \n",
      "                                                                 \n",
      "=================================================================\n",
      "Total params: 54\n",
      "Trainable params: 54\n",
      "Non-trainable params: 0\n",
      "_________________________________________________________________\n"
     ]
    }
   ],
   "source": [
    "model.summary()"
   ]
  },
  {
   "cell_type": "code",
   "execution_count": 51,
   "id": "66dbebb9",
   "metadata": {
    "ExecuteTime": {
     "end_time": "2023-05-24T11:49:34.730051Z",
     "start_time": "2023-05-24T11:49:34.706009Z"
    }
   },
   "outputs": [],
   "source": [
    "model.compile(optimizer='Adam',loss='binary_crossentropy', metrics=['accuracy'])"
   ]
  },
  {
   "cell_type": "code",
   "execution_count": 52,
   "id": "6e853a76",
   "metadata": {
    "ExecuteTime": {
     "end_time": "2023-05-24T11:49:48.563089Z",
     "start_time": "2023-05-24T11:49:35.635446Z"
    }
   },
   "outputs": [
    {
     "name": "stdout",
     "output_type": "stream",
     "text": [
      "Epoch 1/100\n",
      "58/58 [==============================] - 1s 5ms/step - loss: 0.7095 - accuracy: 0.5594 - val_loss: 0.7145 - val_accuracy: 0.5385\n",
      "Epoch 2/100\n",
      "58/58 [==============================] - 0s 2ms/step - loss: 0.7005 - accuracy: 0.5594 - val_loss: 0.7068 - val_accuracy: 0.5385\n",
      "Epoch 3/100\n",
      "58/58 [==============================] - 0s 2ms/step - loss: 0.6976 - accuracy: 0.5594 - val_loss: 0.7015 - val_accuracy: 0.5385\n",
      "Epoch 4/100\n",
      "58/58 [==============================] - 0s 2ms/step - loss: 0.6910 - accuracy: 0.5594 - val_loss: 0.6975 - val_accuracy: 0.5385\n",
      "Epoch 5/100\n",
      "58/58 [==============================] - 0s 2ms/step - loss: 0.6895 - accuracy: 0.5594 - val_loss: 0.6947 - val_accuracy: 0.5385\n",
      "Epoch 6/100\n",
      "58/58 [==============================] - 0s 2ms/step - loss: 0.6865 - accuracy: 0.5594 - val_loss: 0.6925 - val_accuracy: 0.5385\n",
      "Epoch 7/100\n",
      "58/58 [==============================] - 0s 2ms/step - loss: 0.6868 - accuracy: 0.5594 - val_loss: 0.6908 - val_accuracy: 0.5385\n",
      "Epoch 8/100\n",
      "58/58 [==============================] - 0s 2ms/step - loss: 0.6839 - accuracy: 0.5594 - val_loss: 0.6894 - val_accuracy: 0.5385\n",
      "Epoch 9/100\n",
      "58/58 [==============================] - 0s 2ms/step - loss: 0.6819 - accuracy: 0.5594 - val_loss: 0.6879 - val_accuracy: 0.5385\n",
      "Epoch 10/100\n",
      "58/58 [==============================] - 0s 2ms/step - loss: 0.6822 - accuracy: 0.5594 - val_loss: 0.6866 - val_accuracy: 0.5385\n",
      "Epoch 11/100\n",
      "58/58 [==============================] - 0s 2ms/step - loss: 0.6840 - accuracy: 0.5594 - val_loss: 0.6850 - val_accuracy: 0.5385\n",
      "Epoch 12/100\n",
      "58/58 [==============================] - 0s 2ms/step - loss: 0.6856 - accuracy: 0.5594 - val_loss: 0.6836 - val_accuracy: 0.5385\n",
      "Epoch 13/100\n",
      "58/58 [==============================] - 0s 2ms/step - loss: 0.6800 - accuracy: 0.5594 - val_loss: 0.6822 - val_accuracy: 0.5385\n",
      "Epoch 14/100\n",
      "58/58 [==============================] - 0s 2ms/step - loss: 0.6811 - accuracy: 0.5594 - val_loss: 0.6809 - val_accuracy: 0.5385\n",
      "Epoch 15/100\n",
      "58/58 [==============================] - 0s 2ms/step - loss: 0.6810 - accuracy: 0.5594 - val_loss: 0.6791 - val_accuracy: 0.5385\n",
      "Epoch 16/100\n",
      "58/58 [==============================] - 0s 2ms/step - loss: 0.6763 - accuracy: 0.5594 - val_loss: 0.6774 - val_accuracy: 0.5385\n",
      "Epoch 17/100\n",
      "58/58 [==============================] - 0s 2ms/step - loss: 0.6737 - accuracy: 0.5594 - val_loss: 0.6756 - val_accuracy: 0.5385\n",
      "Epoch 18/100\n",
      "58/58 [==============================] - 0s 2ms/step - loss: 0.6696 - accuracy: 0.5594 - val_loss: 0.6733 - val_accuracy: 0.5385\n",
      "Epoch 19/100\n",
      "58/58 [==============================] - 0s 2ms/step - loss: 0.6713 - accuracy: 0.5594 - val_loss: 0.6710 - val_accuracy: 0.5385\n",
      "Epoch 20/100\n",
      "58/58 [==============================] - 0s 2ms/step - loss: 0.6701 - accuracy: 0.5594 - val_loss: 0.6685 - val_accuracy: 0.5385\n",
      "Epoch 21/100\n",
      "58/58 [==============================] - 0s 2ms/step - loss: 0.6647 - accuracy: 0.5594 - val_loss: 0.6656 - val_accuracy: 0.5385\n",
      "Epoch 22/100\n",
      "58/58 [==============================] - 0s 2ms/step - loss: 0.6653 - accuracy: 0.5594 - val_loss: 0.6628 - val_accuracy: 0.5385\n",
      "Epoch 23/100\n",
      "58/58 [==============================] - 0s 2ms/step - loss: 0.6647 - accuracy: 0.5594 - val_loss: 0.6596 - val_accuracy: 0.5385\n",
      "Epoch 24/100\n",
      "58/58 [==============================] - 0s 2ms/step - loss: 0.6611 - accuracy: 0.5594 - val_loss: 0.6564 - val_accuracy: 0.5385\n",
      "Epoch 25/100\n",
      "58/58 [==============================] - 0s 2ms/step - loss: 0.6596 - accuracy: 0.5594 - val_loss: 0.6529 - val_accuracy: 0.5385\n",
      "Epoch 26/100\n",
      "58/58 [==============================] - 0s 2ms/step - loss: 0.6588 - accuracy: 0.5594 - val_loss: 0.6494 - val_accuracy: 0.5385\n",
      "Epoch 27/100\n",
      "58/58 [==============================] - 0s 3ms/step - loss: 0.6542 - accuracy: 0.5594 - val_loss: 0.6454 - val_accuracy: 0.5385\n",
      "Epoch 28/100\n",
      "58/58 [==============================] - 0s 2ms/step - loss: 0.6546 - accuracy: 0.5647 - val_loss: 0.6420 - val_accuracy: 0.5385\n",
      "Epoch 29/100\n",
      "58/58 [==============================] - 0s 4ms/step - loss: 0.6469 - accuracy: 0.5752 - val_loss: 0.6383 - val_accuracy: 0.5385\n",
      "Epoch 30/100\n",
      "58/58 [==============================] - 0s 3ms/step - loss: 0.6467 - accuracy: 0.6049 - val_loss: 0.6342 - val_accuracy: 0.5385\n",
      "Epoch 31/100\n",
      "58/58 [==============================] - 0s 3ms/step - loss: 0.6476 - accuracy: 0.5997 - val_loss: 0.6298 - val_accuracy: 0.5385\n",
      "Epoch 32/100\n",
      "58/58 [==============================] - 0s 2ms/step - loss: 0.6373 - accuracy: 0.6154 - val_loss: 0.6251 - val_accuracy: 0.5385\n",
      "Epoch 33/100\n",
      "58/58 [==============================] - 0s 2ms/step - loss: 0.6349 - accuracy: 0.6434 - val_loss: 0.6204 - val_accuracy: 0.5385\n",
      "Epoch 34/100\n",
      "58/58 [==============================] - 0s 3ms/step - loss: 0.6379 - accuracy: 0.6643 - val_loss: 0.6157 - val_accuracy: 0.5385\n",
      "Epoch 35/100\n",
      "58/58 [==============================] - 0s 4ms/step - loss: 0.6257 - accuracy: 0.6766 - val_loss: 0.6109 - val_accuracy: 0.5385\n",
      "Epoch 36/100\n",
      "58/58 [==============================] - 0s 3ms/step - loss: 0.6239 - accuracy: 0.6748 - val_loss: 0.6058 - val_accuracy: 0.5385\n",
      "Epoch 37/100\n",
      "58/58 [==============================] - 0s 2ms/step - loss: 0.6208 - accuracy: 0.6766 - val_loss: 0.6013 - val_accuracy: 0.5385\n",
      "Epoch 38/100\n",
      "58/58 [==============================] - 0s 2ms/step - loss: 0.6179 - accuracy: 0.6591 - val_loss: 0.5963 - val_accuracy: 0.6853\n",
      "Epoch 39/100\n",
      "58/58 [==============================] - 0s 2ms/step - loss: 0.6156 - accuracy: 0.6853 - val_loss: 0.5916 - val_accuracy: 0.7552\n",
      "Epoch 40/100\n",
      "58/58 [==============================] - 0s 2ms/step - loss: 0.6123 - accuracy: 0.6713 - val_loss: 0.5867 - val_accuracy: 0.7762\n",
      "Epoch 41/100\n",
      "58/58 [==============================] - 0s 2ms/step - loss: 0.6070 - accuracy: 0.6853 - val_loss: 0.5817 - val_accuracy: 0.7972\n",
      "Epoch 42/100\n",
      "58/58 [==============================] - 0s 2ms/step - loss: 0.6070 - accuracy: 0.6958 - val_loss: 0.5766 - val_accuracy: 0.7972\n",
      "Epoch 43/100\n",
      "58/58 [==============================] - 0s 2ms/step - loss: 0.6011 - accuracy: 0.7045 - val_loss: 0.5719 - val_accuracy: 0.7972\n",
      "Epoch 44/100\n",
      "58/58 [==============================] - 0s 2ms/step - loss: 0.6036 - accuracy: 0.6993 - val_loss: 0.5672 - val_accuracy: 0.8182\n",
      "Epoch 45/100\n",
      "58/58 [==============================] - 0s 2ms/step - loss: 0.5964 - accuracy: 0.7168 - val_loss: 0.5627 - val_accuracy: 0.8392\n",
      "Epoch 46/100\n",
      "58/58 [==============================] - 0s 2ms/step - loss: 0.5864 - accuracy: 0.7448 - val_loss: 0.5579 - val_accuracy: 0.8392\n",
      "Epoch 47/100\n",
      "58/58 [==============================] - 0s 2ms/step - loss: 0.5767 - accuracy: 0.7657 - val_loss: 0.5529 - val_accuracy: 0.8392\n",
      "Epoch 48/100\n",
      "58/58 [==============================] - 0s 2ms/step - loss: 0.5912 - accuracy: 0.7238 - val_loss: 0.5489 - val_accuracy: 0.8392\n",
      "Epoch 49/100\n",
      "58/58 [==============================] - 0s 2ms/step - loss: 0.5739 - accuracy: 0.7500 - val_loss: 0.5444 - val_accuracy: 0.8462\n",
      "Epoch 50/100\n",
      "58/58 [==============================] - 0s 2ms/step - loss: 0.5725 - accuracy: 0.7762 - val_loss: 0.5401 - val_accuracy: 0.8462\n",
      "Epoch 51/100\n",
      "58/58 [==============================] - 0s 1ms/step - loss: 0.5719 - accuracy: 0.7483 - val_loss: 0.5357 - val_accuracy: 0.8462\n",
      "Epoch 52/100\n",
      "58/58 [==============================] - 0s 2ms/step - loss: 0.5656 - accuracy: 0.7727 - val_loss: 0.5320 - val_accuracy: 0.8392\n",
      "Epoch 53/100\n",
      "58/58 [==============================] - 0s 2ms/step - loss: 0.5724 - accuracy: 0.7465 - val_loss: 0.5282 - val_accuracy: 0.8392\n",
      "Epoch 54/100\n",
      "58/58 [==============================] - 0s 2ms/step - loss: 0.5639 - accuracy: 0.7727 - val_loss: 0.5245 - val_accuracy: 0.8392\n",
      "Epoch 55/100\n",
      "58/58 [==============================] - 0s 2ms/step - loss: 0.5605 - accuracy: 0.7657 - val_loss: 0.5208 - val_accuracy: 0.8392\n",
      "Epoch 56/100\n",
      "58/58 [==============================] - 0s 2ms/step - loss: 0.5577 - accuracy: 0.7815 - val_loss: 0.5173 - val_accuracy: 0.8392\n",
      "Epoch 57/100\n",
      "58/58 [==============================] - 0s 2ms/step - loss: 0.5458 - accuracy: 0.7867 - val_loss: 0.5137 - val_accuracy: 0.8392\n",
      "Epoch 58/100\n",
      "58/58 [==============================] - 0s 2ms/step - loss: 0.5551 - accuracy: 0.7675 - val_loss: 0.5104 - val_accuracy: 0.8392\n",
      "Epoch 59/100\n",
      "58/58 [==============================] - 0s 1ms/step - loss: 0.5470 - accuracy: 0.7780 - val_loss: 0.5075 - val_accuracy: 0.8392\n",
      "Epoch 60/100\n",
      "58/58 [==============================] - 0s 2ms/step - loss: 0.5370 - accuracy: 0.7955 - val_loss: 0.5041 - val_accuracy: 0.8462\n",
      "Epoch 61/100\n",
      "58/58 [==============================] - 0s 2ms/step - loss: 0.5370 - accuracy: 0.7850 - val_loss: 0.5016 - val_accuracy: 0.8392\n",
      "Epoch 62/100\n",
      "58/58 [==============================] - 0s 2ms/step - loss: 0.5361 - accuracy: 0.7832 - val_loss: 0.4986 - val_accuracy: 0.8392\n",
      "Epoch 63/100\n",
      "58/58 [==============================] - 0s 2ms/step - loss: 0.5383 - accuracy: 0.7745 - val_loss: 0.4960 - val_accuracy: 0.8462\n",
      "Epoch 64/100\n",
      "58/58 [==============================] - 0s 2ms/step - loss: 0.5297 - accuracy: 0.7762 - val_loss: 0.4938 - val_accuracy: 0.8462\n",
      "Epoch 65/100\n",
      "58/58 [==============================] - 0s 1ms/step - loss: 0.5328 - accuracy: 0.7762 - val_loss: 0.4912 - val_accuracy: 0.8462\n",
      "Epoch 66/100\n",
      "58/58 [==============================] - 0s 2ms/step - loss: 0.5164 - accuracy: 0.7902 - val_loss: 0.4883 - val_accuracy: 0.8462\n",
      "Epoch 67/100\n",
      "58/58 [==============================] - 0s 2ms/step - loss: 0.5342 - accuracy: 0.7745 - val_loss: 0.4863 - val_accuracy: 0.8462\n",
      "Epoch 68/100\n",
      "58/58 [==============================] - 0s 2ms/step - loss: 0.5189 - accuracy: 0.7972 - val_loss: 0.4845 - val_accuracy: 0.8462\n",
      "Epoch 69/100\n",
      "58/58 [==============================] - 0s 2ms/step - loss: 0.5335 - accuracy: 0.7657 - val_loss: 0.4829 - val_accuracy: 0.8462\n",
      "Epoch 70/100\n",
      "58/58 [==============================] - 0s 2ms/step - loss: 0.5175 - accuracy: 0.7937 - val_loss: 0.4806 - val_accuracy: 0.8392\n",
      "Epoch 71/100\n",
      "58/58 [==============================] - 0s 2ms/step - loss: 0.5277 - accuracy: 0.7762 - val_loss: 0.4788 - val_accuracy: 0.8392\n",
      "Epoch 72/100\n",
      "58/58 [==============================] - 0s 2ms/step - loss: 0.5283 - accuracy: 0.7640 - val_loss: 0.4774 - val_accuracy: 0.8392\n",
      "Epoch 73/100\n",
      "58/58 [==============================] - 0s 2ms/step - loss: 0.5250 - accuracy: 0.7640 - val_loss: 0.4757 - val_accuracy: 0.8392\n",
      "Epoch 74/100\n",
      "58/58 [==============================] - 0s 2ms/step - loss: 0.5240 - accuracy: 0.7867 - val_loss: 0.4742 - val_accuracy: 0.8392\n",
      "Epoch 75/100\n",
      "58/58 [==============================] - 0s 2ms/step - loss: 0.5151 - accuracy: 0.7745 - val_loss: 0.4733 - val_accuracy: 0.8392\n",
      "Epoch 76/100\n",
      "58/58 [==============================] - 0s 2ms/step - loss: 0.5096 - accuracy: 0.7937 - val_loss: 0.4715 - val_accuracy: 0.8392\n",
      "Epoch 77/100\n",
      "58/58 [==============================] - 0s 2ms/step - loss: 0.5152 - accuracy: 0.7885 - val_loss: 0.4704 - val_accuracy: 0.8392\n",
      "Epoch 78/100\n",
      "58/58 [==============================] - 0s 2ms/step - loss: 0.5035 - accuracy: 0.7972 - val_loss: 0.4694 - val_accuracy: 0.8392\n",
      "Epoch 79/100\n",
      "58/58 [==============================] - 0s 2ms/step - loss: 0.4987 - accuracy: 0.8024 - val_loss: 0.4681 - val_accuracy: 0.8392\n",
      "Epoch 80/100\n",
      "58/58 [==============================] - 0s 2ms/step - loss: 0.5142 - accuracy: 0.7832 - val_loss: 0.4669 - val_accuracy: 0.8392\n",
      "Epoch 81/100\n",
      "58/58 [==============================] - 0s 2ms/step - loss: 0.5021 - accuracy: 0.7972 - val_loss: 0.4656 - val_accuracy: 0.8392\n",
      "Epoch 82/100\n",
      "58/58 [==============================] - 0s 2ms/step - loss: 0.5074 - accuracy: 0.7885 - val_loss: 0.4648 - val_accuracy: 0.8392\n",
      "Epoch 83/100\n",
      "58/58 [==============================] - 0s 3ms/step - loss: 0.5079 - accuracy: 0.7780 - val_loss: 0.4639 - val_accuracy: 0.8392\n",
      "Epoch 84/100\n",
      "58/58 [==============================] - 0s 2ms/step - loss: 0.5040 - accuracy: 0.7937 - val_loss: 0.4625 - val_accuracy: 0.8392\n",
      "Epoch 85/100\n",
      "58/58 [==============================] - 0s 2ms/step - loss: 0.5022 - accuracy: 0.7937 - val_loss: 0.4622 - val_accuracy: 0.8392\n",
      "Epoch 86/100\n",
      "58/58 [==============================] - 0s 2ms/step - loss: 0.5011 - accuracy: 0.8042 - val_loss: 0.4606 - val_accuracy: 0.8392\n",
      "Epoch 87/100\n",
      "58/58 [==============================] - 0s 2ms/step - loss: 0.4929 - accuracy: 0.7937 - val_loss: 0.4593 - val_accuracy: 0.8392\n",
      "Epoch 88/100\n",
      "58/58 [==============================] - 0s 2ms/step - loss: 0.4807 - accuracy: 0.8182 - val_loss: 0.4580 - val_accuracy: 0.8392\n",
      "Epoch 89/100\n",
      "58/58 [==============================] - 0s 2ms/step - loss: 0.4990 - accuracy: 0.8059 - val_loss: 0.4566 - val_accuracy: 0.8392\n",
      "Epoch 90/100\n",
      "58/58 [==============================] - 0s 2ms/step - loss: 0.4866 - accuracy: 0.8112 - val_loss: 0.4555 - val_accuracy: 0.8392\n",
      "Epoch 91/100\n",
      "58/58 [==============================] - 0s 1ms/step - loss: 0.5054 - accuracy: 0.7832 - val_loss: 0.4551 - val_accuracy: 0.8392\n",
      "Epoch 92/100\n",
      "58/58 [==============================] - 0s 2ms/step - loss: 0.4925 - accuracy: 0.7955 - val_loss: 0.4541 - val_accuracy: 0.8392\n",
      "Epoch 93/100\n",
      "58/58 [==============================] - 0s 2ms/step - loss: 0.4964 - accuracy: 0.7972 - val_loss: 0.4533 - val_accuracy: 0.8392\n",
      "Epoch 94/100\n",
      "58/58 [==============================] - 0s 2ms/step - loss: 0.4950 - accuracy: 0.7990 - val_loss: 0.4525 - val_accuracy: 0.8392\n",
      "Epoch 95/100\n",
      "58/58 [==============================] - 0s 2ms/step - loss: 0.5089 - accuracy: 0.7815 - val_loss: 0.4517 - val_accuracy: 0.8392\n",
      "Epoch 96/100\n",
      "58/58 [==============================] - 0s 2ms/step - loss: 0.4951 - accuracy: 0.8059 - val_loss: 0.4509 - val_accuracy: 0.8322\n",
      "Epoch 97/100\n",
      "58/58 [==============================] - 0s 2ms/step - loss: 0.4952 - accuracy: 0.7972 - val_loss: 0.4504 - val_accuracy: 0.8322\n",
      "Epoch 98/100\n",
      "58/58 [==============================] - 0s 2ms/step - loss: 0.4861 - accuracy: 0.8077 - val_loss: 0.4497 - val_accuracy: 0.8322\n",
      "Epoch 99/100\n",
      "58/58 [==============================] - 0s 2ms/step - loss: 0.4776 - accuracy: 0.8077 - val_loss: 0.4488 - val_accuracy: 0.8322\n",
      "Epoch 100/100\n",
      "58/58 [==============================] - 0s 2ms/step - loss: 0.4870 - accuracy: 0.7990 - val_loss: 0.4485 - val_accuracy: 0.8322\n"
     ]
    }
   ],
   "source": [
    "history = model.fit(X_train_transformed,y_train,epochs=100,batch_size=10,validation_split=0.2, callbacks=call)"
   ]
  },
  {
   "cell_type": "code",
   "execution_count": 53,
   "id": "2832dcf9",
   "metadata": {
    "ExecuteTime": {
     "end_time": "2023-05-24T11:49:48.748005Z",
     "start_time": "2023-05-24T11:49:48.565092Z"
    }
   },
   "outputs": [
    {
     "name": "stdout",
     "output_type": "stream",
     "text": [
      "6/6 [==============================] - 0s 1ms/step\n"
     ]
    },
    {
     "data": {
      "text/plain": [
       "array([[0.27484965],\n",
       "       [0.26533052],\n",
       "       [0.26547018],\n",
       "       [0.494166  ],\n",
       "       [0.26457515],\n",
       "       [0.29394665],\n",
       "       [0.825081  ],\n",
       "       [0.84066045],\n",
       "       [0.8399538 ],\n",
       "       [0.8380151 ],\n",
       "       [0.30382216],\n",
       "       [0.8299392 ],\n",
       "       [0.82812935],\n",
       "       [0.26667687],\n",
       "       [0.8305751 ],\n",
       "       [0.83790964],\n",
       "       [0.83350366],\n",
       "       [0.77769214],\n",
       "       [0.26670763],\n",
       "       [0.83536017],\n",
       "       [0.45060104],\n",
       "       [0.83432543],\n",
       "       [0.5014104 ],\n",
       "       [0.8371629 ],\n",
       "       [0.8390659 ],\n",
       "       [0.83936125],\n",
       "       [0.26577586],\n",
       "       [0.2667839 ],\n",
       "       [0.26458773],\n",
       "       [0.26550084],\n",
       "       [0.82994986],\n",
       "       [0.26718563],\n",
       "       [0.2691231 ],\n",
       "       [0.32399932],\n",
       "       [0.2660809 ],\n",
       "       [0.26596755],\n",
       "       [0.8346243 ],\n",
       "       [0.59588194],\n",
       "       [0.26507208],\n",
       "       [0.26542673],\n",
       "       [0.3695358 ],\n",
       "       [0.83503675],\n",
       "       [0.26835012],\n",
       "       [0.2651033 ],\n",
       "       [0.83040184],\n",
       "       [0.8168362 ],\n",
       "       [0.72281873],\n",
       "       [0.7793457 ],\n",
       "       [0.26784214],\n",
       "       [0.26548907],\n",
       "       [0.8375515 ],\n",
       "       [0.27180445],\n",
       "       [0.8391672 ],\n",
       "       [0.26561123],\n",
       "       [0.8405369 ],\n",
       "       [0.26571757],\n",
       "       [0.26593345],\n",
       "       [0.26482937],\n",
       "       [0.26748225],\n",
       "       [0.8307619 ],\n",
       "       [0.27064222],\n",
       "       [0.83760667],\n",
       "       [0.8290609 ],\n",
       "       [0.27296227],\n",
       "       [0.83759457],\n",
       "       [0.26759043],\n",
       "       [0.8340787 ],\n",
       "       [0.83896774],\n",
       "       [0.8315622 ],\n",
       "       [0.36100578],\n",
       "       [0.26514062],\n",
       "       [0.2726488 ],\n",
       "       [0.8253396 ],\n",
       "       [0.26713926],\n",
       "       [0.26727387],\n",
       "       [0.26504847],\n",
       "       [0.33408746],\n",
       "       [0.2652563 ],\n",
       "       [0.7718244 ],\n",
       "       [0.26824415],\n",
       "       [0.8336241 ],\n",
       "       [0.84013593],\n",
       "       [0.7672931 ],\n",
       "       [0.26496118],\n",
       "       [0.26790503],\n",
       "       [0.839001  ],\n",
       "       [0.2745564 ],\n",
       "       [0.83133245],\n",
       "       [0.8387179 ],\n",
       "       [0.2925237 ],\n",
       "       [0.8052122 ],\n",
       "       [0.8399157 ],\n",
       "       [0.34083873],\n",
       "       [0.26835036],\n",
       "       [0.26614857],\n",
       "       [0.26593167],\n",
       "       [0.8347903 ],\n",
       "       [0.8355975 ],\n",
       "       [0.2660286 ],\n",
       "       [0.26861322],\n",
       "       [0.8385796 ],\n",
       "       [0.38379434],\n",
       "       [0.82034117],\n",
       "       [0.26528126],\n",
       "       [0.8368508 ],\n",
       "       [0.28172487],\n",
       "       [0.2655599 ],\n",
       "       [0.26652274],\n",
       "       [0.8407042 ],\n",
       "       [0.26524085],\n",
       "       [0.83691305],\n",
       "       [0.82341355],\n",
       "       [0.82031804],\n",
       "       [0.29301667],\n",
       "       [0.2678125 ],\n",
       "       [0.82867265],\n",
       "       [0.26881948],\n",
       "       [0.26751134],\n",
       "       [0.8319117 ],\n",
       "       [0.26502463],\n",
       "       [0.82832485],\n",
       "       [0.78568166],\n",
       "       [0.26482508],\n",
       "       [0.44580635],\n",
       "       [0.84085196],\n",
       "       [0.66977674],\n",
       "       [0.26485664],\n",
       "       [0.84090763],\n",
       "       [0.5405174 ],\n",
       "       [0.27003303],\n",
       "       [0.8359732 ],\n",
       "       [0.8190485 ],\n",
       "       [0.82587975],\n",
       "       [0.26680616],\n",
       "       [0.8300031 ],\n",
       "       [0.26543427],\n",
       "       [0.2722288 ],\n",
       "       [0.26472032],\n",
       "       [0.82837164],\n",
       "       [0.27059942],\n",
       "       [0.7874972 ],\n",
       "       [0.26676768],\n",
       "       [0.5898507 ],\n",
       "       [0.81548816],\n",
       "       [0.8396221 ],\n",
       "       [0.81392956],\n",
       "       [0.72326016],\n",
       "       [0.3141727 ],\n",
       "       [0.28436273],\n",
       "       [0.26486918],\n",
       "       [0.7045425 ],\n",
       "       [0.83978504],\n",
       "       [0.83915585],\n",
       "       [0.8406799 ],\n",
       "       [0.26471686],\n",
       "       [0.26529577],\n",
       "       [0.83055544],\n",
       "       [0.2654866 ],\n",
       "       [0.8398126 ],\n",
       "       [0.26479885],\n",
       "       [0.7531749 ],\n",
       "       [0.8291007 ],\n",
       "       [0.26696888],\n",
       "       [0.67363214],\n",
       "       [0.26553488],\n",
       "       [0.26692984],\n",
       "       [0.61621827],\n",
       "       [0.7961378 ],\n",
       "       [0.45516106],\n",
       "       [0.54282737],\n",
       "       [0.83931714],\n",
       "       [0.83971626],\n",
       "       [0.2681374 ],\n",
       "       [0.83004576],\n",
       "       [0.83952916],\n",
       "       [0.8355072 ],\n",
       "       [0.8390952 ],\n",
       "       [0.2666947 ],\n",
       "       [0.5794572 ]], dtype=float32)"
      ]
     },
     "execution_count": 53,
     "metadata": {},
     "output_type": "execute_result"
    }
   ],
   "source": [
    "y_pred = model.predict(X_test_transformed)\n",
    "y_pred"
   ]
  },
  {
   "cell_type": "code",
   "execution_count": 54,
   "id": "95b77bab",
   "metadata": {
    "ExecuteTime": {
     "end_time": "2023-05-24T11:49:51.116745Z",
     "start_time": "2023-05-24T11:49:51.098733Z"
    }
   },
   "outputs": [
    {
     "data": {
      "text/plain": [
       "array([[0],\n",
       "       [0],\n",
       "       [0],\n",
       "       [0],\n",
       "       [0],\n",
       "       [0],\n",
       "       [1],\n",
       "       [1],\n",
       "       [1],\n",
       "       [1],\n",
       "       [0],\n",
       "       [1],\n",
       "       [1],\n",
       "       [0],\n",
       "       [1],\n",
       "       [1],\n",
       "       [1],\n",
       "       [1],\n",
       "       [0],\n",
       "       [1],\n",
       "       [0],\n",
       "       [1],\n",
       "       [1],\n",
       "       [1],\n",
       "       [1],\n",
       "       [1],\n",
       "       [0],\n",
       "       [0],\n",
       "       [0],\n",
       "       [0],\n",
       "       [1],\n",
       "       [0],\n",
       "       [0],\n",
       "       [0],\n",
       "       [0],\n",
       "       [0],\n",
       "       [1],\n",
       "       [1],\n",
       "       [0],\n",
       "       [0],\n",
       "       [0],\n",
       "       [1],\n",
       "       [0],\n",
       "       [0],\n",
       "       [1],\n",
       "       [1],\n",
       "       [1],\n",
       "       [1],\n",
       "       [0],\n",
       "       [0],\n",
       "       [1],\n",
       "       [0],\n",
       "       [1],\n",
       "       [0],\n",
       "       [1],\n",
       "       [0],\n",
       "       [0],\n",
       "       [0],\n",
       "       [0],\n",
       "       [1],\n",
       "       [0],\n",
       "       [1],\n",
       "       [1],\n",
       "       [0],\n",
       "       [1],\n",
       "       [0],\n",
       "       [1],\n",
       "       [1],\n",
       "       [1],\n",
       "       [0],\n",
       "       [0],\n",
       "       [0],\n",
       "       [1],\n",
       "       [0],\n",
       "       [0],\n",
       "       [0],\n",
       "       [0],\n",
       "       [0],\n",
       "       [1],\n",
       "       [0],\n",
       "       [1],\n",
       "       [1],\n",
       "       [1],\n",
       "       [0],\n",
       "       [0],\n",
       "       [1],\n",
       "       [0],\n",
       "       [1],\n",
       "       [1],\n",
       "       [0],\n",
       "       [1],\n",
       "       [1],\n",
       "       [0],\n",
       "       [0],\n",
       "       [0],\n",
       "       [0],\n",
       "       [1],\n",
       "       [1],\n",
       "       [0],\n",
       "       [0],\n",
       "       [1],\n",
       "       [0],\n",
       "       [1],\n",
       "       [0],\n",
       "       [1],\n",
       "       [0],\n",
       "       [0],\n",
       "       [0],\n",
       "       [1],\n",
       "       [0],\n",
       "       [1],\n",
       "       [1],\n",
       "       [1],\n",
       "       [0],\n",
       "       [0],\n",
       "       [1],\n",
       "       [0],\n",
       "       [0],\n",
       "       [1],\n",
       "       [0],\n",
       "       [1],\n",
       "       [1],\n",
       "       [0],\n",
       "       [0],\n",
       "       [1],\n",
       "       [1],\n",
       "       [0],\n",
       "       [1],\n",
       "       [1],\n",
       "       [0],\n",
       "       [1],\n",
       "       [1],\n",
       "       [1],\n",
       "       [0],\n",
       "       [1],\n",
       "       [0],\n",
       "       [0],\n",
       "       [0],\n",
       "       [1],\n",
       "       [0],\n",
       "       [1],\n",
       "       [0],\n",
       "       [1],\n",
       "       [1],\n",
       "       [1],\n",
       "       [1],\n",
       "       [1],\n",
       "       [0],\n",
       "       [0],\n",
       "       [0],\n",
       "       [1],\n",
       "       [1],\n",
       "       [1],\n",
       "       [1],\n",
       "       [0],\n",
       "       [0],\n",
       "       [1],\n",
       "       [0],\n",
       "       [1],\n",
       "       [0],\n",
       "       [1],\n",
       "       [1],\n",
       "       [0],\n",
       "       [1],\n",
       "       [0],\n",
       "       [0],\n",
       "       [1],\n",
       "       [1],\n",
       "       [0],\n",
       "       [1],\n",
       "       [1],\n",
       "       [1],\n",
       "       [0],\n",
       "       [1],\n",
       "       [1],\n",
       "       [1],\n",
       "       [1],\n",
       "       [0],\n",
       "       [1]])"
      ]
     },
     "execution_count": 54,
     "metadata": {},
     "output_type": "execute_result"
    }
   ],
   "source": [
    "y_pred_trans = np.where(y_pred>0.5,1,0)\n",
    "y_pred_trans"
   ]
  },
  {
   "cell_type": "code",
   "execution_count": 55,
   "id": "7ff2a9ee",
   "metadata": {
    "ExecuteTime": {
     "end_time": "2023-05-24T11:49:51.942710Z",
     "start_time": "2023-05-24T11:49:51.928197Z"
    }
   },
   "outputs": [
    {
     "data": {
      "text/plain": [
       "0.8491620111731844"
      ]
     },
     "execution_count": 55,
     "metadata": {},
     "output_type": "execute_result"
    }
   ],
   "source": [
    "from sklearn.metrics import accuracy_score, recall_score\n",
    "accuracy_score(y_test,y_pred_trans)"
   ]
  },
  {
   "cell_type": "code",
   "execution_count": 56,
   "id": "d58ca24a",
   "metadata": {
    "ExecuteTime": {
     "end_time": "2023-05-24T11:49:52.895874Z",
     "start_time": "2023-05-24T11:49:52.882875Z"
    }
   },
   "outputs": [
    {
     "data": {
      "text/plain": [
       "0.8555555555555555"
      ]
     },
     "execution_count": 56,
     "metadata": {},
     "output_type": "execute_result"
    }
   ],
   "source": [
    "recall_score(y_test,y_pred_trans)"
   ]
  },
  {
   "cell_type": "code",
   "execution_count": 57,
   "id": "b70630a9",
   "metadata": {
    "ExecuteTime": {
     "end_time": "2023-05-24T11:49:54.207034Z",
     "start_time": "2023-05-24T11:49:54.190037Z"
    }
   },
   "outputs": [],
   "source": [
    "val_loss = history.history['val_loss']\n",
    "loss = history.history['loss']"
   ]
  },
  {
   "cell_type": "code",
   "execution_count": 58,
   "id": "bb975820",
   "metadata": {
    "ExecuteTime": {
     "end_time": "2023-05-24T11:49:55.697858Z",
     "start_time": "2023-05-24T11:49:55.582043Z"
    }
   },
   "outputs": [
    {
     "data": {
      "image/png": "[encoded data removed]",
      "text/plain": [
       "<Figure size 640x480 with 1 Axes>"
      ]
     },
     "metadata": {},
     "output_type": "display_data"
    }
   ],
   "source": [
    "plt.plot(loss)\n",
    "plt.plot(val_loss);"
   ]
  },
  {
   "cell_type": "markdown",
   "id": "b3ca39fa",
   "metadata": {},
   "source": [
    "### Activation func is Relu and sigmoid kernel_initializer='he_uniform'"
   ]
  },
  {
   "cell_type": "code",
   "execution_count": 59,
   "id": "c0c6cf55",
   "metadata": {
    "ExecuteTime": {
     "end_time": "2023-05-24T11:50:35.112768Z",
     "start_time": "2023-05-24T11:50:35.030835Z"
    }
   },
   "outputs": [],
   "source": [
    "model = Sequential()\n",
    "model.add(Dense(6, activation='relu', input_dim = 6, kernel_initializer='he_uniform'))\n",
    "model.add(Dense(5, activation='relu'))\n",
    "model.add(Dropout(0.3))\n",
    "model.add(Dense(3, activation='relu'))\n",
    "model.add(Dropout(0.3))\n",
    "model.add(Dense(2, activation='relu'))\n",
    "model.add(Dense(1, activation='sigmoid'))"
   ]
  },
  {
   "cell_type": "code",
   "execution_count": 60,
   "id": "20236829",
   "metadata": {
    "ExecuteTime": {
     "end_time": "2023-05-24T11:50:35.467900Z",
     "start_time": "2023-05-24T11:50:35.440900Z"
    }
   },
   "outputs": [
    {
     "data": {
      "text/plain": [
       "[array([[ 0.03190064, -0.590163  ,  0.5419874 , -0.7916117 , -0.3642702 ,\n",
       "          0.15432525],\n",
       "        [ 0.38676667, -0.94598365, -0.71661115, -0.14792705,  0.40533566,\n",
       "         -0.08070159],\n",
       "        [-0.28527713,  0.38533068, -0.73228216, -0.56775236,  0.79584575,\n",
       "          0.5360558 ],\n",
       "        [-0.22765136, -0.8558705 ,  0.28155422,  0.89519906, -0.67777205,\n",
       "          0.82338834],\n",
       "        [ 0.77676463, -0.45003438,  0.285614  , -0.672596  , -0.76251507,\n",
       "          0.262434  ],\n",
       "        [-0.39127636, -0.33555388, -0.14709377, -0.79601216,  0.44011092,\n",
       "          0.94895744]], dtype=float32),\n",
       " array([0., 0., 0., 0., 0., 0.], dtype=float32),\n",
       " array([[ 0.63989943, -0.17785168,  0.07577169,  0.5037641 , -0.1676994 ],\n",
       "        [-0.566689  , -0.58730054, -0.43457216, -0.6103191 , -0.09518158],\n",
       "        [-0.24400425, -0.14624214, -0.33110955,  0.5251656 , -0.7334115 ],\n",
       "        [ 0.0847072 , -0.4394884 , -0.35808697,  0.5949672 , -0.27569598],\n",
       "        [ 0.47268373, -0.4032537 , -0.16474557,  0.2532307 ,  0.09848452],\n",
       "        [-0.7071469 ,  0.17682123,  0.15682548,  0.19606614,  0.6700081 ]],\n",
       "       dtype=float32),\n",
       " array([0., 0., 0., 0., 0.], dtype=float32),\n",
       " array([[-0.3810508 ,  0.5890637 , -0.01795602],\n",
       "        [-0.22713578,  0.02705485,  0.1467951 ],\n",
       "        [ 0.6959391 , -0.7053941 ,  0.07862753],\n",
       "        [ 0.17487103, -0.6422773 , -0.49488214],\n",
       "        [ 0.24512714, -0.52264214,  0.43901604]], dtype=float32),\n",
       " array([0., 0., 0.], dtype=float32),\n",
       " array([[-0.37025946,  0.76797783],\n",
       "        [-0.26110554, -0.74713004],\n",
       "        [-0.5591944 ,  0.14982593]], dtype=float32),\n",
       " array([0., 0.], dtype=float32),\n",
       " array([[ 0.17799866],\n",
       "        [-0.3455701 ]], dtype=float32),\n",
       " array([0.], dtype=float32)]"
      ]
     },
     "execution_count": 60,
     "metadata": {},
     "output_type": "execute_result"
    }
   ],
   "source": [
    "model.get_weights()"
   ]
  },
  {
   "cell_type": "code",
   "execution_count": 61,
   "id": "4a109a8f",
   "metadata": {
    "ExecuteTime": {
     "end_time": "2023-05-24T11:50:35.889590Z",
     "start_time": "2023-05-24T11:50:35.859458Z"
    }
   },
   "outputs": [
    {
     "name": "stdout",
     "output_type": "stream",
     "text": [
      "Model: \"sequential_1\"\n",
      "_________________________________________________________________\n",
      " Layer (type)                Output Shape              Param #   \n",
      "=================================================================\n",
      " dense_4 (Dense)             (None, 6)                 42        \n",
      "                                                                 \n",
      " dense_5 (Dense)             (None, 5)                 35        \n",
      "                                                                 \n",
      " dropout_2 (Dropout)         (None, 5)                 0         \n",
      "                                                                 \n",
      " dense_6 (Dense)             (None, 3)                 18        \n",
      "                                                                 \n",
      " dropout_3 (Dropout)         (None, 3)                 0         \n",
      "                                                                 \n",
      " dense_7 (Dense)             (None, 2)                 8         \n",
      "                                                                 \n",
      " dense_8 (Dense)             (None, 1)                 3         \n",
      "                                                                 \n",
      "=================================================================\n",
      "Total params: 106\n",
      "Trainable params: 106\n",
      "Non-trainable params: 0\n",
      "_________________________________________________________________\n"
     ]
    }
   ],
   "source": [
    "model.summary()"
   ]
  },
  {
   "cell_type": "code",
   "execution_count": 62,
   "id": "02fa2429",
   "metadata": {
    "ExecuteTime": {
     "end_time": "2023-05-24T11:50:36.366182Z",
     "start_time": "2023-05-24T11:50:36.346155Z"
    }
   },
   "outputs": [],
   "source": [
    "model.compile(optimizer='Adam',loss='binary_crossentropy', metrics=['Recall'])"
   ]
  },
  {
   "cell_type": "code",
   "execution_count": 63,
   "id": "cd739b02",
   "metadata": {
    "ExecuteTime": {
     "end_time": "2023-05-24T11:50:41.886288Z",
     "start_time": "2023-05-24T11:50:36.784156Z"
    }
   },
   "outputs": [
    {
     "name": "stdout",
     "output_type": "stream",
     "text": [
      "Epoch 1/500\n",
      "58/58 [==============================] - 1s 5ms/step - loss: 0.6871 - recall: 0.5406 - val_loss: 0.6785 - val_recall: 0.5974\n",
      "Epoch 2/500\n",
      "58/58 [==============================] - 0s 2ms/step - loss: 0.6791 - recall: 0.7281 - val_loss: 0.6681 - val_recall: 0.6753\n",
      "Epoch 3/500\n",
      "58/58 [==============================] - 0s 2ms/step - loss: 0.6709 - recall: 0.7125 - val_loss: 0.6547 - val_recall: 0.7273\n",
      "Epoch 4/500\n",
      "58/58 [==============================] - 0s 2ms/step - loss: 0.6602 - recall: 0.7344 - val_loss: 0.6345 - val_recall: 0.7273\n",
      "Epoch 5/500\n",
      "58/58 [==============================] - 0s 2ms/step - loss: 0.6438 - recall: 0.7750 - val_loss: 0.6145 - val_recall: 0.7662\n",
      "Epoch 6/500\n",
      "58/58 [==============================] - 0s 2ms/step - loss: 0.6317 - recall: 0.8031 - val_loss: 0.5954 - val_recall: 0.7662\n",
      "Epoch 7/500\n",
      "58/58 [==============================] - 0s 2ms/step - loss: 0.6290 - recall: 0.7625 - val_loss: 0.5857 - val_recall: 0.7922\n",
      "Epoch 8/500\n",
      "58/58 [==============================] - 0s 2ms/step - loss: 0.6153 - recall: 0.8531 - val_loss: 0.5732 - val_recall: 0.8182\n",
      "Epoch 9/500\n",
      "58/58 [==============================] - 0s 2ms/step - loss: 0.5908 - recall: 0.8531 - val_loss: 0.5569 - val_recall: 0.8571\n",
      "Epoch 10/500\n",
      "58/58 [==============================] - 0s 2ms/step - loss: 0.5906 - recall: 0.8687 - val_loss: 0.5428 - val_recall: 0.8312\n",
      "Epoch 11/500\n",
      "58/58 [==============================] - 0s 2ms/step - loss: 0.6108 - recall: 0.8687 - val_loss: 0.5375 - val_recall: 0.8701\n",
      "Epoch 12/500\n",
      "58/58 [==============================] - 0s 2ms/step - loss: 0.5809 - recall: 0.8781 - val_loss: 0.5278 - val_recall: 0.8831\n",
      "Epoch 13/500\n",
      "58/58 [==============================] - 0s 2ms/step - loss: 0.5855 - recall: 0.8938 - val_loss: 0.5218 - val_recall: 0.8961\n",
      "Epoch 14/500\n",
      "58/58 [==============================] - 0s 2ms/step - loss: 0.5763 - recall: 0.8844 - val_loss: 0.5190 - val_recall: 0.9091\n",
      "Epoch 15/500\n",
      "58/58 [==============================] - 0s 2ms/step - loss: 0.5732 - recall: 0.8906 - val_loss: 0.5183 - val_recall: 0.9091\n",
      "Epoch 16/500\n",
      "58/58 [==============================] - 0s 2ms/step - loss: 0.5585 - recall: 0.9094 - val_loss: 0.5057 - val_recall: 0.9091\n",
      "Epoch 17/500\n",
      "58/58 [==============================] - 0s 2ms/step - loss: 0.5652 - recall: 0.8906 - val_loss: 0.5066 - val_recall: 0.9091\n",
      "Epoch 18/500\n",
      "58/58 [==============================] - 0s 2ms/step - loss: 0.5517 - recall: 0.9156 - val_loss: 0.4957 - val_recall: 0.9091\n",
      "Epoch 19/500\n",
      "58/58 [==============================] - 0s 2ms/step - loss: 0.5309 - recall: 0.9062 - val_loss: 0.4873 - val_recall: 0.9091\n",
      "Epoch 20/500\n",
      "58/58 [==============================] - 0s 2ms/step - loss: 0.5336 - recall: 0.9000 - val_loss: 0.4847 - val_recall: 0.9091\n",
      "Epoch 21/500\n",
      "58/58 [==============================] - 0s 2ms/step - loss: 0.5639 - recall: 0.8813 - val_loss: 0.4871 - val_recall: 0.9221\n",
      "Epoch 22/500\n",
      "58/58 [==============================] - 0s 2ms/step - loss: 0.5475 - recall: 0.9094 - val_loss: 0.4811 - val_recall: 0.9221\n",
      "Epoch 23/500\n",
      "58/58 [==============================] - 0s 2ms/step - loss: 0.5471 - recall: 0.9125 - val_loss: 0.4776 - val_recall: 0.9221\n",
      "Epoch 24/500\n",
      "58/58 [==============================] - 0s 2ms/step - loss: 0.5076 - recall: 0.9219 - val_loss: 0.4669 - val_recall: 0.9091\n",
      "Epoch 25/500\n",
      "58/58 [==============================] - 0s 2ms/step - loss: 0.5115 - recall: 0.9281 - val_loss: 0.4621 - val_recall: 0.9091\n",
      "Epoch 26/500\n",
      "58/58 [==============================] - 0s 2ms/step - loss: 0.5346 - recall: 0.9156 - val_loss: 0.4624 - val_recall: 0.9221\n",
      "Epoch 27/500\n",
      "58/58 [==============================] - 0s 2ms/step - loss: 0.5256 - recall: 0.9187 - val_loss: 0.4597 - val_recall: 0.9221\n",
      "Epoch 28/500\n",
      "58/58 [==============================] - 0s 2ms/step - loss: 0.5491 - recall: 0.9187 - val_loss: 0.4632 - val_recall: 0.9221\n",
      "Epoch 29/500\n",
      "58/58 [==============================] - 0s 2ms/step - loss: 0.5461 - recall: 0.9281 - val_loss: 0.4569 - val_recall: 0.9221\n",
      "Epoch 30/500\n",
      "58/58 [==============================] - 0s 2ms/step - loss: 0.5156 - recall: 0.9125 - val_loss: 0.4525 - val_recall: 0.9221\n",
      "Epoch 31/500\n",
      "58/58 [==============================] - 0s 2ms/step - loss: 0.4918 - recall: 0.9281 - val_loss: 0.4491 - val_recall: 0.9221\n",
      "Epoch 32/500\n",
      "58/58 [==============================] - 0s 2ms/step - loss: 0.5195 - recall: 0.9312 - val_loss: 0.4455 - val_recall: 0.9221\n",
      "Epoch 33/500\n",
      "58/58 [==============================] - 0s 2ms/step - loss: 0.5201 - recall: 0.9125 - val_loss: 0.4462 - val_recall: 0.9221\n",
      "Epoch 34/500\n",
      "58/58 [==============================] - 0s 2ms/step - loss: 0.5263 - recall: 0.9187 - val_loss: 0.4476 - val_recall: 0.9221\n",
      "Epoch 35/500\n",
      "58/58 [==============================] - 0s 2ms/step - loss: 0.5141 - recall: 0.9406 - val_loss: 0.4469 - val_recall: 0.9351\n"
     ]
    }
   ],
   "source": [
    "history = model.fit(X_train_transformed,y_train,epochs=500,batch_size=10,validation_split=0.2, callbacks=call)"
   ]
  },
  {
   "cell_type": "code",
   "execution_count": 64,
   "id": "805e3727",
   "metadata": {
    "ExecuteTime": {
     "end_time": "2023-05-24T11:50:42.055580Z",
     "start_time": "2023-05-24T11:50:41.893214Z"
    }
   },
   "outputs": [
    {
     "name": "stdout",
     "output_type": "stream",
     "text": [
      "6/6 [==============================] - 0s 1000us/step\n"
     ]
    },
    {
     "data": {
      "text/plain": [
       "array([[0.12347215],\n",
       "       [0.10516652],\n",
       "       [0.08528343],\n",
       "       [0.58515596],\n",
       "       [0.12378705],\n",
       "       [0.5750439 ],\n",
       "       [0.69718164],\n",
       "       [0.69718164],\n",
       "       [0.6950114 ],\n",
       "       [0.69718164],\n",
       "       [0.49465007],\n",
       "       [0.69718164],\n",
       "       [0.6473253 ],\n",
       "       [0.30512062],\n",
       "       [0.69718164],\n",
       "       [0.69718164],\n",
       "       [0.6950114 ],\n",
       "       [0.6795329 ],\n",
       "       [0.23501854],\n",
       "       [0.69718164],\n",
       "       [0.6556117 ],\n",
       "       [0.69718164],\n",
       "       [0.67424524],\n",
       "       [0.69718164],\n",
       "       [0.69718164],\n",
       "       [0.69718164],\n",
       "       [0.07483023],\n",
       "       [0.2466684 ],\n",
       "       [0.02784508],\n",
       "       [0.12379072],\n",
       "       [0.69718164],\n",
       "       [0.21601088],\n",
       "       [0.35078397],\n",
       "       [0.6578135 ],\n",
       "       [0.08096651],\n",
       "       [0.17940602],\n",
       "       [0.69718164],\n",
       "       [0.61103743],\n",
       "       [0.08617554],\n",
       "       [0.09649739],\n",
       "       [0.34182954],\n",
       "       [0.69718164],\n",
       "       [0.10183215],\n",
       "       [0.05931072],\n",
       "       [0.69718164],\n",
       "       [0.69718164],\n",
       "       [0.69026756],\n",
       "       [0.69718164],\n",
       "       [0.08239316],\n",
       "       [0.18062896],\n",
       "       [0.69718164],\n",
       "       [0.24959065],\n",
       "       [0.69718164],\n",
       "       [0.19369262],\n",
       "       [0.69718164],\n",
       "       [0.12645555],\n",
       "       [0.11715695],\n",
       "       [0.07694276],\n",
       "       [0.10597383],\n",
       "       [0.69718164],\n",
       "       [0.15322734],\n",
       "       [0.69718164],\n",
       "       [0.69718164],\n",
       "       [0.14805716],\n",
       "       [0.69718164],\n",
       "       [0.19072495],\n",
       "       [0.69718164],\n",
       "       [0.69718164],\n",
       "       [0.69718164],\n",
       "       [0.66759735],\n",
       "       [0.18114956],\n",
       "       [0.27764434],\n",
       "       [0.69718164],\n",
       "       [0.07359387],\n",
       "       [0.2121903 ],\n",
       "       [0.08459192],\n",
       "       [0.55712616],\n",
       "       [0.10738941],\n",
       "       [0.69718164],\n",
       "       [0.09318129],\n",
       "       [0.69718164],\n",
       "       [0.69718164],\n",
       "       [0.68045187],\n",
       "       [0.07707064],\n",
       "       [0.1266286 ],\n",
       "       [0.69718164],\n",
       "       [0.27141458],\n",
       "       [0.69718164],\n",
       "       [0.69718164],\n",
       "       [0.17886952],\n",
       "       [0.69718164],\n",
       "       [0.69718164],\n",
       "       [0.6320969 ],\n",
       "       [0.3445192 ],\n",
       "       [0.08922765],\n",
       "       [0.13583703],\n",
       "       [0.69718164],\n",
       "       [0.69718164],\n",
       "       [0.11057094],\n",
       "       [0.14587776],\n",
       "       [0.69718164],\n",
       "       [0.4909072 ],\n",
       "       [0.6950114 ],\n",
       "       [0.10406201],\n",
       "       [0.69718164],\n",
       "       [0.41503516],\n",
       "       [0.14643028],\n",
       "       [0.13716656],\n",
       "       [0.69718164],\n",
       "       [0.09032699],\n",
       "       [0.69718164],\n",
       "       [0.69718164],\n",
       "       [0.69718164],\n",
       "       [0.68047583],\n",
       "       [0.1147164 ],\n",
       "       [0.69718164],\n",
       "       [0.15189378],\n",
       "       [0.11565687],\n",
       "       [0.69718164],\n",
       "       [0.08812343],\n",
       "       [0.68050814],\n",
       "       [0.69718164],\n",
       "       [0.18256482],\n",
       "       [0.69328827],\n",
       "       [0.6950114 ],\n",
       "       [0.69718164],\n",
       "       [0.10064229],\n",
       "       [0.69718164],\n",
       "       [0.69718164],\n",
       "       [0.22959594],\n",
       "       [0.69718164],\n",
       "       [0.6934441 ],\n",
       "       [0.69718164],\n",
       "       [0.31241947],\n",
       "       [0.69718164],\n",
       "       [0.07142106],\n",
       "       [0.15429713],\n",
       "       [0.07689348],\n",
       "       [0.69718164],\n",
       "       [0.30519542],\n",
       "       [0.69718164],\n",
       "       [0.13030183],\n",
       "       [0.6950114 ],\n",
       "       [0.69718164],\n",
       "       [0.69718164],\n",
       "       [0.6950114 ],\n",
       "       [0.66873837],\n",
       "       [0.6169184 ],\n",
       "       [0.3046397 ],\n",
       "       [0.05847802],\n",
       "       [0.69718164],\n",
       "       [0.69718164],\n",
       "       [0.69718164],\n",
       "       [0.69718164],\n",
       "       [0.0816823 ],\n",
       "       [0.09530958],\n",
       "       [0.69718164],\n",
       "       [0.30634326],\n",
       "       [0.69718164],\n",
       "       [0.05084896],\n",
       "       [0.6921872 ],\n",
       "       [0.69718164],\n",
       "       [0.11712553],\n",
       "       [0.6752071 ],\n",
       "       [0.10682926],\n",
       "       [0.47608778],\n",
       "       [0.6401791 ],\n",
       "       [0.6480244 ],\n",
       "       [0.6510802 ],\n",
       "       [0.61174834],\n",
       "       [0.69718164],\n",
       "       [0.69718164],\n",
       "       [0.11801711],\n",
       "       [0.6950114 ],\n",
       "       [0.69718164],\n",
       "       [0.69718164],\n",
       "       [0.69718164],\n",
       "       [0.08411673],\n",
       "       [0.69718164]], dtype=float32)"
      ]
     },
     "execution_count": 64,
     "metadata": {},
     "output_type": "execute_result"
    }
   ],
   "source": [
    "y_pred = model.predict(X_test_transformed)\n",
    "y_pred"
   ]
  },
  {
   "cell_type": "code",
   "execution_count": 65,
   "id": "d384d6f5",
   "metadata": {
    "ExecuteTime": {
     "end_time": "2023-05-24T11:50:53.182535Z",
     "start_time": "2023-05-24T11:50:53.169536Z"
    }
   },
   "outputs": [
    {
     "data": {
      "text/plain": [
       "array([[0],\n",
       "       [0],\n",
       "       [0],\n",
       "       [1],\n",
       "       [0],\n",
       "       [1],\n",
       "       [1],\n",
       "       [1],\n",
       "       [1],\n",
       "       [1],\n",
       "       [0],\n",
       "       [1],\n",
       "       [1],\n",
       "       [0],\n",
       "       [1],\n",
       "       [1],\n",
       "       [1],\n",
       "       [1],\n",
       "       [0],\n",
       "       [1],\n",
       "       [1],\n",
       "       [1],\n",
       "       [1],\n",
       "       [1],\n",
       "       [1],\n",
       "       [1],\n",
       "       [0],\n",
       "       [0],\n",
       "       [0],\n",
       "       [0],\n",
       "       [1],\n",
       "       [0],\n",
       "       [0],\n",
       "       [1],\n",
       "       [0],\n",
       "       [0],\n",
       "       [1],\n",
       "       [1],\n",
       "       [0],\n",
       "       [0],\n",
       "       [0],\n",
       "       [1],\n",
       "       [0],\n",
       "       [0],\n",
       "       [1],\n",
       "       [1],\n",
       "       [1],\n",
       "       [1],\n",
       "       [0],\n",
       "       [0],\n",
       "       [1],\n",
       "       [0],\n",
       "       [1],\n",
       "       [0],\n",
       "       [1],\n",
       "       [0],\n",
       "       [0],\n",
       "       [0],\n",
       "       [0],\n",
       "       [1],\n",
       "       [0],\n",
       "       [1],\n",
       "       [1],\n",
       "       [0],\n",
       "       [1],\n",
       "       [0],\n",
       "       [1],\n",
       "       [1],\n",
       "       [1],\n",
       "       [1],\n",
       "       [0],\n",
       "       [0],\n",
       "       [1],\n",
       "       [0],\n",
       "       [0],\n",
       "       [0],\n",
       "       [1],\n",
       "       [0],\n",
       "       [1],\n",
       "       [0],\n",
       "       [1],\n",
       "       [1],\n",
       "       [1],\n",
       "       [0],\n",
       "       [0],\n",
       "       [1],\n",
       "       [0],\n",
       "       [1],\n",
       "       [1],\n",
       "       [0],\n",
       "       [1],\n",
       "       [1],\n",
       "       [1],\n",
       "       [0],\n",
       "       [0],\n",
       "       [0],\n",
       "       [1],\n",
       "       [1],\n",
       "       [0],\n",
       "       [0],\n",
       "       [1],\n",
       "       [0],\n",
       "       [1],\n",
       "       [0],\n",
       "       [1],\n",
       "       [0],\n",
       "       [0],\n",
       "       [0],\n",
       "       [1],\n",
       "       [0],\n",
       "       [1],\n",
       "       [1],\n",
       "       [1],\n",
       "       [1],\n",
       "       [0],\n",
       "       [1],\n",
       "       [0],\n",
       "       [0],\n",
       "       [1],\n",
       "       [0],\n",
       "       [1],\n",
       "       [1],\n",
       "       [0],\n",
       "       [1],\n",
       "       [1],\n",
       "       [1],\n",
       "       [0],\n",
       "       [1],\n",
       "       [1],\n",
       "       [0],\n",
       "       [1],\n",
       "       [1],\n",
       "       [1],\n",
       "       [0],\n",
       "       [1],\n",
       "       [0],\n",
       "       [0],\n",
       "       [0],\n",
       "       [1],\n",
       "       [0],\n",
       "       [1],\n",
       "       [0],\n",
       "       [1],\n",
       "       [1],\n",
       "       [1],\n",
       "       [1],\n",
       "       [1],\n",
       "       [1],\n",
       "       [0],\n",
       "       [0],\n",
       "       [1],\n",
       "       [1],\n",
       "       [1],\n",
       "       [1],\n",
       "       [0],\n",
       "       [0],\n",
       "       [1],\n",
       "       [0],\n",
       "       [1],\n",
       "       [0],\n",
       "       [1],\n",
       "       [1],\n",
       "       [0],\n",
       "       [1],\n",
       "       [0],\n",
       "       [0],\n",
       "       [1],\n",
       "       [1],\n",
       "       [1],\n",
       "       [1],\n",
       "       [1],\n",
       "       [1],\n",
       "       [0],\n",
       "       [1],\n",
       "       [1],\n",
       "       [1],\n",
       "       [1],\n",
       "       [0],\n",
       "       [1]])"
      ]
     },
     "execution_count": 65,
     "metadata": {},
     "output_type": "execute_result"
    }
   ],
   "source": [
    "y_pred_trans = np.where(y_pred>0.5,1,0)\n",
    "y_pred_trans"
   ]
  },
  {
   "cell_type": "code",
   "execution_count": 66,
   "id": "0f7a1d28",
   "metadata": {
    "ExecuteTime": {
     "end_time": "2023-05-24T11:50:53.663414Z",
     "start_time": "2023-05-24T11:50:53.647236Z"
    }
   },
   "outputs": [
    {
     "data": {
      "text/plain": [
       "0.8212290502793296"
      ]
     },
     "execution_count": 66,
     "metadata": {},
     "output_type": "execute_result"
    }
   ],
   "source": [
    "from sklearn.metrics import accuracy_score, recall_score\n",
    "accuracy_score(y_test,y_pred_trans)"
   ]
  },
  {
   "cell_type": "code",
   "execution_count": 67,
   "id": "19e83850",
   "metadata": {
    "ExecuteTime": {
     "end_time": "2023-05-24T11:50:54.566004Z",
     "start_time": "2023-05-24T11:50:54.544490Z"
    }
   },
   "outputs": [
    {
     "data": {
      "text/plain": [
       "0.8888888888888888"
      ]
     },
     "execution_count": 67,
     "metadata": {},
     "output_type": "execute_result"
    }
   ],
   "source": [
    "recall_score(y_test,y_pred_trans)"
   ]
  },
  {
   "cell_type": "code",
   "execution_count": 68,
   "id": "673489bd",
   "metadata": {
    "ExecuteTime": {
     "end_time": "2023-05-24T11:50:55.282182Z",
     "start_time": "2023-05-24T11:50:55.275180Z"
    }
   },
   "outputs": [],
   "source": [
    "val_loss = history.history['val_loss']\n",
    "loss = history.history['loss']"
   ]
  },
  {
   "cell_type": "code",
   "execution_count": 69,
   "id": "a3a41cb5",
   "metadata": {
    "ExecuteTime": {
     "end_time": "2023-05-24T11:50:56.002791Z",
     "start_time": "2023-05-24T11:50:55.885105Z"
    },
    "scrolled": false
   },
   "outputs": [
    {
     "data": {
      "image/png": "[encoded data removed]",
      "text/plain": [
       "<Figure size 640x480 with 1 Axes>"
      ]
     },
     "metadata": {},
     "output_type": "display_data"
    }
   ],
   "source": [
    "plt.plot(loss)\n",
    "plt.plot(val_loss);"
   ]
  },
  {
   "cell_type": "markdown",
   "id": "d2b02711",
   "metadata": {},
   "source": [
    "### Activation func is Relu and sigmoid kernel_initializer='he_normal'"
   ]
  },
  {
   "cell_type": "code",
   "execution_count": 81,
   "id": "c45b325b",
   "metadata": {
    "ExecuteTime": {
     "end_time": "2023-05-24T11:52:06.441474Z",
     "start_time": "2023-05-24T11:52:06.363975Z"
    }
   },
   "outputs": [],
   "source": [
    "model = Sequential()\n",
    "model.add(Dense(6, activation='relu', input_dim = 6, kernel_initializer='he_normal'))\n",
    "model.add(Dense(5, activation='relu'))\n",
    "model.add(Dropout(0.3))\n",
    "model.add(Dense(3, activation='relu'))\n",
    "model.add(Dropout(0.3))\n",
    "model.add(Dense(2, activation='relu'))\n",
    "model.add(Dense(1, activation='sigmoid'))"
   ]
  },
  {
   "cell_type": "code",
   "execution_count": 82,
   "id": "964a4fc3",
   "metadata": {
    "ExecuteTime": {
     "end_time": "2023-05-24T11:52:06.784227Z",
     "start_time": "2023-05-24T11:52:06.763716Z"
    }
   },
   "outputs": [
    {
     "data": {
      "text/plain": [
       "[array([[-1.1334043 ,  0.10741313,  0.16848485,  0.13684787, -0.36846757,\n",
       "         -0.41786557],\n",
       "        [-1.151606  , -0.4050675 , -0.09599055, -0.05164465,  0.07065024,\n",
       "         -0.20083572],\n",
       "        [-0.4444551 ,  0.06522077, -0.5593467 ,  1.0424963 ,  0.4862765 ,\n",
       "          0.5237626 ],\n",
       "        [-0.70816004,  0.30611047, -0.24771598, -0.239885  , -0.8879204 ,\n",
       "          0.40446502],\n",
       "        [ 0.22201794,  0.01548259,  0.02940745, -0.8411313 , -0.5054303 ,\n",
       "         -0.09556329],\n",
       "        [ 0.0018065 ,  0.89492834,  0.15054709,  0.1262801 , -0.28087813,\n",
       "         -1.069896  ]], dtype=float32),\n",
       " array([0., 0., 0., 0., 0., 0.], dtype=float32),\n",
       " array([[ 0.5100476 ,  0.18862253, -0.7155404 , -0.5884329 , -0.5811751 ],\n",
       "        [-0.48813966,  0.6906268 ,  0.32597035,  0.6639903 ,  0.18924534],\n",
       "        [-0.14766967, -0.06419593, -0.4191421 ,  0.25650126, -0.21898061],\n",
       "        [ 0.02536982,  0.7323709 ,  0.35076088,  0.46394068,  0.44355243],\n",
       "        [ 0.06373602,  0.5157431 ,  0.00401205,  0.04979312,  0.4830535 ],\n",
       "        [ 0.52241546,  0.04956865, -0.48815215,  0.632649  ,  0.06228822]],\n",
       "       dtype=float32),\n",
       " array([0., 0., 0., 0., 0.], dtype=float32),\n",
       " array([[ 0.41207117,  0.5019482 ,  0.8214572 ],\n",
       "        [ 0.4193794 ,  0.36080664,  0.70009524],\n",
       "        [ 0.539167  ,  0.80247504,  0.12079686],\n",
       "        [-0.17874962,  0.02873635,  0.77138144],\n",
       "        [ 0.04634243, -0.71932733,  0.15596181]], dtype=float32),\n",
       " array([0., 0., 0.], dtype=float32),\n",
       " array([[0.12487459, 0.38907528],\n",
       "        [0.10423338, 0.350433  ],\n",
       "        [0.78696775, 0.957942  ]], dtype=float32),\n",
       " array([0., 0.], dtype=float32),\n",
       " array([[-0.7519102],\n",
       "        [-0.7389523]], dtype=float32),\n",
       " array([0.], dtype=float32)]"
      ]
     },
     "execution_count": 82,
     "metadata": {},
     "output_type": "execute_result"
    }
   ],
   "source": [
    "model.get_weights()"
   ]
  },
  {
   "cell_type": "code",
   "execution_count": 83,
   "id": "84d30b51",
   "metadata": {
    "ExecuteTime": {
     "end_time": "2023-05-24T11:52:07.126911Z",
     "start_time": "2023-05-24T11:52:07.091742Z"
    }
   },
   "outputs": [
    {
     "name": "stdout",
     "output_type": "stream",
     "text": [
      "Model: \"sequential_3\"\n",
      "_________________________________________________________________\n",
      " Layer (type)                Output Shape              Param #   \n",
      "=================================================================\n",
      " dense_14 (Dense)            (None, 6)                 42        \n",
      "                                                                 \n",
      " dense_15 (Dense)            (None, 5)                 35        \n",
      "                                                                 \n",
      " dropout_6 (Dropout)         (None, 5)                 0         \n",
      "                                                                 \n",
      " dense_16 (Dense)            (None, 3)                 18        \n",
      "                                                                 \n",
      " dropout_7 (Dropout)         (None, 3)                 0         \n",
      "                                                                 \n",
      " dense_17 (Dense)            (None, 2)                 8         \n",
      "                                                                 \n",
      " dense_18 (Dense)            (None, 1)                 3         \n",
      "                                                                 \n",
      "=================================================================\n",
      "Total params: 106\n",
      "Trainable params: 106\n",
      "Non-trainable params: 0\n",
      "_________________________________________________________________\n"
     ]
    }
   ],
   "source": [
    "model.summary()"
   ]
  },
  {
   "cell_type": "code",
   "execution_count": 84,
   "id": "34c66ae2",
   "metadata": {
    "ExecuteTime": {
     "end_time": "2023-05-24T11:52:07.470702Z",
     "start_time": "2023-05-24T11:52:07.449283Z"
    }
   },
   "outputs": [],
   "source": [
    "model.compile(optimizer='Adam',loss='binary_crossentropy', metrics=['accuracy'])"
   ]
  },
  {
   "cell_type": "code",
   "execution_count": 85,
   "id": "8320f7c6",
   "metadata": {
    "ExecuteTime": {
     "end_time": "2023-05-24T11:52:14.735165Z",
     "start_time": "2023-05-24T11:52:07.989624Z"
    },
    "scrolled": true
   },
   "outputs": [
    {
     "name": "stdout",
     "output_type": "stream",
     "text": [
      "Epoch 1/50\n",
      "58/58 [==============================] - 1s 4ms/step - loss: 1.0759 - accuracy: 0.5262 - val_loss: 0.8467 - val_accuracy: 0.5315\n",
      "Epoch 2/50\n",
      "58/58 [==============================] - 0s 2ms/step - loss: 0.8383 - accuracy: 0.5909 - val_loss: 0.7032 - val_accuracy: 0.6084\n",
      "Epoch 3/50\n",
      "58/58 [==============================] - 0s 2ms/step - loss: 0.7472 - accuracy: 0.6503 - val_loss: 0.6519 - val_accuracy: 0.6643\n",
      "Epoch 4/50\n",
      "58/58 [==============================] - 0s 2ms/step - loss: 0.7251 - accuracy: 0.6434 - val_loss: 0.6316 - val_accuracy: 0.7343\n",
      "Epoch 5/50\n",
      "58/58 [==============================] - 0s 2ms/step - loss: 0.6583 - accuracy: 0.6661 - val_loss: 0.6176 - val_accuracy: 0.7343\n",
      "Epoch 6/50\n",
      "58/58 [==============================] - 0s 2ms/step - loss: 0.6490 - accuracy: 0.6696 - val_loss: 0.6088 - val_accuracy: 0.7692\n",
      "Epoch 7/50\n",
      "58/58 [==============================] - 0s 2ms/step - loss: 0.6455 - accuracy: 0.6696 - val_loss: 0.6005 - val_accuracy: 0.7622\n",
      "Epoch 8/50\n",
      "58/58 [==============================] - 0s 2ms/step - loss: 0.6287 - accuracy: 0.6958 - val_loss: 0.5928 - val_accuracy: 0.7622\n",
      "Epoch 9/50\n",
      "58/58 [==============================] - 0s 2ms/step - loss: 0.6294 - accuracy: 0.6853 - val_loss: 0.5803 - val_accuracy: 0.8042\n",
      "Epoch 10/50\n",
      "58/58 [==============================] - 0s 2ms/step - loss: 0.6269 - accuracy: 0.6853 - val_loss: 0.5743 - val_accuracy: 0.8112\n",
      "Epoch 11/50\n",
      "58/58 [==============================] - 0s 2ms/step - loss: 0.6093 - accuracy: 0.7098 - val_loss: 0.5605 - val_accuracy: 0.8112\n",
      "Epoch 12/50\n",
      "58/58 [==============================] - 0s 2ms/step - loss: 0.6001 - accuracy: 0.7220 - val_loss: 0.5515 - val_accuracy: 0.8112\n",
      "Epoch 13/50\n",
      "58/58 [==============================] - 0s 2ms/step - loss: 0.5900 - accuracy: 0.7483 - val_loss: 0.5404 - val_accuracy: 0.8252\n",
      "Epoch 14/50\n",
      "58/58 [==============================] - 0s 2ms/step - loss: 0.5939 - accuracy: 0.7308 - val_loss: 0.5367 - val_accuracy: 0.8252\n",
      "Epoch 15/50\n",
      "58/58 [==============================] - 0s 2ms/step - loss: 0.5708 - accuracy: 0.7657 - val_loss: 0.5246 - val_accuracy: 0.8252\n",
      "Epoch 16/50\n",
      "58/58 [==============================] - 0s 2ms/step - loss: 0.5765 - accuracy: 0.7745 - val_loss: 0.5144 - val_accuracy: 0.8182\n",
      "Epoch 17/50\n",
      "58/58 [==============================] - 0s 2ms/step - loss: 0.5667 - accuracy: 0.7780 - val_loss: 0.5148 - val_accuracy: 0.8322\n",
      "Epoch 18/50\n",
      "58/58 [==============================] - 0s 2ms/step - loss: 0.5406 - accuracy: 0.7867 - val_loss: 0.5024 - val_accuracy: 0.8252\n",
      "Epoch 19/50\n",
      "58/58 [==============================] - 0s 2ms/step - loss: 0.5455 - accuracy: 0.7762 - val_loss: 0.4980 - val_accuracy: 0.8322\n",
      "Epoch 20/50\n",
      "58/58 [==============================] - 0s 2ms/step - loss: 0.5471 - accuracy: 0.7745 - val_loss: 0.4977 - val_accuracy: 0.8322\n",
      "Epoch 21/50\n",
      "58/58 [==============================] - 0s 2ms/step - loss: 0.5399 - accuracy: 0.7937 - val_loss: 0.4965 - val_accuracy: 0.8392\n",
      "Epoch 22/50\n",
      "58/58 [==============================] - 0s 2ms/step - loss: 0.5329 - accuracy: 0.7832 - val_loss: 0.4875 - val_accuracy: 0.8322\n",
      "Epoch 23/50\n",
      "58/58 [==============================] - 0s 2ms/step - loss: 0.5389 - accuracy: 0.7815 - val_loss: 0.4883 - val_accuracy: 0.8322\n",
      "Epoch 24/50\n",
      "58/58 [==============================] - 0s 2ms/step - loss: 0.5184 - accuracy: 0.7972 - val_loss: 0.4836 - val_accuracy: 0.8322\n",
      "Epoch 25/50\n",
      "58/58 [==============================] - 0s 2ms/step - loss: 0.5227 - accuracy: 0.7850 - val_loss: 0.4770 - val_accuracy: 0.8392\n",
      "Epoch 26/50\n",
      "58/58 [==============================] - 0s 2ms/step - loss: 0.5074 - accuracy: 0.7902 - val_loss: 0.4756 - val_accuracy: 0.8252\n",
      "Epoch 27/50\n",
      "58/58 [==============================] - 0s 2ms/step - loss: 0.5359 - accuracy: 0.7745 - val_loss: 0.4771 - val_accuracy: 0.8252\n",
      "Epoch 28/50\n",
      "58/58 [==============================] - 0s 2ms/step - loss: 0.5277 - accuracy: 0.7867 - val_loss: 0.4751 - val_accuracy: 0.8252\n",
      "Epoch 29/50\n",
      "58/58 [==============================] - 0s 2ms/step - loss: 0.5159 - accuracy: 0.7815 - val_loss: 0.4675 - val_accuracy: 0.8322\n",
      "Epoch 30/50\n",
      "58/58 [==============================] - 0s 3ms/step - loss: 0.5095 - accuracy: 0.7990 - val_loss: 0.4677 - val_accuracy: 0.8252\n",
      "Epoch 31/50\n",
      "58/58 [==============================] - 0s 2ms/step - loss: 0.5042 - accuracy: 0.8252 - val_loss: 0.4641 - val_accuracy: 0.8252\n",
      "Epoch 32/50\n",
      "58/58 [==============================] - 0s 2ms/step - loss: 0.5133 - accuracy: 0.7955 - val_loss: 0.4630 - val_accuracy: 0.8322\n",
      "Epoch 33/50\n",
      "58/58 [==============================] - 0s 2ms/step - loss: 0.5010 - accuracy: 0.7937 - val_loss: 0.4614 - val_accuracy: 0.8392\n",
      "Epoch 34/50\n",
      "58/58 [==============================] - 0s 3ms/step - loss: 0.5412 - accuracy: 0.7832 - val_loss: 0.4616 - val_accuracy: 0.8392\n",
      "Epoch 35/50\n",
      "58/58 [==============================] - 0s 2ms/step - loss: 0.5177 - accuracy: 0.7762 - val_loss: 0.4611 - val_accuracy: 0.8462\n",
      "Epoch 36/50\n",
      "58/58 [==============================] - 0s 2ms/step - loss: 0.5010 - accuracy: 0.8007 - val_loss: 0.4575 - val_accuracy: 0.8462\n",
      "Epoch 37/50\n",
      "58/58 [==============================] - 0s 2ms/step - loss: 0.5212 - accuracy: 0.7832 - val_loss: 0.4573 - val_accuracy: 0.8462\n",
      "Epoch 38/50\n",
      "58/58 [==============================] - 0s 2ms/step - loss: 0.4872 - accuracy: 0.7990 - val_loss: 0.4554 - val_accuracy: 0.8462\n",
      "Epoch 39/50\n",
      "58/58 [==============================] - 0s 2ms/step - loss: 0.5048 - accuracy: 0.7850 - val_loss: 0.4556 - val_accuracy: 0.8392\n",
      "Epoch 40/50\n",
      "58/58 [==============================] - 0s 2ms/step - loss: 0.5150 - accuracy: 0.7920 - val_loss: 0.4598 - val_accuracy: 0.8462\n",
      "Epoch 41/50\n",
      "58/58 [==============================] - 0s 2ms/step - loss: 0.5059 - accuracy: 0.8007 - val_loss: 0.4543 - val_accuracy: 0.8392\n",
      "Epoch 42/50\n",
      "58/58 [==============================] - 0s 2ms/step - loss: 0.4827 - accuracy: 0.8112 - val_loss: 0.4528 - val_accuracy: 0.8392\n",
      "Epoch 43/50\n",
      "58/58 [==============================] - 0s 2ms/step - loss: 0.4905 - accuracy: 0.8042 - val_loss: 0.4512 - val_accuracy: 0.8462\n",
      "Epoch 44/50\n",
      "58/58 [==============================] - 0s 2ms/step - loss: 0.4999 - accuracy: 0.7972 - val_loss: 0.4505 - val_accuracy: 0.8462\n",
      "Epoch 45/50\n",
      "58/58 [==============================] - 0s 2ms/step - loss: 0.4876 - accuracy: 0.7955 - val_loss: 0.4458 - val_accuracy: 0.8462\n",
      "Epoch 46/50\n",
      "58/58 [==============================] - 0s 2ms/step - loss: 0.4870 - accuracy: 0.8094 - val_loss: 0.4450 - val_accuracy: 0.8462\n",
      "Epoch 47/50\n",
      "58/58 [==============================] - 0s 2ms/step - loss: 0.4822 - accuracy: 0.8024 - val_loss: 0.4447 - val_accuracy: 0.8462\n",
      "Epoch 48/50\n",
      "58/58 [==============================] - 0s 2ms/step - loss: 0.4919 - accuracy: 0.7972 - val_loss: 0.4488 - val_accuracy: 0.8392\n",
      "Epoch 49/50\n",
      "58/58 [==============================] - 0s 2ms/step - loss: 0.5050 - accuracy: 0.7990 - val_loss: 0.4506 - val_accuracy: 0.8392\n",
      "Epoch 50/50\n",
      "58/58 [==============================] - 0s 2ms/step - loss: 0.4821 - accuracy: 0.8042 - val_loss: 0.4461 - val_accuracy: 0.8322\n"
     ]
    }
   ],
   "source": [
    "history = model.fit(X_train_transformed,y_train,epochs=50,batch_size=10,validation_split=0.2)"
   ]
  },
  {
   "cell_type": "code",
   "execution_count": 86,
   "id": "a37c838d",
   "metadata": {
    "ExecuteTime": {
     "end_time": "2023-05-24T11:52:14.860310Z",
     "start_time": "2023-05-24T11:52:14.738190Z"
    }
   },
   "outputs": [
    {
     "name": "stdout",
     "output_type": "stream",
     "text": [
      "6/6 [==============================] - 0s 1ms/step\n"
     ]
    },
    {
     "data": {
      "text/plain": [
       "array([[0.07995369],\n",
       "       [0.07719833],\n",
       "       [0.08643697],\n",
       "       [0.611656  ],\n",
       "       [0.16078763],\n",
       "       [0.7223839 ],\n",
       "       [0.73532236],\n",
       "       [0.73532236],\n",
       "       [0.7284523 ],\n",
       "       [0.73532236],\n",
       "       [0.6199002 ],\n",
       "       [0.73532236],\n",
       "       [0.73532236],\n",
       "       [0.38308525],\n",
       "       [0.73532236],\n",
       "       [0.73532236],\n",
       "       [0.73532236],\n",
       "       [0.7146526 ],\n",
       "       [0.25151452],\n",
       "       [0.73532236],\n",
       "       [0.70315367],\n",
       "       [0.73532236],\n",
       "       [0.6982913 ],\n",
       "       [0.73532236],\n",
       "       [0.73532236],\n",
       "       [0.7060906 ],\n",
       "       [0.08242631],\n",
       "       [0.23911785],\n",
       "       [0.05038308],\n",
       "       [0.11001512],\n",
       "       [0.73532236],\n",
       "       [0.24259469],\n",
       "       [0.26065177],\n",
       "       [0.7152183 ],\n",
       "       [0.06489069],\n",
       "       [0.20989157],\n",
       "       [0.73532236],\n",
       "       [0.69050837],\n",
       "       [0.06208077],\n",
       "       [0.07800073],\n",
       "       [0.5445732 ],\n",
       "       [0.73532236],\n",
       "       [0.09855141],\n",
       "       [0.03923504],\n",
       "       [0.73532236],\n",
       "       [0.73532236],\n",
       "       [0.73220843],\n",
       "       [0.73532236],\n",
       "       [0.0719007 ],\n",
       "       [0.26863453],\n",
       "       [0.73532236],\n",
       "       [0.24452405],\n",
       "       [0.73532236],\n",
       "       [0.15221564],\n",
       "       [0.73532236],\n",
       "       [0.11774416],\n",
       "       [0.05847321],\n",
       "       [0.11016279],\n",
       "       [0.09339552],\n",
       "       [0.73532236],\n",
       "       [0.18418838],\n",
       "       [0.73532236],\n",
       "       [0.73532236],\n",
       "       [0.12713894],\n",
       "       [0.73532236],\n",
       "       [0.1867282 ],\n",
       "       [0.73532236],\n",
       "       [0.73532236],\n",
       "       [0.73532236],\n",
       "       [0.5757021 ],\n",
       "       [0.13031238],\n",
       "       [0.2245943 ],\n",
       "       [0.73532236],\n",
       "       [0.07996432],\n",
       "       [0.22718067],\n",
       "       [0.13228127],\n",
       "       [0.6688693 ],\n",
       "       [0.10948312],\n",
       "       [0.73532236],\n",
       "       [0.08522915],\n",
       "       [0.73532236],\n",
       "       [0.73532236],\n",
       "       [0.73532236],\n",
       "       [0.06970199],\n",
       "       [0.09692666],\n",
       "       [0.73532236],\n",
       "       [0.28981513],\n",
       "       [0.73532236],\n",
       "       [0.73532236],\n",
       "       [0.13622347],\n",
       "       [0.73532236],\n",
       "       [0.73532236],\n",
       "       [0.6590775 ],\n",
       "       [0.44114408],\n",
       "       [0.09656185],\n",
       "       [0.08542155],\n",
       "       [0.73532236],\n",
       "       [0.72468865],\n",
       "       [0.1467443 ],\n",
       "       [0.16103366],\n",
       "       [0.73532236],\n",
       "       [0.6155162 ],\n",
       "       [0.72886026],\n",
       "       [0.15574177],\n",
       "       [0.73532236],\n",
       "       [0.46092635],\n",
       "       [0.13477135],\n",
       "       [0.1574725 ],\n",
       "       [0.73532236],\n",
       "       [0.07413892],\n",
       "       [0.73532236],\n",
       "       [0.73356384],\n",
       "       [0.73532236],\n",
       "       [0.66858494],\n",
       "       [0.09244753],\n",
       "       [0.73532236],\n",
       "       [0.1622278 ],\n",
       "       [0.13795792],\n",
       "       [0.73532236],\n",
       "       [0.12604913],\n",
       "       [0.73532236],\n",
       "       [0.73532236],\n",
       "       [0.22680977],\n",
       "       [0.5978586 ],\n",
       "       [0.73532236],\n",
       "       [0.73532236],\n",
       "       [0.04064051],\n",
       "       [0.73532236],\n",
       "       [0.60296667],\n",
       "       [0.275317  ],\n",
       "       [0.73532236],\n",
       "       [0.73532236],\n",
       "       [0.6871134 ],\n",
       "       [0.26879057],\n",
       "       [0.73532236],\n",
       "       [0.04810781],\n",
       "       [0.1799216 ],\n",
       "       [0.11777285],\n",
       "       [0.73532236],\n",
       "       [0.31360826],\n",
       "       [0.7065452 ],\n",
       "       [0.11796888],\n",
       "       [0.7345333 ],\n",
       "       [0.73532236],\n",
       "       [0.73532236],\n",
       "       [0.7336977 ],\n",
       "       [0.73532236],\n",
       "       [0.48724565],\n",
       "       [0.3469587 ],\n",
       "       [0.05945968],\n",
       "       [0.73532236],\n",
       "       [0.73532236],\n",
       "       [0.73532236],\n",
       "       [0.73532236],\n",
       "       [0.12585142],\n",
       "       [0.05125642],\n",
       "       [0.73532236],\n",
       "       [0.39304605],\n",
       "       [0.73532236],\n",
       "       [0.09015133],\n",
       "       [0.67718923],\n",
       "       [0.73532236],\n",
       "       [0.1207835 ],\n",
       "       [0.67353547],\n",
       "       [0.10955469],\n",
       "       [0.35352024],\n",
       "       [0.7327819 ],\n",
       "       [0.73532236],\n",
       "       [0.73167336],\n",
       "       [0.5890453 ],\n",
       "       [0.73532236],\n",
       "       [0.73532236],\n",
       "       [0.13239747],\n",
       "       [0.73532236],\n",
       "       [0.73532236],\n",
       "       [0.73532236],\n",
       "       [0.73532236],\n",
       "       [0.09485454],\n",
       "       [0.73532236]], dtype=float32)"
      ]
     },
     "execution_count": 86,
     "metadata": {},
     "output_type": "execute_result"
    }
   ],
   "source": [
    "y_pred = model.predict(X_test_transformed)\n",
    "y_pred"
   ]
  },
  {
   "cell_type": "code",
   "execution_count": 87,
   "id": "585c3d60",
   "metadata": {
    "ExecuteTime": {
     "end_time": "2023-05-24T11:52:14.875486Z",
     "start_time": "2023-05-24T11:52:14.861308Z"
    }
   },
   "outputs": [
    {
     "data": {
      "text/plain": [
       "array([[0],\n",
       "       [0],\n",
       "       [0],\n",
       "       [1],\n",
       "       [0],\n",
       "       [1],\n",
       "       [1],\n",
       "       [1],\n",
       "       [1],\n",
       "       [1],\n",
       "       [1],\n",
       "       [1],\n",
       "       [1],\n",
       "       [0],\n",
       "       [1],\n",
       "       [1],\n",
       "       [1],\n",
       "       [1],\n",
       "       [0],\n",
       "       [1],\n",
       "       [1],\n",
       "       [1],\n",
       "       [1],\n",
       "       [1],\n",
       "       [1],\n",
       "       [1],\n",
       "       [0],\n",
       "       [0],\n",
       "       [0],\n",
       "       [0],\n",
       "       [1],\n",
       "       [0],\n",
       "       [0],\n",
       "       [1],\n",
       "       [0],\n",
       "       [0],\n",
       "       [1],\n",
       "       [1],\n",
       "       [0],\n",
       "       [0],\n",
       "       [1],\n",
       "       [1],\n",
       "       [0],\n",
       "       [0],\n",
       "       [1],\n",
       "       [1],\n",
       "       [1],\n",
       "       [1],\n",
       "       [0],\n",
       "       [0],\n",
       "       [1],\n",
       "       [0],\n",
       "       [1],\n",
       "       [0],\n",
       "       [1],\n",
       "       [0],\n",
       "       [0],\n",
       "       [0],\n",
       "       [0],\n",
       "       [1],\n",
       "       [0],\n",
       "       [1],\n",
       "       [1],\n",
       "       [0],\n",
       "       [1],\n",
       "       [0],\n",
       "       [1],\n",
       "       [1],\n",
       "       [1],\n",
       "       [1],\n",
       "       [0],\n",
       "       [0],\n",
       "       [1],\n",
       "       [0],\n",
       "       [0],\n",
       "       [0],\n",
       "       [1],\n",
       "       [0],\n",
       "       [1],\n",
       "       [0],\n",
       "       [1],\n",
       "       [1],\n",
       "       [1],\n",
       "       [0],\n",
       "       [0],\n",
       "       [1],\n",
       "       [0],\n",
       "       [1],\n",
       "       [1],\n",
       "       [0],\n",
       "       [1],\n",
       "       [1],\n",
       "       [1],\n",
       "       [0],\n",
       "       [0],\n",
       "       [0],\n",
       "       [1],\n",
       "       [1],\n",
       "       [0],\n",
       "       [0],\n",
       "       [1],\n",
       "       [1],\n",
       "       [1],\n",
       "       [0],\n",
       "       [1],\n",
       "       [0],\n",
       "       [0],\n",
       "       [0],\n",
       "       [1],\n",
       "       [0],\n",
       "       [1],\n",
       "       [1],\n",
       "       [1],\n",
       "       [1],\n",
       "       [0],\n",
       "       [1],\n",
       "       [0],\n",
       "       [0],\n",
       "       [1],\n",
       "       [0],\n",
       "       [1],\n",
       "       [1],\n",
       "       [0],\n",
       "       [1],\n",
       "       [1],\n",
       "       [1],\n",
       "       [0],\n",
       "       [1],\n",
       "       [1],\n",
       "       [0],\n",
       "       [1],\n",
       "       [1],\n",
       "       [1],\n",
       "       [0],\n",
       "       [1],\n",
       "       [0],\n",
       "       [0],\n",
       "       [0],\n",
       "       [1],\n",
       "       [0],\n",
       "       [1],\n",
       "       [0],\n",
       "       [1],\n",
       "       [1],\n",
       "       [1],\n",
       "       [1],\n",
       "       [1],\n",
       "       [0],\n",
       "       [0],\n",
       "       [0],\n",
       "       [1],\n",
       "       [1],\n",
       "       [1],\n",
       "       [1],\n",
       "       [0],\n",
       "       [0],\n",
       "       [1],\n",
       "       [0],\n",
       "       [1],\n",
       "       [0],\n",
       "       [1],\n",
       "       [1],\n",
       "       [0],\n",
       "       [1],\n",
       "       [0],\n",
       "       [0],\n",
       "       [1],\n",
       "       [1],\n",
       "       [1],\n",
       "       [1],\n",
       "       [1],\n",
       "       [1],\n",
       "       [0],\n",
       "       [1],\n",
       "       [1],\n",
       "       [1],\n",
       "       [1],\n",
       "       [0],\n",
       "       [1]])"
      ]
     },
     "execution_count": 87,
     "metadata": {},
     "output_type": "execute_result"
    }
   ],
   "source": [
    "y_pred_trans = np.where(y_pred>0.5,1,0)\n",
    "y_pred_trans"
   ]
  },
  {
   "cell_type": "code",
   "execution_count": 88,
   "id": "2f94bcd7",
   "metadata": {
    "ExecuteTime": {
     "end_time": "2023-05-24T11:52:15.513723Z",
     "start_time": "2023-05-24T11:52:15.492721Z"
    }
   },
   "outputs": [
    {
     "data": {
      "text/plain": [
       "0.8324022346368715"
      ]
     },
     "execution_count": 88,
     "metadata": {},
     "output_type": "execute_result"
    }
   ],
   "source": [
    "from sklearn.metrics import accuracy_score, recall_score\n",
    "accuracy_score(y_test,y_pred_trans)"
   ]
  },
  {
   "cell_type": "code",
   "execution_count": 89,
   "id": "d29af10a",
   "metadata": {
    "ExecuteTime": {
     "end_time": "2023-05-24T11:52:17.686685Z",
     "start_time": "2023-05-24T11:52:17.664677Z"
    }
   },
   "outputs": [
    {
     "data": {
      "text/plain": [
       "0.9111111111111111"
      ]
     },
     "execution_count": 89,
     "metadata": {},
     "output_type": "execute_result"
    }
   ],
   "source": [
    "recall_score(y_test,y_pred_trans)"
   ]
  },
  {
   "cell_type": "code",
   "execution_count": 90,
   "id": "22e635df",
   "metadata": {
    "ExecuteTime": {
     "end_time": "2023-05-24T11:52:19.997796Z",
     "start_time": "2023-05-24T11:52:19.988281Z"
    }
   },
   "outputs": [],
   "source": [
    "val_loss = history.history['val_loss']\n",
    "loss = history.history['loss']"
   ]
  },
  {
   "cell_type": "code",
   "execution_count": 91,
   "id": "5784d37c",
   "metadata": {
    "ExecuteTime": {
     "end_time": "2023-05-24T11:52:20.741462Z",
     "start_time": "2023-05-24T11:52:20.620648Z"
    }
   },
   "outputs": [
    {
     "data": {
      "image/png": "[encoded data removed]",
      "text/plain": [
       "<Figure size 640x480 with 1 Axes>"
      ]
     },
     "metadata": {},
     "output_type": "display_data"
    }
   ],
   "source": [
    "plt.plot(loss)\n",
    "plt.plot(val_loss);"
   ]
  },
  {
   "cell_type": "markdown",
   "id": "3d13bb42",
   "metadata": {},
   "source": [
    "## Conculsion:\n",
    "1. Accuracy score of 83.24% and recall score of 91.11 is by using relu and sigmoid as activation function.\n",
    "2. **`Model Architecture:`** \n",
    "* 1 is input layer with 6 dimensions and kernel_initializer as **`he_normal`**.\n",
    "* 3 hidden layer with relu activation function and with two dropout as 0.2. \n",
    "* sigmoid as the activation function used in the output layer."
   ]
  },
  {
   "cell_type": "markdown",
   "id": "82eb82ec",
   "metadata": {},
   "source": [
    "____"
   ]
  }
 ],
 "metadata": {
  "kernelspec": {
   "display_name": "Python 3 (ipykernel)",
   "language": "python",
   "name": "python3"
  },
  "language_info": {
   "codemirror_mode": {
    "name": "ipython",
    "version": 3
   },
   "file_extension": ".py",
   "mimetype": "text/x-python",
   "name": "python",
   "nbconvert_exporter": "python",
   "pygments_lexer": "ipython3",
   "version": "3.9.12"
  }
 },
 "nbformat": 4,
 "nbformat_minor": 5
}
